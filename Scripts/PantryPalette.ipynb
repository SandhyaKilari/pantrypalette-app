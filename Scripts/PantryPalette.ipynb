{
 "cells": [
  {
   "cell_type": "markdown",
   "id": "90c5f1d1-db55-4540-9c49-a210df07319f",
   "metadata": {},
   "source": [
    "<center><h1>PantryPalette: Your Ingredient-Inspired Recipe Guide</h1></center>"
   ]
  },
  {
   "cell_type": "markdown",
   "id": "ba96852a-3d1c-4025-b840-0216c111c5ae",
   "metadata": {},
   "source": [
    "# Problem Statement"
   ]
  },
  {
   "cell_type": "markdown",
   "id": "c1c01efc-ac5f-4663-ac93-26faa45cadd5",
   "metadata": {},
   "source": [
    "Every day, households struggle with unused ingredients in their kitchens, often leading to food waste due\n",
    "to a lack of inspiration or knowledge on how to use them effectively. Many individuals resort to takeout\n",
    "or repetitive meals, simply because they don’t know what to cook with the ingredients they already have.\n",
    "\n",
    "\n",
    "Meanwhile, traditional recipe search methods require manual browsing through extensive databases,\n",
    "leading to time-consuming and frustrating experiences. Users with dietary restrictions, allergies, or\n",
    "cultural food preferences face an additional challenge in finding recipes that align with their needs.\n",
    "\n",
    "PantryPalette is designed to solve this problem by offering a seamless, ingredient-based recipe discovery\n",
    "experience that helps users maximize their groceries, reduce food waste, and discover new meal ideas\n",
    "with ease."
   ]
  },
  {
   "cell_type": "markdown",
   "id": "0eede9b6",
   "metadata": {},
   "source": [
    "# Purpose"
   ]
  },
  {
   "cell_type": "markdown",
   "id": "f4adf9de",
   "metadata": {},
   "source": [
    "The purpose of the MLOps project is to develop an end-to-end data science solution that is usable by someone with no technical knowledge. \n",
    "\n",
    "It must include the following components\n",
    "- A process map built which documents the process\n",
    "- Data ingested from an online source\n",
    "- A data repository and model repository\n",
    "- A predictive model built off the data\n",
    "- The model predictions\n",
    "\n",
    "  a. Put into a Streamlit application\n",
    "\n",
    "  b. Via a Docker deployment\n",
    "\n",
    "  c. Which is accessible to users\n",
    "  \n",
    "- A model monitoring dashboard built\n",
    "- Documentation for the model process and risks with the production\n",
    "\n",
    "The purpose is not to have a complex model. It is meant to have a simpler model that works! All of this is to be done in teams of 2, along with individual users. Both the modeling teams and users will take part in the presentations"
   ]
  },
  {
   "cell_type": "markdown",
   "id": "3a311d96",
   "metadata": {},
   "source": [
    "Online Data Ingestion - ReceipeNLG and PinchOfYum (Web Scraped Data)\n",
    "->\n",
    "Data Repo - SQL Lite\n",
    "Model Repo - MLFLOW\n",
    "Predictive Model - (TDIDF + )\n"
   ]
  },
  {
   "cell_type": "markdown",
   "id": "8cc49dbf-028f-4eca-8dfe-d6d7248d171c",
   "metadata": {},
   "source": [
    "# Workflow"
   ]
  },
  {
   "cell_type": "markdown",
   "id": "061cd67b-f867-4d84-842c-2ac1282c5496",
   "metadata": {},
   "source": [
    "```mermaid\n",
    "graph TD;\n",
    "    A[User Inputs Ingredients] --> B[Preprocessing]\n",
    "    B --> C[Tokenization & Standardization]\n",
    "    C --> D[Feature Engineering]\n",
    "    D --> E[TF-IDF Vectorization]\n",
    "    E --> F[Cosine Similarity Calculation]\n",
    "    F --> G[Retrieve Relevant Recipes]\n",
    "    G --> H[Rank Recipes Based on Similarity]\n",
    "    H --> I[Provide Alternative Ingredient Suggestions]\n",
    "    I --> J[Display Recipes with Ingredients & Instructions]"
   ]
  },
  {
   "cell_type": "markdown",
   "id": "912886b7-d084-4964-820e-78328eadc0f1",
   "metadata": {},
   "source": [
    "# Implementation"
   ]
  },
  {
   "cell_type": "code",
   "execution_count": null,
   "id": "cff3fb7b",
   "metadata": {},
   "outputs": [],
   "source": [
    "import os\n",
    "import mlflow\n",
    "import mlflow.sklearn\n",
    "from sklearn.model_selection import train_test_split\n",
    "from sklearn.feature_extraction.text import TfidfVectorizer\n",
    "from sklearn.neighbors import NearestNeighbors\n",
    "import joblib\n",
    "from sklearn.metrics.pairwise import cosine_similarity"
   ]
  },
  {
   "cell_type": "markdown",
   "id": "bbc0044d-f7c5-4eca-88c5-c3fc48640870",
   "metadata": {},
   "source": [
    "## Data Collection and Ingestion\n",
    "\n",
    "- Get RecipeNLG data (static data) + Spoonacular API (dynamic data)"
   ]
  },
  {
   "cell_type": "code",
   "execution_count": 1,
   "id": "a96d1b3c",
   "metadata": {},
   "outputs": [],
   "source": [
    "import pandas as pd"
   ]
  },
  {
   "cell_type": "markdown",
   "id": "b6086d10-2a06-49f1-9e2b-8d0aa6d45d7d",
   "metadata": {},
   "source": [
    "### Static Data Collection (RecipeNLG Dataset)\n",
    "\n",
    "- Get RecipeNLG data (static data)"
   ]
  },
  {
   "cell_type": "code",
   "execution_count": 2,
   "id": "aab5e440",
   "metadata": {},
   "outputs": [],
   "source": [
    "receipenlg = pd.read_csv(\"../dataset/RecipeNLG_dataset.csv\")"
   ]
  },
  {
   "cell_type": "code",
   "execution_count": 3,
   "id": "49877b66",
   "metadata": {},
   "outputs": [
    {
     "data": {
      "text/plain": [
       "(2231142, 7)"
      ]
     },
     "execution_count": 3,
     "metadata": {},
     "output_type": "execute_result"
    }
   ],
   "source": [
    "receipenlg.shape"
   ]
  },
  {
   "cell_type": "code",
   "execution_count": 4,
   "id": "128b8636-7baa-4d34-9cbc-2237bea9c2fe",
   "metadata": {},
   "outputs": [
    {
     "data": {
      "application/vnd.microsoft.datawrangler.viewer.v0+json": {
       "columns": [
        {
         "name": "index",
         "rawType": "int64",
         "type": "integer"
        },
        {
         "name": "Unnamed: 0",
         "rawType": "int64",
         "type": "integer"
        },
        {
         "name": "title",
         "rawType": "object",
         "type": "string"
        },
        {
         "name": "ingredients",
         "rawType": "object",
         "type": "string"
        },
        {
         "name": "directions",
         "rawType": "object",
         "type": "string"
        },
        {
         "name": "link",
         "rawType": "object",
         "type": "string"
        },
        {
         "name": "source",
         "rawType": "object",
         "type": "string"
        },
        {
         "name": "NER",
         "rawType": "object",
         "type": "string"
        }
       ],
       "conversionMethod": "pd.DataFrame",
       "ref": "84b2db5d-bbd9-4690-81a2-fe283fec012e",
       "rows": [
        [
         "0",
         "0",
         "No-Bake Nut Cookies",
         "[\"1 c. firmly packed brown sugar\", \"1/2 c. evaporated milk\", \"1/2 tsp. vanilla\", \"1/2 c. broken nuts (pecans)\", \"2 Tbsp. butter or margarine\", \"3 1/2 c. bite size shredded rice biscuits\"]",
         "[\"In a heavy 2-quart saucepan, mix brown sugar, nuts, evaporated milk and butter or margarine.\", \"Stir over medium heat until mixture bubbles all over top.\", \"Boil and stir 5 minutes more. Take off heat.\", \"Stir in vanilla and cereal; mix well.\", \"Using 2 teaspoons, drop and shape into 30 clusters on wax paper.\", \"Let stand until firm, about 30 minutes.\"]",
         "www.cookbooks.com/Recipe-Details.aspx?id=44874",
         "Gathered",
         "[\"brown sugar\", \"milk\", \"vanilla\", \"nuts\", \"butter\", \"bite size shredded rice biscuits\"]"
        ],
        [
         "1",
         "1",
         "Jewell Ball'S Chicken",
         "[\"1 small jar chipped beef, cut up\", \"4 boned chicken breasts\", \"1 can cream of mushroom soup\", \"1 carton sour cream\"]",
         "[\"Place chipped beef on bottom of baking dish.\", \"Place chicken on top of beef.\", \"Mix soup and cream together; pour over chicken. Bake, uncovered, at 275\\u00b0 for 3 hours.\"]",
         "www.cookbooks.com/Recipe-Details.aspx?id=699419",
         "Gathered",
         "[\"beef\", \"chicken breasts\", \"cream of mushroom soup\", \"sour cream\"]"
        ],
        [
         "2",
         "2",
         "Creamy Corn",
         "[\"2 (16 oz.) pkg. frozen corn\", \"1 (8 oz.) pkg. cream cheese, cubed\", \"1/3 c. butter, cubed\", \"1/2 tsp. garlic powder\", \"1/2 tsp. salt\", \"1/4 tsp. pepper\"]",
         "[\"In a slow cooker, combine all ingredients. Cover and cook on low for 4 hours or until heated through and cheese is melted. Stir well before serving. Yields 6 servings.\"]",
         "www.cookbooks.com/Recipe-Details.aspx?id=10570",
         "Gathered",
         "[\"frozen corn\", \"cream cheese\", \"butter\", \"garlic powder\", \"salt\", \"pepper\"]"
        ],
        [
         "3",
         "3",
         "Chicken Funny",
         "[\"1 large whole chicken\", \"2 (10 1/2 oz.) cans chicken gravy\", \"1 (10 1/2 oz.) can cream of mushroom soup\", \"1 (6 oz.) box Stove Top stuffing\", \"4 oz. shredded cheese\"]",
         "[\"Boil and debone chicken.\", \"Put bite size pieces in average size square casserole dish.\", \"Pour gravy and cream of mushroom soup over chicken; level.\", \"Make stuffing according to instructions on box (do not make too moist).\", \"Put stuffing on top of chicken and gravy; level.\", \"Sprinkle shredded cheese on top and bake at 350\\u00b0 for approximately 20 minutes or until golden and bubbly.\"]",
         "www.cookbooks.com/Recipe-Details.aspx?id=897570",
         "Gathered",
         "[\"chicken\", \"chicken gravy\", \"cream of mushroom soup\", \"shredded cheese\"]"
        ],
        [
         "4",
         "4",
         "Reeses Cups(Candy)  ",
         "[\"1 c. peanut butter\", \"3/4 c. graham cracker crumbs\", \"1 c. melted butter\", \"1 lb. (3 1/2 c.) powdered sugar\", \"1 large pkg. chocolate chips\"]",
         "[\"Combine first four ingredients and press in 13 x 9-inch ungreased pan.\", \"Melt chocolate chips and spread over mixture. Refrigerate for about 20 minutes and cut into pieces before chocolate gets hard.\", \"Keep in refrigerator.\"]",
         "www.cookbooks.com/Recipe-Details.aspx?id=659239",
         "Gathered",
         "[\"peanut butter\", \"graham cracker crumbs\", \"butter\", \"powdered sugar\", \"chocolate chips\"]"
        ]
       ],
       "shape": {
        "columns": 7,
        "rows": 5
       }
      },
      "text/html": [
       "<div>\n",
       "<style scoped>\n",
       "    .dataframe tbody tr th:only-of-type {\n",
       "        vertical-align: middle;\n",
       "    }\n",
       "\n",
       "    .dataframe tbody tr th {\n",
       "        vertical-align: top;\n",
       "    }\n",
       "\n",
       "    .dataframe thead th {\n",
       "        text-align: right;\n",
       "    }\n",
       "</style>\n",
       "<table border=\"1\" class=\"dataframe\">\n",
       "  <thead>\n",
       "    <tr style=\"text-align: right;\">\n",
       "      <th></th>\n",
       "      <th>Unnamed: 0</th>\n",
       "      <th>title</th>\n",
       "      <th>ingredients</th>\n",
       "      <th>directions</th>\n",
       "      <th>link</th>\n",
       "      <th>source</th>\n",
       "      <th>NER</th>\n",
       "    </tr>\n",
       "  </thead>\n",
       "  <tbody>\n",
       "    <tr>\n",
       "      <th>0</th>\n",
       "      <td>0</td>\n",
       "      <td>No-Bake Nut Cookies</td>\n",
       "      <td>[\"1 c. firmly packed brown sugar\", \"1/2 c. eva...</td>\n",
       "      <td>[\"In a heavy 2-quart saucepan, mix brown sugar...</td>\n",
       "      <td>www.cookbooks.com/Recipe-Details.aspx?id=44874</td>\n",
       "      <td>Gathered</td>\n",
       "      <td>[\"brown sugar\", \"milk\", \"vanilla\", \"nuts\", \"bu...</td>\n",
       "    </tr>\n",
       "    <tr>\n",
       "      <th>1</th>\n",
       "      <td>1</td>\n",
       "      <td>Jewell Ball'S Chicken</td>\n",
       "      <td>[\"1 small jar chipped beef, cut up\", \"4 boned ...</td>\n",
       "      <td>[\"Place chipped beef on bottom of baking dish....</td>\n",
       "      <td>www.cookbooks.com/Recipe-Details.aspx?id=699419</td>\n",
       "      <td>Gathered</td>\n",
       "      <td>[\"beef\", \"chicken breasts\", \"cream of mushroom...</td>\n",
       "    </tr>\n",
       "    <tr>\n",
       "      <th>2</th>\n",
       "      <td>2</td>\n",
       "      <td>Creamy Corn</td>\n",
       "      <td>[\"2 (16 oz.) pkg. frozen corn\", \"1 (8 oz.) pkg...</td>\n",
       "      <td>[\"In a slow cooker, combine all ingredients. C...</td>\n",
       "      <td>www.cookbooks.com/Recipe-Details.aspx?id=10570</td>\n",
       "      <td>Gathered</td>\n",
       "      <td>[\"frozen corn\", \"cream cheese\", \"butter\", \"gar...</td>\n",
       "    </tr>\n",
       "    <tr>\n",
       "      <th>3</th>\n",
       "      <td>3</td>\n",
       "      <td>Chicken Funny</td>\n",
       "      <td>[\"1 large whole chicken\", \"2 (10 1/2 oz.) cans...</td>\n",
       "      <td>[\"Boil and debone chicken.\", \"Put bite size pi...</td>\n",
       "      <td>www.cookbooks.com/Recipe-Details.aspx?id=897570</td>\n",
       "      <td>Gathered</td>\n",
       "      <td>[\"chicken\", \"chicken gravy\", \"cream of mushroo...</td>\n",
       "    </tr>\n",
       "    <tr>\n",
       "      <th>4</th>\n",
       "      <td>4</td>\n",
       "      <td>Reeses Cups(Candy)</td>\n",
       "      <td>[\"1 c. peanut butter\", \"3/4 c. graham cracker ...</td>\n",
       "      <td>[\"Combine first four ingredients and press in ...</td>\n",
       "      <td>www.cookbooks.com/Recipe-Details.aspx?id=659239</td>\n",
       "      <td>Gathered</td>\n",
       "      <td>[\"peanut butter\", \"graham cracker crumbs\", \"bu...</td>\n",
       "    </tr>\n",
       "  </tbody>\n",
       "</table>\n",
       "</div>"
      ],
      "text/plain": [
       "   Unnamed: 0                  title  \\\n",
       "0           0    No-Bake Nut Cookies   \n",
       "1           1  Jewell Ball'S Chicken   \n",
       "2           2            Creamy Corn   \n",
       "3           3          Chicken Funny   \n",
       "4           4   Reeses Cups(Candy)     \n",
       "\n",
       "                                         ingredients  \\\n",
       "0  [\"1 c. firmly packed brown sugar\", \"1/2 c. eva...   \n",
       "1  [\"1 small jar chipped beef, cut up\", \"4 boned ...   \n",
       "2  [\"2 (16 oz.) pkg. frozen corn\", \"1 (8 oz.) pkg...   \n",
       "3  [\"1 large whole chicken\", \"2 (10 1/2 oz.) cans...   \n",
       "4  [\"1 c. peanut butter\", \"3/4 c. graham cracker ...   \n",
       "\n",
       "                                          directions  \\\n",
       "0  [\"In a heavy 2-quart saucepan, mix brown sugar...   \n",
       "1  [\"Place chipped beef on bottom of baking dish....   \n",
       "2  [\"In a slow cooker, combine all ingredients. C...   \n",
       "3  [\"Boil and debone chicken.\", \"Put bite size pi...   \n",
       "4  [\"Combine first four ingredients and press in ...   \n",
       "\n",
       "                                              link    source  \\\n",
       "0   www.cookbooks.com/Recipe-Details.aspx?id=44874  Gathered   \n",
       "1  www.cookbooks.com/Recipe-Details.aspx?id=699419  Gathered   \n",
       "2   www.cookbooks.com/Recipe-Details.aspx?id=10570  Gathered   \n",
       "3  www.cookbooks.com/Recipe-Details.aspx?id=897570  Gathered   \n",
       "4  www.cookbooks.com/Recipe-Details.aspx?id=659239  Gathered   \n",
       "\n",
       "                                                 NER  \n",
       "0  [\"brown sugar\", \"milk\", \"vanilla\", \"nuts\", \"bu...  \n",
       "1  [\"beef\", \"chicken breasts\", \"cream of mushroom...  \n",
       "2  [\"frozen corn\", \"cream cheese\", \"butter\", \"gar...  \n",
       "3  [\"chicken\", \"chicken gravy\", \"cream of mushroo...  \n",
       "4  [\"peanut butter\", \"graham cracker crumbs\", \"bu...  "
      ]
     },
     "execution_count": 4,
     "metadata": {},
     "output_type": "execute_result"
    }
   ],
   "source": [
    "receipenlg.head()"
   ]
  },
  {
   "cell_type": "code",
   "execution_count": 5,
   "id": "f61acc5a",
   "metadata": {},
   "outputs": [],
   "source": [
    "# receipenlg = receipenlg.sample(n=10000, random_state=42).reset_index(drop=True)\n",
    "# receipenlg.shape"
   ]
  },
  {
   "cell_type": "code",
   "execution_count": 6,
   "id": "d8f4556f",
   "metadata": {},
   "outputs": [
    {
     "name": "stdout",
     "output_type": "stream",
     "text": [
      "<class 'pandas.core.frame.DataFrame'>\n",
      "RangeIndex: 2231142 entries, 0 to 2231141\n",
      "Data columns (total 7 columns):\n",
      " #   Column       Dtype \n",
      "---  ------       ----- \n",
      " 0   Unnamed: 0   int64 \n",
      " 1   title        object\n",
      " 2   ingredients  object\n",
      " 3   directions   object\n",
      " 4   link         object\n",
      " 5   source       object\n",
      " 6   NER          object\n",
      "dtypes: int64(1), object(6)\n",
      "memory usage: 119.2+ MB\n"
     ]
    }
   ],
   "source": [
    "receipenlg.info()"
   ]
  },
  {
   "cell_type": "code",
   "execution_count": 7,
   "id": "1671141d",
   "metadata": {},
   "outputs": [
    {
     "data": {
      "application/vnd.microsoft.datawrangler.viewer.v0+json": {
       "columns": [
        {
         "name": "index",
         "rawType": "int64",
         "type": "integer"
        },
        {
         "name": "title",
         "rawType": "object",
         "type": "string"
        },
        {
         "name": "ingredients",
         "rawType": "object",
         "type": "string"
        },
        {
         "name": "directions",
         "rawType": "object",
         "type": "string"
        }
       ],
       "conversionMethod": "pd.DataFrame",
       "ref": "9bd2423e-12fd-44ec-bc9a-b186b3e9a103",
       "rows": [
        [
         "0",
         "No-Bake Nut Cookies",
         "[\"1 c. firmly packed brown sugar\", \"1/2 c. evaporated milk\", \"1/2 tsp. vanilla\", \"1/2 c. broken nuts (pecans)\", \"2 Tbsp. butter or margarine\", \"3 1/2 c. bite size shredded rice biscuits\"]",
         "[\"In a heavy 2-quart saucepan, mix brown sugar, nuts, evaporated milk and butter or margarine.\", \"Stir over medium heat until mixture bubbles all over top.\", \"Boil and stir 5 minutes more. Take off heat.\", \"Stir in vanilla and cereal; mix well.\", \"Using 2 teaspoons, drop and shape into 30 clusters on wax paper.\", \"Let stand until firm, about 30 minutes.\"]"
        ],
        [
         "1",
         "Jewell Ball'S Chicken",
         "[\"1 small jar chipped beef, cut up\", \"4 boned chicken breasts\", \"1 can cream of mushroom soup\", \"1 carton sour cream\"]",
         "[\"Place chipped beef on bottom of baking dish.\", \"Place chicken on top of beef.\", \"Mix soup and cream together; pour over chicken. Bake, uncovered, at 275\\u00b0 for 3 hours.\"]"
        ],
        [
         "2",
         "Creamy Corn",
         "[\"2 (16 oz.) pkg. frozen corn\", \"1 (8 oz.) pkg. cream cheese, cubed\", \"1/3 c. butter, cubed\", \"1/2 tsp. garlic powder\", \"1/2 tsp. salt\", \"1/4 tsp. pepper\"]",
         "[\"In a slow cooker, combine all ingredients. Cover and cook on low for 4 hours or until heated through and cheese is melted. Stir well before serving. Yields 6 servings.\"]"
        ],
        [
         "3",
         "Chicken Funny",
         "[\"1 large whole chicken\", \"2 (10 1/2 oz.) cans chicken gravy\", \"1 (10 1/2 oz.) can cream of mushroom soup\", \"1 (6 oz.) box Stove Top stuffing\", \"4 oz. shredded cheese\"]",
         "[\"Boil and debone chicken.\", \"Put bite size pieces in average size square casserole dish.\", \"Pour gravy and cream of mushroom soup over chicken; level.\", \"Make stuffing according to instructions on box (do not make too moist).\", \"Put stuffing on top of chicken and gravy; level.\", \"Sprinkle shredded cheese on top and bake at 350\\u00b0 for approximately 20 minutes or until golden and bubbly.\"]"
        ],
        [
         "4",
         "Reeses Cups(Candy)  ",
         "[\"1 c. peanut butter\", \"3/4 c. graham cracker crumbs\", \"1 c. melted butter\", \"1 lb. (3 1/2 c.) powdered sugar\", \"1 large pkg. chocolate chips\"]",
         "[\"Combine first four ingredients and press in 13 x 9-inch ungreased pan.\", \"Melt chocolate chips and spread over mixture. Refrigerate for about 20 minutes and cut into pieces before chocolate gets hard.\", \"Keep in refrigerator.\"]"
        ]
       ],
       "shape": {
        "columns": 3,
        "rows": 5
       }
      },
      "text/html": [
       "<div>\n",
       "<style scoped>\n",
       "    .dataframe tbody tr th:only-of-type {\n",
       "        vertical-align: middle;\n",
       "    }\n",
       "\n",
       "    .dataframe tbody tr th {\n",
       "        vertical-align: top;\n",
       "    }\n",
       "\n",
       "    .dataframe thead th {\n",
       "        text-align: right;\n",
       "    }\n",
       "</style>\n",
       "<table border=\"1\" class=\"dataframe\">\n",
       "  <thead>\n",
       "    <tr style=\"text-align: right;\">\n",
       "      <th></th>\n",
       "      <th>title</th>\n",
       "      <th>ingredients</th>\n",
       "      <th>directions</th>\n",
       "    </tr>\n",
       "  </thead>\n",
       "  <tbody>\n",
       "    <tr>\n",
       "      <th>0</th>\n",
       "      <td>No-Bake Nut Cookies</td>\n",
       "      <td>[\"1 c. firmly packed brown sugar\", \"1/2 c. eva...</td>\n",
       "      <td>[\"In a heavy 2-quart saucepan, mix brown sugar...</td>\n",
       "    </tr>\n",
       "    <tr>\n",
       "      <th>1</th>\n",
       "      <td>Jewell Ball'S Chicken</td>\n",
       "      <td>[\"1 small jar chipped beef, cut up\", \"4 boned ...</td>\n",
       "      <td>[\"Place chipped beef on bottom of baking dish....</td>\n",
       "    </tr>\n",
       "    <tr>\n",
       "      <th>2</th>\n",
       "      <td>Creamy Corn</td>\n",
       "      <td>[\"2 (16 oz.) pkg. frozen corn\", \"1 (8 oz.) pkg...</td>\n",
       "      <td>[\"In a slow cooker, combine all ingredients. C...</td>\n",
       "    </tr>\n",
       "    <tr>\n",
       "      <th>3</th>\n",
       "      <td>Chicken Funny</td>\n",
       "      <td>[\"1 large whole chicken\", \"2 (10 1/2 oz.) cans...</td>\n",
       "      <td>[\"Boil and debone chicken.\", \"Put bite size pi...</td>\n",
       "    </tr>\n",
       "    <tr>\n",
       "      <th>4</th>\n",
       "      <td>Reeses Cups(Candy)</td>\n",
       "      <td>[\"1 c. peanut butter\", \"3/4 c. graham cracker ...</td>\n",
       "      <td>[\"Combine first four ingredients and press in ...</td>\n",
       "    </tr>\n",
       "  </tbody>\n",
       "</table>\n",
       "</div>"
      ],
      "text/plain": [
       "                   title                                        ingredients  \\\n",
       "0    No-Bake Nut Cookies  [\"1 c. firmly packed brown sugar\", \"1/2 c. eva...   \n",
       "1  Jewell Ball'S Chicken  [\"1 small jar chipped beef, cut up\", \"4 boned ...   \n",
       "2            Creamy Corn  [\"2 (16 oz.) pkg. frozen corn\", \"1 (8 oz.) pkg...   \n",
       "3          Chicken Funny  [\"1 large whole chicken\", \"2 (10 1/2 oz.) cans...   \n",
       "4   Reeses Cups(Candy)    [\"1 c. peanut butter\", \"3/4 c. graham cracker ...   \n",
       "\n",
       "                                          directions  \n",
       "0  [\"In a heavy 2-quart saucepan, mix brown sugar...  \n",
       "1  [\"Place chipped beef on bottom of baking dish....  \n",
       "2  [\"In a slow cooker, combine all ingredients. C...  \n",
       "3  [\"Boil and debone chicken.\", \"Put bite size pi...  \n",
       "4  [\"Combine first four ingredients and press in ...  "
      ]
     },
     "execution_count": 7,
     "metadata": {},
     "output_type": "execute_result"
    }
   ],
   "source": [
    "# Drop unnecessary columns\n",
    "receipenlg.drop(columns=[\"Unnamed: 0\", \"link\", \"source\", \"NER\"], inplace=True)\n",
    "receipenlg.head()"
   ]
  },
  {
   "cell_type": "code",
   "execution_count": 8,
   "id": "bd883622",
   "metadata": {},
   "outputs": [],
   "source": [
    "df_static = receipenlg.copy()"
   ]
  },
  {
   "cell_type": "markdown",
   "id": "41c78fb4-cb9c-47e9-bcf1-976086d9c0a2",
   "metadata": {},
   "source": [
    "### Data Ingestion\n",
    "\n",
    "-  (dynamic data)"
   ]
  },
  {
   "cell_type": "code",
   "execution_count": 9,
   "id": "a042cf20",
   "metadata": {},
   "outputs": [
    {
     "data": {
      "application/vnd.microsoft.datawrangler.viewer.v0+json": {
       "columns": [
        {
         "name": "index",
         "rawType": "int64",
         "type": "integer"
        },
        {
         "name": "image",
         "rawType": "object",
         "type": "string"
        },
        {
         "name": "title",
         "rawType": "object",
         "type": "string"
        },
        {
         "name": "description",
         "rawType": "object",
         "type": "string"
        },
        {
         "name": "total time",
         "rawType": "object",
         "type": "string"
        },
        {
         "name": "ingredients",
         "rawType": "object",
         "type": "string"
        },
        {
         "name": "instructions",
         "rawType": "object",
         "type": "string"
        }
       ],
       "conversionMethod": "pd.DataFrame",
       "ref": "4a314db9-9093-4a58-a26a-3e9e46489c15",
       "rows": [
        [
         "0",
         "https://pinchofyum.com/wp-content/uploads/Italian-Salad-1-Square-183x183.jpg",
         "Big Yummy Italian Salad",
         "I love a big Italian salad! Crisp romaine, salty salami and cheese, briney pepperoncini, and toasty garlic breadcrumbs. YUM!",
         "15 minutes",
         "pepperoncini italian season romain lettuc panko red onion chees provolon salami garlic powder pepperoncini brine parmesan chees",
         "['Prep Salad Stuff: Chop all your salad veggies, meat, cheese, etc.', 'Make Golden Crispy Garlic Panko: Mix panko, oil, and garlic powder in a bowl. Microwave for 1 minute, stir, and microwave again for 20-40 seconds until it’s nice and golden. (It’ll be hot! Don’t taste it yet.) Season with salt.', 'Toss with No-Recipe Dressing: Add all your salad stuff to a large bowl. Drizzle with oil, pepperoncini brine, Italian seasoning, salt and pepper. Toss to combine, taste, adjust, you know the drill. Finish by tossing those golden panko crispies in there! YUM!']"
        ],
        [
         "1",
         "https://pinchofyum.com/wp-content/uploads/Crispy-Rice-Salad-1-Square-183x183.jpg",
         "Crispy Rice Salad with Cucumbers and Herbs",
         "Paper-thin veggies, a shower of herbs, a pile of fried crispy red curry rice, and a limey garlicky vinaigrette all over top. This crispy rice salad is all I want to eat right now!",
         "30 minutes",
         "cornstarch cucumb jasmin rice ginger garlic brown sugar fish sauc lime juic shallot chili crisp cilantro red curri past peanut mint",
         "['Dressing: Blitz everything up in a blender or food processor to make this SUPER yummy, punchy sauce.', 'Crispy Rice: Toss the rice in a bowl with the oil and curry paste. If it’s not sticking together when you squeeze it, add the cornstarch and get your hands wet to mix it again (this happens if the rice is pre-cooked or several days old). Squeeze it into loose, squishy chunks and transfer to the air fryer in a single layer. Air fry at 400 for 7-9 minutes, until golden and crisped. (See Note 3 for alternative methods – I find the air fryer to be fastest and most convenient!)', 'You’re Done! Yum!\\xa0Break the crispy rice apart into little golden, delightful chunks. Toss with about half of the dressing and however many veggies you want. Garnish it with some peanuts and chili crisp if you want. I mean, honestly. Wow. This is so good.']"
        ],
        [
         "2",
         "https://pinchofyum.com/wp-content/uploads/Gochujang-Sauce-1-2-Square-183x183.jpg",
         "Incredible Gochujang Sauce",
         "This delightful, creamy, silky, incredible gochujang sauce is what I put on everything! Dipped with chicken, drizzled on a bowl, tossed in a salad – perfect in every way.",
         "5 minutes",
         "rice vinegar garlic soy sauc mayo gochujang sauc",
         "['Mix all ingredients together in a small bowl. Taste and adjust! I usually add a small pinch of salt because I love salt. You can also thin it out with a tablespoon of water so more of a drizzle if that’s what you’re going for!', 'Serve as a dip with grilled or air-fried chicken, a dressing for a creamy slaw, a spread on a burger – whatever floats your boat. It’s all so delicious.']"
        ],
        [
         "3",
         "https://pinchofyum.com/wp-content/uploads/Air-Fryer-Salmon-2-Square-183x183.jpg",
         "Ridiculously Good Air Fryer Salmon",
         "This air fryer salmon is TOO GOOD. Crisped and golden on the outside, buttery and juicy on the inside, and made in 15 minutes start to finish.",
         "13 minutes",
         "cornstarch chili powder brown sugar onion powder paprika garlic powder salmon",
         "['Prep the salmon: Remove the skin from your salmon, if it has skin. Pat with paper towels so the surface is mostly dry. Cut your salmon into cubes, 1 to 2 inches each (see photo).', 'Prep the spices: Mix the spices together in a small bowl.', 'Toss salmon with spices: Toss your salmon cubes in the spices and oil – I usually use my hands to mix it all together.', 'Air fry the salmon: Place your salmon pieces in the air fryer (I just dump them right in) and spread them out a bit so they’re not laying all over each other. Air fry at 400 degrees for 8 minutes!', 'You’re Done! Yum! At this point it should be textured and golden on the outside, and juicy and delicious on the inside. When you press each piece with a fork, they should easily flake / slip apart with a buttery, juicy texture inside. (You can do 6-7 minutes if you prefer more of a medium doneness.)']"
        ],
        [
         "4",
         "https://pinchofyum.com/wp-content/uploads/Two-Giant-Cookies-2-1024x1536-Square-183x183.jpg",
         "Two Huge Chocolate Chip Cookies",
         "Just two chocolate chip cookies – lightly crisp around the edge, and dense and buttery through the middle. They are thick enough to sink your teeth into and just really, really good.",
         "15 minutes",
         "cornstarch allpurpos flour brown sugar white sugar egg yolk chocol chip vanilla bake soda butter",
         "['Preheat the oven to 350 degrees.', 'Mix butter, sugars, vanilla, and egg yolk until combined.\\xa0', 'Stir in flour, cornstarch, baking soda, and salt. When a soft dough has formed, stir in the chocolate chips.', 'Roll the dough into two balls and place on a baking sheet – there should be plenty for two large cookies plus a little bit of dough for a snack. (You’re welcome.) You can add more chocolate chips to the top of the cookies if you want.', 'Bake for 10-12 minutes, depending on your oven temp and desired level of gooey cookie center.\\xa0', 'Rest the cookies for a few minutes so they settle down and solidify a bit –\\xa0 I set a timer for 10-15 minutes and just let them rest right on the pan. At that point they should be able to transfer to a plate, or maybe even held in your hand, for warm, delicious eating on the couch. Yum, yum, yum.']"
        ]
       ],
       "shape": {
        "columns": 6,
        "rows": 5
       }
      },
      "text/html": [
       "<div>\n",
       "<style scoped>\n",
       "    .dataframe tbody tr th:only-of-type {\n",
       "        vertical-align: middle;\n",
       "    }\n",
       "\n",
       "    .dataframe tbody tr th {\n",
       "        vertical-align: top;\n",
       "    }\n",
       "\n",
       "    .dataframe thead th {\n",
       "        text-align: right;\n",
       "    }\n",
       "</style>\n",
       "<table border=\"1\" class=\"dataframe\">\n",
       "  <thead>\n",
       "    <tr style=\"text-align: right;\">\n",
       "      <th></th>\n",
       "      <th>image</th>\n",
       "      <th>title</th>\n",
       "      <th>description</th>\n",
       "      <th>total time</th>\n",
       "      <th>ingredients</th>\n",
       "      <th>instructions</th>\n",
       "    </tr>\n",
       "  </thead>\n",
       "  <tbody>\n",
       "    <tr>\n",
       "      <th>0</th>\n",
       "      <td>https://pinchofyum.com/wp-content/uploads/Ital...</td>\n",
       "      <td>Big Yummy Italian Salad</td>\n",
       "      <td>I love a big Italian salad! Crisp romaine, sal...</td>\n",
       "      <td>15 minutes</td>\n",
       "      <td>pepperoncini italian season romain lettuc pank...</td>\n",
       "      <td>['Prep Salad Stuff: Chop all your salad veggie...</td>\n",
       "    </tr>\n",
       "    <tr>\n",
       "      <th>1</th>\n",
       "      <td>https://pinchofyum.com/wp-content/uploads/Cris...</td>\n",
       "      <td>Crispy Rice Salad with Cucumbers and Herbs</td>\n",
       "      <td>Paper-thin veggies, a shower of herbs, a pile ...</td>\n",
       "      <td>30 minutes</td>\n",
       "      <td>cornstarch cucumb jasmin rice ginger garlic br...</td>\n",
       "      <td>['Dressing: Blitz everything up in a blender o...</td>\n",
       "    </tr>\n",
       "    <tr>\n",
       "      <th>2</th>\n",
       "      <td>https://pinchofyum.com/wp-content/uploads/Goch...</td>\n",
       "      <td>Incredible Gochujang Sauce</td>\n",
       "      <td>This delightful, creamy, silky, incredible goc...</td>\n",
       "      <td>5 minutes</td>\n",
       "      <td>rice vinegar garlic soy sauc mayo gochujang sauc</td>\n",
       "      <td>['Mix all ingredients together in a small bowl...</td>\n",
       "    </tr>\n",
       "    <tr>\n",
       "      <th>3</th>\n",
       "      <td>https://pinchofyum.com/wp-content/uploads/Air-...</td>\n",
       "      <td>Ridiculously Good Air Fryer Salmon</td>\n",
       "      <td>This air fryer salmon is TOO GOOD. Crisped and...</td>\n",
       "      <td>13 minutes</td>\n",
       "      <td>cornstarch chili powder brown sugar onion powd...</td>\n",
       "      <td>['Prep the salmon: Remove the skin from your s...</td>\n",
       "    </tr>\n",
       "    <tr>\n",
       "      <th>4</th>\n",
       "      <td>https://pinchofyum.com/wp-content/uploads/Two-...</td>\n",
       "      <td>Two Huge Chocolate Chip Cookies</td>\n",
       "      <td>Just two chocolate chip cookies – lightly cris...</td>\n",
       "      <td>15 minutes</td>\n",
       "      <td>cornstarch allpurpos flour brown sugar white s...</td>\n",
       "      <td>['Preheat the oven to 350 degrees.', 'Mix butt...</td>\n",
       "    </tr>\n",
       "  </tbody>\n",
       "</table>\n",
       "</div>"
      ],
      "text/plain": [
       "                                               image  \\\n",
       "0  https://pinchofyum.com/wp-content/uploads/Ital...   \n",
       "1  https://pinchofyum.com/wp-content/uploads/Cris...   \n",
       "2  https://pinchofyum.com/wp-content/uploads/Goch...   \n",
       "3  https://pinchofyum.com/wp-content/uploads/Air-...   \n",
       "4  https://pinchofyum.com/wp-content/uploads/Two-...   \n",
       "\n",
       "                                        title  \\\n",
       "0                     Big Yummy Italian Salad   \n",
       "1  Crispy Rice Salad with Cucumbers and Herbs   \n",
       "2                  Incredible Gochujang Sauce   \n",
       "3          Ridiculously Good Air Fryer Salmon   \n",
       "4             Two Huge Chocolate Chip Cookies   \n",
       "\n",
       "                                         description  total time  \\\n",
       "0  I love a big Italian salad! Crisp romaine, sal...  15 minutes   \n",
       "1  Paper-thin veggies, a shower of herbs, a pile ...  30 minutes   \n",
       "2  This delightful, creamy, silky, incredible goc...   5 minutes   \n",
       "3  This air fryer salmon is TOO GOOD. Crisped and...  13 minutes   \n",
       "4  Just two chocolate chip cookies – lightly cris...  15 minutes   \n",
       "\n",
       "                                         ingredients  \\\n",
       "0  pepperoncini italian season romain lettuc pank...   \n",
       "1  cornstarch cucumb jasmin rice ginger garlic br...   \n",
       "2   rice vinegar garlic soy sauc mayo gochujang sauc   \n",
       "3  cornstarch chili powder brown sugar onion powd...   \n",
       "4  cornstarch allpurpos flour brown sugar white s...   \n",
       "\n",
       "                                        instructions  \n",
       "0  ['Prep Salad Stuff: Chop all your salad veggie...  \n",
       "1  ['Dressing: Blitz everything up in a blender o...  \n",
       "2  ['Mix all ingredients together in a small bowl...  \n",
       "3  ['Prep the salmon: Remove the skin from your s...  \n",
       "4  ['Preheat the oven to 350 degrees.', 'Mix butt...  "
      ]
     },
     "execution_count": 9,
     "metadata": {},
     "output_type": "execute_result"
    }
   ],
   "source": [
    "df_dynamic = pd.read_csv(\"../dataset/recipes.csv\")\n",
    "df_dynamic.head()"
   ]
  },
  {
   "cell_type": "code",
   "execution_count": 10,
   "id": "ae7cb2d4",
   "metadata": {},
   "outputs": [
    {
     "data": {
      "application/vnd.microsoft.datawrangler.viewer.v0+json": {
       "columns": [
        {
         "name": "index",
         "rawType": "int64",
         "type": "integer"
        },
        {
         "name": "title",
         "rawType": "object",
         "type": "string"
        },
        {
         "name": "ingredients",
         "rawType": "object",
         "type": "string"
        },
        {
         "name": "instructions",
         "rawType": "object",
         "type": "string"
        }
       ],
       "conversionMethod": "pd.DataFrame",
       "ref": "58d7a2ef-70ef-4a90-9979-957993a7f7d9",
       "rows": [
        [
         "0",
         "Big Yummy Italian Salad",
         "pepperoncini italian season romain lettuc panko red onion chees provolon salami garlic powder pepperoncini brine parmesan chees",
         "['Prep Salad Stuff: Chop all your salad veggies, meat, cheese, etc.', 'Make Golden Crispy Garlic Panko: Mix panko, oil, and garlic powder in a bowl. Microwave for 1 minute, stir, and microwave again for 20-40 seconds until it’s nice and golden. (It’ll be hot! Don’t taste it yet.) Season with salt.', 'Toss with No-Recipe Dressing: Add all your salad stuff to a large bowl. Drizzle with oil, pepperoncini brine, Italian seasoning, salt and pepper. Toss to combine, taste, adjust, you know the drill. Finish by tossing those golden panko crispies in there! YUM!']"
        ],
        [
         "1",
         "Crispy Rice Salad with Cucumbers and Herbs",
         "cornstarch cucumb jasmin rice ginger garlic brown sugar fish sauc lime juic shallot chili crisp cilantro red curri past peanut mint",
         "['Dressing: Blitz everything up in a blender or food processor to make this SUPER yummy, punchy sauce.', 'Crispy Rice: Toss the rice in a bowl with the oil and curry paste. If it’s not sticking together when you squeeze it, add the cornstarch and get your hands wet to mix it again (this happens if the rice is pre-cooked or several days old). Squeeze it into loose, squishy chunks and transfer to the air fryer in a single layer. Air fry at 400 for 7-9 minutes, until golden and crisped. (See Note 3 for alternative methods – I find the air fryer to be fastest and most convenient!)', 'You’re Done! Yum!\\xa0Break the crispy rice apart into little golden, delightful chunks. Toss with about half of the dressing and however many veggies you want. Garnish it with some peanuts and chili crisp if you want. I mean, honestly. Wow. This is so good.']"
        ],
        [
         "2",
         "Incredible Gochujang Sauce",
         "rice vinegar garlic soy sauc mayo gochujang sauc",
         "['Mix all ingredients together in a small bowl. Taste and adjust! I usually add a small pinch of salt because I love salt. You can also thin it out with a tablespoon of water so more of a drizzle if that’s what you’re going for!', 'Serve as a dip with grilled or air-fried chicken, a dressing for a creamy slaw, a spread on a burger – whatever floats your boat. It’s all so delicious.']"
        ],
        [
         "3",
         "Ridiculously Good Air Fryer Salmon",
         "cornstarch chili powder brown sugar onion powder paprika garlic powder salmon",
         "['Prep the salmon: Remove the skin from your salmon, if it has skin. Pat with paper towels so the surface is mostly dry. Cut your salmon into cubes, 1 to 2 inches each (see photo).', 'Prep the spices: Mix the spices together in a small bowl.', 'Toss salmon with spices: Toss your salmon cubes in the spices and oil – I usually use my hands to mix it all together.', 'Air fry the salmon: Place your salmon pieces in the air fryer (I just dump them right in) and spread them out a bit so they’re not laying all over each other. Air fry at 400 degrees for 8 minutes!', 'You’re Done! Yum! At this point it should be textured and golden on the outside, and juicy and delicious on the inside. When you press each piece with a fork, they should easily flake / slip apart with a buttery, juicy texture inside. (You can do 6-7 minutes if you prefer more of a medium doneness.)']"
        ],
        [
         "4",
         "Two Huge Chocolate Chip Cookies",
         "cornstarch allpurpos flour brown sugar white sugar egg yolk chocol chip vanilla bake soda butter",
         "['Preheat the oven to 350 degrees.', 'Mix butter, sugars, vanilla, and egg yolk until combined.\\xa0', 'Stir in flour, cornstarch, baking soda, and salt. When a soft dough has formed, stir in the chocolate chips.', 'Roll the dough into two balls and place on a baking sheet – there should be plenty for two large cookies plus a little bit of dough for a snack. (You’re welcome.) You can add more chocolate chips to the top of the cookies if you want.', 'Bake for 10-12 minutes, depending on your oven temp and desired level of gooey cookie center.\\xa0', 'Rest the cookies for a few minutes so they settle down and solidify a bit –\\xa0 I set a timer for 10-15 minutes and just let them rest right on the pan. At that point they should be able to transfer to a plate, or maybe even held in your hand, for warm, delicious eating on the couch. Yum, yum, yum.']"
        ]
       ],
       "shape": {
        "columns": 3,
        "rows": 5
       }
      },
      "text/html": [
       "<div>\n",
       "<style scoped>\n",
       "    .dataframe tbody tr th:only-of-type {\n",
       "        vertical-align: middle;\n",
       "    }\n",
       "\n",
       "    .dataframe tbody tr th {\n",
       "        vertical-align: top;\n",
       "    }\n",
       "\n",
       "    .dataframe thead th {\n",
       "        text-align: right;\n",
       "    }\n",
       "</style>\n",
       "<table border=\"1\" class=\"dataframe\">\n",
       "  <thead>\n",
       "    <tr style=\"text-align: right;\">\n",
       "      <th></th>\n",
       "      <th>title</th>\n",
       "      <th>ingredients</th>\n",
       "      <th>instructions</th>\n",
       "    </tr>\n",
       "  </thead>\n",
       "  <tbody>\n",
       "    <tr>\n",
       "      <th>0</th>\n",
       "      <td>Big Yummy Italian Salad</td>\n",
       "      <td>pepperoncini italian season romain lettuc pank...</td>\n",
       "      <td>['Prep Salad Stuff: Chop all your salad veggie...</td>\n",
       "    </tr>\n",
       "    <tr>\n",
       "      <th>1</th>\n",
       "      <td>Crispy Rice Salad with Cucumbers and Herbs</td>\n",
       "      <td>cornstarch cucumb jasmin rice ginger garlic br...</td>\n",
       "      <td>['Dressing: Blitz everything up in a blender o...</td>\n",
       "    </tr>\n",
       "    <tr>\n",
       "      <th>2</th>\n",
       "      <td>Incredible Gochujang Sauce</td>\n",
       "      <td>rice vinegar garlic soy sauc mayo gochujang sauc</td>\n",
       "      <td>['Mix all ingredients together in a small bowl...</td>\n",
       "    </tr>\n",
       "    <tr>\n",
       "      <th>3</th>\n",
       "      <td>Ridiculously Good Air Fryer Salmon</td>\n",
       "      <td>cornstarch chili powder brown sugar onion powd...</td>\n",
       "      <td>['Prep the salmon: Remove the skin from your s...</td>\n",
       "    </tr>\n",
       "    <tr>\n",
       "      <th>4</th>\n",
       "      <td>Two Huge Chocolate Chip Cookies</td>\n",
       "      <td>cornstarch allpurpos flour brown sugar white s...</td>\n",
       "      <td>['Preheat the oven to 350 degrees.', 'Mix butt...</td>\n",
       "    </tr>\n",
       "  </tbody>\n",
       "</table>\n",
       "</div>"
      ],
      "text/plain": [
       "                                        title  \\\n",
       "0                     Big Yummy Italian Salad   \n",
       "1  Crispy Rice Salad with Cucumbers and Herbs   \n",
       "2                  Incredible Gochujang Sauce   \n",
       "3          Ridiculously Good Air Fryer Salmon   \n",
       "4             Two Huge Chocolate Chip Cookies   \n",
       "\n",
       "                                         ingredients  \\\n",
       "0  pepperoncini italian season romain lettuc pank...   \n",
       "1  cornstarch cucumb jasmin rice ginger garlic br...   \n",
       "2   rice vinegar garlic soy sauc mayo gochujang sauc   \n",
       "3  cornstarch chili powder brown sugar onion powd...   \n",
       "4  cornstarch allpurpos flour brown sugar white s...   \n",
       "\n",
       "                                        instructions  \n",
       "0  ['Prep Salad Stuff: Chop all your salad veggie...  \n",
       "1  ['Dressing: Blitz everything up in a blender o...  \n",
       "2  ['Mix all ingredients together in a small bowl...  \n",
       "3  ['Prep the salmon: Remove the skin from your s...  \n",
       "4  ['Preheat the oven to 350 degrees.', 'Mix butt...  "
      ]
     },
     "execution_count": 10,
     "metadata": {},
     "output_type": "execute_result"
    }
   ],
   "source": [
    "# Drop unnecessary columns\n",
    "df_dynamic.drop(columns=[\"image\", \"total time\", \"description\"], inplace=True)\n",
    "df_dynamic.head()"
   ]
  },
  {
   "cell_type": "markdown",
   "id": "418161fb-b3df-43a5-ab8d-4c64062711c6",
   "metadata": {},
   "source": [
    "### Data Preprocessing\n",
    "\n",
    "- Clean & standardize ingredients"
   ]
  },
  {
   "cell_type": "markdown",
   "id": "790d6d46",
   "metadata": {},
   "source": [
    "Used regex and string methods to clean and standardize:\n",
    "- Ingredients: lowercase, alphanumeric filtering, list normalization.\n",
    "- Instructions: sentence splitting, stripping, and cleaning.\n"
   ]
  },
  {
   "cell_type": "code",
   "execution_count": 11,
   "id": "8734b44f",
   "metadata": {},
   "outputs": [
    {
     "data": {
      "application/vnd.microsoft.datawrangler.viewer.v0+json": {
       "columns": [
        {
         "name": "index",
         "rawType": "int64",
         "type": "integer"
        },
        {
         "name": "title",
         "rawType": "object",
         "type": "string"
        },
        {
         "name": "ingredients",
         "rawType": "object",
         "type": "unknown"
        },
        {
         "name": "instructions",
         "rawType": "object",
         "type": "unknown"
        }
       ],
       "conversionMethod": "pd.DataFrame",
       "ref": "14926cb7-477e-4f9b-bed6-ef1c596ed525",
       "rows": [
        [
         "0",
         "No-Bake Nut Cookies",
         "['1 c. firmly packed brown sugar', '1/2 c. evaporated milk', '1/2 tsp. vanilla', '1/2 c. broken nuts (pecans)', '2 Tbsp. butter or margarine', '3 1/2 c. bite size shredded rice biscuits']",
         "['[\"In a heavy 2-quart saucepan, mix brown sugar, nuts, evaporated milk and butter or margarine', '\", \"Stir over medium heat until mixture bubbles all over top', '\", \"Boil and stir 5 minutes more', 'Take off heat', '\", \"Stir in vanilla and cereal; mix well', '\", \"Using 2 teaspoons, drop and shape into 30 clusters on wax paper', '\", \"Let stand until firm, about 30 minutes', '\"]']"
        ],
        [
         "1",
         "Jewell Ball'S Chicken",
         "['1 small jar chipped beef, cut up', '4 boned chicken breasts', '1 can cream of mushroom soup', '1 carton sour cream']",
         "['[\"Place chipped beef on bottom of baking dish', '\", \"Place chicken on top of beef', '\", \"Mix soup and cream together; pour over chicken', 'Bake, uncovered, at 275\\\\u00b0 for 3 hours', '\"]']"
        ],
        [
         "2",
         "Creamy Corn",
         "['2 (16 oz.) pkg. frozen corn', '1 (8 oz.) pkg. cream cheese, cubed', '1/3 c. butter, cubed', '1/2 tsp. garlic powder', '1/2 tsp. salt', '1/4 tsp. pepper']",
         "['[\"In a slow cooker, combine all ingredients', 'Cover and cook on low for 4 hours or until heated through and cheese is melted', 'Stir well before serving', 'Yields 6 servings', '\"]']"
        ],
        [
         "3",
         "Chicken Funny",
         "['1 large whole chicken', '2 (10 1/2 oz.) cans chicken gravy', '1 (10 1/2 oz.) can cream of mushroom soup', '1 (6 oz.) box Stove Top stuffing', '4 oz. shredded cheese']",
         "['[\"Boil and debone chicken', '\", \"Put bite size pieces in average size square casserole dish', '\", \"Pour gravy and cream of mushroom soup over chicken; level', '\", \"Make stuffing according to instructions on box (do not make too moist)', '\", \"Put stuffing on top of chicken and gravy; level', '\", \"Sprinkle shredded cheese on top and bake at 350\\\\u00b0 for approximately 20 minutes or until golden and bubbly', '\"]']"
        ],
        [
         "4",
         "Reeses Cups(Candy)  ",
         "['1 c. peanut butter', '3/4 c. graham cracker crumbs', '1 c. melted butter', '1 lb. (3 1/2 c.) powdered sugar', '1 large pkg. chocolate chips']",
         "['[\"Combine first four ingredients and press in 13 x 9-inch ungreased pan', '\", \"Melt chocolate chips and spread over mixture', 'Refrigerate for about 20 minutes and cut into pieces before chocolate gets hard', '\", \"Keep in refrigerator', '\"]']"
        ]
       ],
       "shape": {
        "columns": 3,
        "rows": 5
       }
      },
      "text/html": [
       "<div>\n",
       "<style scoped>\n",
       "    .dataframe tbody tr th:only-of-type {\n",
       "        vertical-align: middle;\n",
       "    }\n",
       "\n",
       "    .dataframe tbody tr th {\n",
       "        vertical-align: top;\n",
       "    }\n",
       "\n",
       "    .dataframe thead th {\n",
       "        text-align: right;\n",
       "    }\n",
       "</style>\n",
       "<table border=\"1\" class=\"dataframe\">\n",
       "  <thead>\n",
       "    <tr style=\"text-align: right;\">\n",
       "      <th></th>\n",
       "      <th>title</th>\n",
       "      <th>ingredients</th>\n",
       "      <th>instructions</th>\n",
       "    </tr>\n",
       "  </thead>\n",
       "  <tbody>\n",
       "    <tr>\n",
       "      <th>0</th>\n",
       "      <td>No-Bake Nut Cookies</td>\n",
       "      <td>[1 c. firmly packed brown sugar, 1/2 c. evapor...</td>\n",
       "      <td>[[\"In a heavy 2-quart saucepan, mix brown suga...</td>\n",
       "    </tr>\n",
       "    <tr>\n",
       "      <th>1</th>\n",
       "      <td>Jewell Ball'S Chicken</td>\n",
       "      <td>[1 small jar chipped beef, cut up, 4 boned chi...</td>\n",
       "      <td>[[\"Place chipped beef on bottom of baking dish...</td>\n",
       "    </tr>\n",
       "    <tr>\n",
       "      <th>2</th>\n",
       "      <td>Creamy Corn</td>\n",
       "      <td>[2 (16 oz.) pkg. frozen corn, 1 (8 oz.) pkg. c...</td>\n",
       "      <td>[[\"In a slow cooker, combine all ingredients, ...</td>\n",
       "    </tr>\n",
       "    <tr>\n",
       "      <th>3</th>\n",
       "      <td>Chicken Funny</td>\n",
       "      <td>[1 large whole chicken, 2 (10 1/2 oz.) cans ch...</td>\n",
       "      <td>[[\"Boil and debone chicken, \", \"Put bite size ...</td>\n",
       "    </tr>\n",
       "    <tr>\n",
       "      <th>4</th>\n",
       "      <td>Reeses Cups(Candy)</td>\n",
       "      <td>[1 c. peanut butter, 3/4 c. graham cracker cru...</td>\n",
       "      <td>[[\"Combine first four ingredients and press in...</td>\n",
       "    </tr>\n",
       "  </tbody>\n",
       "</table>\n",
       "</div>"
      ],
      "text/plain": [
       "                   title                                        ingredients  \\\n",
       "0    No-Bake Nut Cookies  [1 c. firmly packed brown sugar, 1/2 c. evapor...   \n",
       "1  Jewell Ball'S Chicken  [1 small jar chipped beef, cut up, 4 boned chi...   \n",
       "2            Creamy Corn  [2 (16 oz.) pkg. frozen corn, 1 (8 oz.) pkg. c...   \n",
       "3          Chicken Funny  [1 large whole chicken, 2 (10 1/2 oz.) cans ch...   \n",
       "4   Reeses Cups(Candy)    [1 c. peanut butter, 3/4 c. graham cracker cru...   \n",
       "\n",
       "                                        instructions  \n",
       "0  [[\"In a heavy 2-quart saucepan, mix brown suga...  \n",
       "1  [[\"Place chipped beef on bottom of baking dish...  \n",
       "2  [[\"In a slow cooker, combine all ingredients, ...  \n",
       "3  [[\"Boil and debone chicken, \", \"Put bite size ...  \n",
       "4  [[\"Combine first four ingredients and press in...  "
      ]
     },
     "execution_count": 11,
     "metadata": {},
     "output_type": "execute_result"
    }
   ],
   "source": [
    "import pandas as pd\n",
    "import ast\n",
    "import re\n",
    "\n",
    "# -----------------------\n",
    "# Step 1: Standardize Columns\n",
    "# -----------------------\n",
    "df_static.rename(columns={'directions': 'instructions'}, inplace=True)\n",
    "df_dynamic.rename(columns={'Recipe_name': 'title',\n",
    "                           'Recipe_ingredients': 'ingredients',\n",
    "                           'Recipe_instructions': 'instructions'}, inplace=True)\n",
    "\n",
    "# -----------------------\n",
    "# Step 2: Clean Ingredients\n",
    "# -----------------------\n",
    "def process_ingredients(ing):\n",
    "    if isinstance(ing, list):\n",
    "        return [re.sub(r'[^a-z0-9\\s.]', '', i.lower().strip()) for i in ing]\n",
    "    elif isinstance(ing, str):\n",
    "        tokens = ing.split()\n",
    "        return [re.sub(r'[^a-z0-9\\s.]', '', i.lower().strip()) for i in tokens if len(i) > 1]\n",
    "    else:\n",
    "        return []\n",
    "\n",
    "df_static['ingredients'] = df_static['ingredients'].apply(lambda x: ast.literal_eval(x) if isinstance(x, str) else x)\n",
    "df_dynamic['ingredients'] = df_dynamic['ingredients'].apply(process_ingredients)\n",
    "\n",
    "# -----------------------\n",
    "# Step 3: Clean Instructions\n",
    "# -----------------------\n",
    "def process_instructions(instr):\n",
    "    if isinstance(instr, list):\n",
    "        return [i.strip() for i in instr if len(i.strip()) > 0]\n",
    "    elif isinstance(instr, str):\n",
    "        return [i.strip() for i in instr.split('.') if len(i.strip()) > 0]\n",
    "    else:\n",
    "        return []\n",
    "\n",
    "df_static['instructions'] = df_static['instructions'].apply(process_instructions)\n",
    "df_dynamic['instructions'] = df_dynamic['instructions'].apply(process_instructions)\n",
    "\n",
    "# -----------------------\n",
    "# Step 4: Merge Datasets\n",
    "# -----------------------\n",
    "df_combined = pd.concat([df_static, df_dynamic], ignore_index=True)\n",
    "df_combined.dropna(subset=['ingredients', 'instructions'], inplace=True)\n",
    "\n",
    "df_combined.head()"
   ]
  },
  {
   "cell_type": "code",
   "execution_count": 12,
   "id": "69dcff94",
   "metadata": {},
   "outputs": [
    {
     "name": "stdout",
     "output_type": "stream",
     "text": [
      "Data integration complete. Ready for feature engineering!\n"
     ]
    }
   ],
   "source": [
    "import os\n",
    "\n",
    "os.makedirs(\"../processed_dataset\", exist_ok=True)\n",
    "\n",
    "# Save clean dataset\n",
    "df_combined.to_csv(\"../processed_dataset/combined_recipes_cleaned.csv\", index=False)\n",
    "print(\"Data integration complete. Ready for feature engineering!\")"
   ]
  },
  {
   "cell_type": "code",
   "execution_count": 13,
   "id": "2e1c8ce7",
   "metadata": {},
   "outputs": [
    {
     "data": {
      "text/plain": [
       "title           object\n",
       "ingredients     object\n",
       "instructions    object\n",
       "dtype: object"
      ]
     },
     "execution_count": 13,
     "metadata": {},
     "output_type": "execute_result"
    }
   ],
   "source": [
    "df_combined.dtypes"
   ]
  },
  {
   "cell_type": "code",
   "execution_count": 14,
   "id": "f601cc08",
   "metadata": {},
   "outputs": [
    {
     "name": "stdout",
     "output_type": "stream",
     "text": [
      "         token    count\n",
      "730        cup  2474893\n",
      "0            c  2452925\n",
      "1188  teaspoon  1425910\n",
      "78     chopped  1343576\n",
      "7          tsp  1302747\n",
      "...        ...      ...\n",
      "178      about   148721\n",
      "92      beaten   145966\n",
      "36        sour   145442\n",
      "245      beans   144328\n",
      "40        corn   143472\n",
      "\n",
      "[100 rows x 2 columns]\n"
     ]
    }
   ],
   "source": [
    "import pandas as pd\n",
    "import ast\n",
    "import re\n",
    "from collections import Counter\n",
    "import matplotlib.pyplot as plt\n",
    "\n",
    "# Load your combined dataset\n",
    "df = pd.read_csv(\"../processed_dataset/combined_recipes_cleaned.csv\") \n",
    "\n",
    "# STEP 1: Parse ingredients column into token list\n",
    "def flatten_and_tokenize(ingredient_col):\n",
    "    all_tokens = []\n",
    "    for entry in ingredient_col:\n",
    "        try:\n",
    "            ingredients = ast.literal_eval(entry) if isinstance(entry, str) and entry.startswith(\"[\") else [entry]\n",
    "            for line in ingredients:\n",
    "                # Lowercase, remove punctuation/numbers\n",
    "                line = line.lower()\n",
    "                line = re.sub(r'[^a-z\\s]', '', line)\n",
    "                tokens = line.split()\n",
    "                all_tokens.extend(tokens)\n",
    "        except:\n",
    "            continue\n",
    "    return all_tokens\n",
    "\n",
    "# STEP 2: Generate token frequency\n",
    "tokens = flatten_and_tokenize(df['ingredients'])\n",
    "token_freq = Counter(tokens)\n",
    "\n",
    "# STEP 3: Convert to DataFrame for inspection\n",
    "stopword_df = pd.DataFrame(token_freq.items(), columns=[\"token\", \"count\"]).sort_values(by=\"count\", ascending=False)\n",
    "\n",
    "# STEP 4: Show top 100 most common tokens\n",
    "print(stopword_df.head(100))\n",
    "\n",
    "# Optional: Save all tokens with counts\n",
    "stopword_df.to_csv(\"../processed_dataset/ingredient_token_counts.csv\", index=False)"
   ]
  },
  {
   "cell_type": "code",
   "execution_count": 15,
   "id": "e6051241",
   "metadata": {},
   "outputs": [
    {
     "name": "stderr",
     "output_type": "stream",
     "text": [
      "[nltk_data] Downloading package stopwords to\n",
      "[nltk_data]     /Users/sandhyakilari/nltk_data...\n",
      "[nltk_data]   Package stopwords is already up-to-date!\n",
      "[nltk_data] Downloading package punkt to\n",
      "[nltk_data]     /Users/sandhyakilari/nltk_data...\n",
      "[nltk_data]   Package punkt is already up-to-date!\n",
      "[nltk_data] Downloading package wordnet to\n",
      "[nltk_data]     /Users/sandhyakilari/nltk_data...\n",
      "[nltk_data]   Package wordnet is already up-to-date!\n"
     ]
    },
    {
     "name": "stdout",
     "output_type": "stream",
     "text": [
      "                                         ingredients  \\\n",
      "0  ['1 c. firmly packed brown sugar', '1/2 c. eva...   \n",
      "1  ['1 small jar chipped beef, cut up', '4 boned ...   \n",
      "2  ['2 (16 oz.) pkg. frozen corn', '1 (8 oz.) pkg...   \n",
      "3  ['1 large whole chicken', '2 (10 1/2 oz.) cans...   \n",
      "4  ['1 c. peanut butter', '3/4 c. graham cracker ...   \n",
      "\n",
      "                                   ingredients_clean  \n",
      "0  bite size rice biscuit, broken nut, butter mar...  \n",
      "1  boned chicken breast, carton sour cream, cream...  \n",
      "2  butter, cream cheese, frozen corn, garlic powd...  \n",
      "3  cheese, chicken, chicken gravy, cream mushroom...  \n",
      "4  butter, chocolate chip, graham cracker crumb, ...  \n"
     ]
    }
   ],
   "source": [
    "import pandas as pd\n",
    "import re\n",
    "import ast\n",
    "import nltk\n",
    "from nltk.tokenize import word_tokenize\n",
    "from nltk.stem import WordNetLemmatizer\n",
    "from nltk.corpus import stopwords\n",
    "\n",
    "nltk.download('stopwords')\n",
    "nltk.download('punkt')\n",
    "nltk.download('wordnet')\n",
    "\n",
    "lemmatizer = WordNetLemmatizer()\n",
    "stop_words = set(stopwords.words('english'))\n",
    "\n",
    "# Define custom stopwords \n",
    "custom_stopwords = stop_words.union({\n",
    "    # Measurement units\n",
    "    'c', 'cup', 'cups', 'tsp', 'teaspoon', 'teaspoons', 'tbsp', 'tablespoon', 'tablespoons',\n",
    "    'oz', 'ounce', 'ounces', 'lb', 'lbs', 'pound', 'pounds', 'g', 'gram', 'grams', 'kg',\n",
    "    'ml', 'milliliter', 'milliliters', 'l', 'liter', 'liters', 'qt', 'quart', 'quarts',\n",
    "    'pt', 'pint', 'pints', 'gal', 'gallon', 'gallons', 'pkg', 'pkgs', 'package', 'packages',\n",
    "    'stick', 'sticks', 'dash', 'pinch', 'can', 'cans', 'fluid', 'fl', 'jar', 'jars',\n",
    "    'box', 'boxes', 'bottle', 'bottles', 't', 'tbs', 'tbls', 'qt.', 'pt.', 'oz.', 'lb.', 'g.', 'ml.', 'kg.', 'l.', 'pkg.', 'pkt',\n",
    "\n",
    "    # Preparation and cooking descriptors\n",
    "    'chopped', 'minced', 'diced', 'sliced', 'grated', 'crushed', 'shredded', 'cut',\n",
    "    'peeled', 'optional', 'seeded', 'halved', 'coarsely', 'finely', 'thinly', 'roughly',\n",
    "    'cubed', 'crumbled', 'ground', 'trimmed', 'boneless', 'skinless', 'melted', 'softened',\n",
    "    'cooled', 'boiled', 'cooked', 'uncooked', 'raw', 'drained', 'rinsed', 'beaten', 'size'\n",
    "\n",
    "    # Quantity and portion descriptors\n",
    "    'small', 'medium', 'large', 'extra', 'light', 'dark', 'best', 'fresh', 'freshly',\n",
    "    'ripe', 'mini', 'whole', 'big', 'room', 'temperature', 'zero', 'one', 'two', 'three',\n",
    "    'four', 'five', 'six', 'eight', 'ten', 'twelve', 'half', 'third', 'quarter', 'dozen',\n",
    "    'thousand', 'bite'\n",
    "\n",
    "    # Filler or generic stopwords\n",
    "    'plus', 'with', 'without', 'into', 'about', 'of', 'the', 'to', 'for', 'in', 'from',\n",
    "    'as', 'and', 'or', 'on', 'your', 'if', 'such', 'you', 'use', 'may'\n",
    "})\n",
    "\n",
    "def preprocess_ingredients(ingredients):\n",
    "    try:\n",
    "        if isinstance(ingredients, str):\n",
    "            ingredients_list = ast.literal_eval(ingredients) if ingredients.startswith(\"[\") else [ingredients]\n",
    "        elif isinstance(ingredients, list):\n",
    "            ingredients_list = ingredients\n",
    "        else:\n",
    "            return \"\"\n",
    "\n",
    "        cleaned_ingredients = set()\n",
    "\n",
    "        for ing in ingredients_list:\n",
    "            ing = re.sub(r'\\(.*?\\)', '', str(ing)).lower() \n",
    "            ing = re.sub(r'[^a-z\\s]', '', ing)  \n",
    "            tokens = word_tokenize(ing)\n",
    "            tokens = [lemmatizer.lemmatize(token) for token in tokens if token not in custom_stopwords and len(token) > 1]\n",
    "            if tokens:\n",
    "                phrase = \" \".join(tokens)\n",
    "                if \"oil\" not in phrase and \"salt\" not in phrase and \"water\" not in phrase:\n",
    "                    cleaned_ingredients.add(phrase)\n",
    "\n",
    "        return \", \".join(sorted(cleaned_ingredients))\n",
    "\n",
    "    except Exception as e:\n",
    "        print(f\"Preprocessing error: {e}\")\n",
    "        return \"\"\n",
    "\n",
    "def preprocess_user_ingredients(user_input):\n",
    "    ingredients = user_input.split(',')\n",
    "    ingredients_str = str([ing.strip() for ing in ingredients])\n",
    "    return preprocess_ingredients(ingredients_str)\n",
    "\n",
    "df_combined = pd.read_csv(\"../processed_dataset/combined_recipes_cleaned.csv\") \n",
    "\n",
    "df_combined['ingredients_clean'] = df_combined['ingredients'].apply(preprocess_ingredients)\n",
    "\n",
    "print(df_combined[['ingredients', 'ingredients_clean']].head())\n",
    "\n",
    "df_combined.to_csv('../processed_dataset/clean_receipe_dataset.csv', index=False)"
   ]
  },
  {
   "cell_type": "code",
   "execution_count": 16,
   "id": "6a05e958",
   "metadata": {},
   "outputs": [
    {
     "data": {
      "application/vnd.microsoft.datawrangler.viewer.v0+json": {
       "columns": [
        {
         "name": "index",
         "rawType": "int64",
         "type": "integer"
        },
        {
         "name": "title",
         "rawType": "object",
         "type": "unknown"
        },
        {
         "name": "ingredients",
         "rawType": "object",
         "type": "string"
        },
        {
         "name": "instructions",
         "rawType": "object",
         "type": "string"
        },
        {
         "name": "ingredients_clean",
         "rawType": "object",
         "type": "string"
        }
       ],
       "conversionMethod": "pd.DataFrame",
       "ref": "a097dd8b-3faf-4127-ad50-c165d4d4dbe1",
       "rows": [
        [
         "0",
         "No-Bake Nut Cookies",
         "['1 c. firmly packed brown sugar', '1/2 c. evaporated milk', '1/2 tsp. vanilla', '1/2 c. broken nuts (pecans)', '2 Tbsp. butter or margarine', '3 1/2 c. bite size shredded rice biscuits']",
         "['[\"In a heavy 2-quart saucepan, mix brown sugar, nuts, evaporated milk and butter or margarine', '\", \"Stir over medium heat until mixture bubbles all over top', '\", \"Boil and stir 5 minutes more', 'Take off heat', '\", \"Stir in vanilla and cereal; mix well', '\", \"Using 2 teaspoons, drop and shape into 30 clusters on wax paper', '\", \"Let stand until firm, about 30 minutes', '\"]']",
         "bite size rice biscuit, broken nut, butter margarine, evaporated milk, firmly packed brown sugar, vanilla"
        ],
        [
         "1",
         "Jewell Ball'S Chicken",
         "['1 small jar chipped beef, cut up', '4 boned chicken breasts', '1 can cream of mushroom soup', '1 carton sour cream']",
         "['[\"Place chipped beef on bottom of baking dish', '\", \"Place chicken on top of beef', '\", \"Mix soup and cream together; pour over chicken', 'Bake, uncovered, at 275\\\\u00b0 for 3 hours', '\"]']",
         "boned chicken breast, carton sour cream, cream mushroom soup, small chipped beef"
        ],
        [
         "2",
         "Creamy Corn",
         "['2 (16 oz.) pkg. frozen corn', '1 (8 oz.) pkg. cream cheese, cubed', '1/3 c. butter, cubed', '1/2 tsp. garlic powder', '1/2 tsp. salt', '1/4 tsp. pepper']",
         "['[\"In a slow cooker, combine all ingredients', 'Cover and cook on low for 4 hours or until heated through and cheese is melted', 'Stir well before serving', 'Yields 6 servings', '\"]']",
         "butter, cream cheese, frozen corn, garlic powder, pepper"
        ],
        [
         "3",
         "Chicken Funny",
         "['1 large whole chicken', '2 (10 1/2 oz.) cans chicken gravy', '1 (10 1/2 oz.) can cream of mushroom soup', '1 (6 oz.) box Stove Top stuffing', '4 oz. shredded cheese']",
         "['[\"Boil and debone chicken', '\", \"Put bite size pieces in average size square casserole dish', '\", \"Pour gravy and cream of mushroom soup over chicken; level', '\", \"Make stuffing according to instructions on box (do not make too moist)', '\", \"Put stuffing on top of chicken and gravy; level', '\", \"Sprinkle shredded cheese on top and bake at 350\\\\u00b0 for approximately 20 minutes or until golden and bubbly', '\"]']",
         "cheese, chicken, chicken gravy, cream mushroom soup, stove top stuffing"
        ],
        [
         "4",
         "Reeses Cups(Candy)  ",
         "['1 c. peanut butter', '3/4 c. graham cracker crumbs', '1 c. melted butter', '1 lb. (3 1/2 c.) powdered sugar', '1 large pkg. chocolate chips']",
         "['[\"Combine first four ingredients and press in 13 x 9-inch ungreased pan', '\", \"Melt chocolate chips and spread over mixture', 'Refrigerate for about 20 minutes and cut into pieces before chocolate gets hard', '\", \"Keep in refrigerator', '\"]']",
         "butter, chocolate chip, graham cracker crumb, peanut butter, powdered sugar"
        ],
        [
         "5",
         "Cheeseburger Potato Soup",
         "['6 baking potatoes', '1 lb. of extra lean ground beef', '2/3 c. butter or margarine', '6 c. milk', '3/4 tsp. salt', '1/2 tsp. pepper', '1 1/2 c (6 oz.) shredded Cheddar cheese, divided', '12 sliced bacon, cooked, crumbled and divided', '4 green onion, chopped and divided', '1 (8 oz.) carton sour cream (optional)']",
         "['[\"Wash potatoes; prick several times with a fork', '\", \"Microwave them with a wet paper towel covering the potatoes on high for 6-8 minutes', '\", \"The potatoes should be soft, ready to eat', '\", \"Let them cool enough to handle', '\", \"Cut in half lengthwise; scoop out pulp and reserve', '\", \"Discard shells', '\", \"Brown ground beef until done', '\", \"Drain any grease from the meat', '\", \"Set aside when done', '\", \"Meat will be added later', '\", \"Melt butter in a large kettle over low heat; add flour, stirring until smooth', '\", \"Cook 1 minute, stirring constantly', 'Gradually add milk; cook over medium heat, stirring constantly, until thickened and bubbly', '\", \"Stir in potato, ground beef, salt, pepper, 1 cup of cheese, 2 tablespoons of green onion and 1/2 cup of bacon', '\", \"Cook until heated (do not boil)', '\", \"Stir in sour cream if desired; cook until heated (do not boil)', '\", \"Sprinkle with remaining cheese, bacon and green onions', '\"]']",
         "bacon divided, baking potato, butter margarine, carton sour cream, cheddar cheese divided, green onion divided, lean beef, milk, pepper"
        ],
        [
         "6",
         "Rhubarb Coffee Cake",
         "['1 1/2 c. sugar', '1/2 c. butter', '1 egg', '1 c. buttermilk', '2 c. flour', '1/2 tsp. salt', '1 tsp. soda', '1 c. buttermilk', '2 c. rhubarb, finely cut', '1 tsp. vanilla']",
         "['[\"Cream sugar and butter', '\", \"Add egg and beat well', '\", \"To creamed butter, sugar and egg, add alternately buttermilk with mixture of flour, salt and soda', '\", \"Mix well', '\", \"Add rhubarb and vanilla', '\", \"Pour into greased 9 x 13-inch pan and add Topping', '\"]']",
         "butter, buttermilk, egg, flour, rhubarb, soda, sugar, vanilla"
        ],
        [
         "7",
         "Scalloped Corn",
         "['1 can cream-style corn', '1 can whole kernel corn', '1/2 pkg. (approximately 20) saltine crackers, crushed', '1 egg, beaten', '6 tsp. butter, divided', 'pepper to taste']",
         "['[\"Mix together both cans of corn, crackers, egg, 2 teaspoons of melted butter and pepper and place in a buttered baking dish', '\", \"Dot with remaining 4 teaspoons of butter', '\", \"Bake at 350\\\\u00b0 for 1 hour', '\"]']",
         "butter divided, creamstyle corn, egg, kernel corn, pepper taste"
        ],
        [
         "8",
         "Nolan'S Pepper Steak",
         "['1 1/2 lb. round steak (1-inch thick), cut into strips', '1 can drained tomatoes, cut up (save liquid)', '1 3/4 c. water', '1/2 c. onions', '1 1/2 Tbsp. Worcestershire sauce', '2 green peppers, diced', '1/4 c. oil']",
         "['[\"Roll steak strips in flour', '\", \"Brown in skillet', '\", \"Salt and pepper', '\", \"Combine tomato liquid, water, onions and browned steak', 'Cover and simmer for one and a quarter hours', '\", \"Uncover and stir in Worcestershire sauce', '\", \"Add tomatoes, green peppers and simmer for 5 minutes', '\", \"Serve over hot cooked rice', '\"]']",
         "green pepper, onion, round steak strip, tomato, worcestershire sauce"
        ],
        [
         "9",
         "Millionaire Pie",
         "['1 large container Cool Whip', '1 large can crushed pineapple', '1 can condensed milk', '3 lemons', '1 c. pecans', '2 graham cracker crusts']",
         "['[\"Empty Cool Whip into a bowl', '\", \"Drain juice from pineapple', '\", \"Mix Cool Whip and pineapple', '\", \"Add condensed milk', '\", \"Squeeze lemons, remove seeds and add to Cool Whip and pineapple', '\", \"Chop nuts into small pieces and add to mixture', '\", \"Stir all ingredients together and mix well', '\", \"Pour into a graham cracker crust', '\", \"Use top from crust to cover top of pie', '\", \"Chill overnight', '\", \"Makes 2 pies', '\"]']",
         "condensed milk, container cool whip, graham cracker crust, lemon, pecan, pineapple"
        ],
        [
         "10",
         "Double Cherry Delight",
         "['1 (17 oz.) can dark sweet pitted cherries', '1/2 c. ginger ale', '1 (6 oz.) pkg. Jell-O cherry flavor gelatin', '2 c. boiling water', '1/8 tsp. almond extract', '1 c. miniature marshmallows']",
         "['[\"Drain cherries, measuring syrup', '\", \"Cut cherries in half', '\", \"Add ginger ale and enough water to syrup to make 1 1/2 cups', '\", \"Dissolve gelatin in boiling water', '\", \"Add measured liquid and almond extract', 'Chill until very thick', '\", \"Fold in marshmallows and the cherries', 'Spoon into 6-cup mold', '\", \"Chill until firm, at least 4 hours or overnight', '\", \"Unmold', '\", \"Makes about 5 1/3 cups', '\"]']",
         "almond extract, ginger ale, jello cherry flavor gelatin, miniature marshmallow, sweet pitted cherry"
        ],
        [
         "11",
         "Buckeye Candy",
         "['1 box powdered sugar', '8 oz. soft butter', '1 (8 oz.) peanut butter', 'paraffin', '12 oz. chocolate chips']",
         "['[\"Mix sugar, butter and peanut butter', '\", \"Roll into balls and place on cookie sheet', '\", \"Set in freezer for at least 30 minutes', 'Melt chocolate chips and paraffin in double boiler', '\", \"Using a toothpick, dip balls 3/4 of way into chocolate chip and paraffin mixture to make them look like buckeyes', '\"]']",
         "chocolate chip, paraffin, peanut butter, powdered sugar, soft butter"
        ],
        [
         "12",
         "Quick Barbecue Wings",
         "['chicken wings (as many as you need for dinner)', 'flour', 'barbecue sauce (your choice)']",
         "['[\"Clean wings', '\", \"Flour and fry until done', '\", \"Place fried chicken wings in microwave bowl', '\", \"Stir in barbecue sauce', '\", \"Microwave on High (stir once) for 4 minutes', '\"]']",
         "barbecue sauce, chicken wing, flour"
        ],
        [
         "13",
         "Taco Salad Chip Dip",
         "['8 oz. Ortega taco sauce', '8 oz. sour cream', '8 oz. cream cheese', '1 lb. ground beef', '1 pkg. taco seasoning', 'shredded lettuce', '1 large diced tomato', '1 medium diced onion', '1 large diced green pepper', 'shredded Colby or Cheddar cheese']",
         "['[\"Mix taco sauce, sour cream and cream cheese', '\", \"Spread on pizza pan', '\", \"Brown meat', '\", \"Drain off fat and add taco seasoning', '\", \"Spread over cream mixture', '\", \"Layer with raw vegetables', '\", \"Top with cheese', 'Serve with chips', '\"]']",
         "beef, colby cheddar cheese, cream cheese, green pepper, lettuce, onion, ortega taco sauce, sour cream, taco seasoning, tomato"
        ],
        [
         "14",
         "Pink Stuff(Frozen Dessert)  ",
         "['1 can pie filling (cherry or strawberry)', '1 can crushed pineapple, drained', '1 can sweetened condensed milk', '1 (8 oz.) container thawed whipped topping', '2 Tbsp. lemon juice']",
         "['[\"Mix all ingredients together', '\", \"Pour into a 9 x 13-inch pan', 'Freeze until firm', '\", \"Allow to set out approximately 15 minutes before serving', '\"]']",
         "container thawed whipped topping, lemon juice, pie filling, pineapple, sweetened condensed milk"
        ],
        [
         "15",
         "Fresh Strawberry Pie",
         "['1 baked pie shell', '1 qt. cleaned strawberries', '1 1/2 c. water', '4 Tbsp. cornstarch', '1 c. sugar', '1/8 tsp. salt', '4 Tbsp. strawberry jello']",
         "['[\"Mix water, cornstarch, sugar and salt in saucepan', '\", \"Stir constantly and boil until thick and clear', '\", \"Remove from heat and stir in jello', '\", \"Set aside to cool', '\", \"But don\\'t allow it to set', 'Layer strawberries in baked crust', '\", \"Pour cooled glaze over', 'Continue layering berries and glaze', '\", \"Refrigerate', '\", \"Serve with whipped cream', '\"]']",
         "baked pie shell, cleaned strawberry, cornstarch, strawberry jello, sugar"
        ],
        [
         "16",
         "Easy German Chocolate Cake",
         "['1/2 pkg. chocolate fudge cake mix without pudding or 1 Jiffy mix', '1/2 pkg. white cake mix without pudding or 1 Jiffy mix', '1/4 c. Wesson oil']",
         "['[\"Mix according to directions and add oil', '\", \"Bake in 9 x 13-inch pan', '\"]']",
         "chocolate fudge cake mix pudding jiffy mix, white cake mix pudding jiffy mix"
        ],
        [
         "17",
         "Broccoli Salad",
         "['1 large head broccoli (about 1 1/2 lb.)', '10 slices bacon, cooked and crumbled', '5 green onions, sliced or 1/4 c. chopped red onion', '1/2 c. raisins', '1 c. mayonnaise', '2 Tbsp. vinegar', '1/4 c. sugar']",
         "['[\"Trim off large leaves of broccoli and remove the tough ends of lower stalks', 'Wash the broccoli thoroughly', 'Cut the florets and stems into bite-size pieces', 'Place in a large bowl', 'Add bacon, onions and raisins', 'Combine remaining ingredients, stirring well', 'Add dressing to broccoli mixture and toss gently', 'Cover and refrigerate 2 to 3 hours', 'Makes about 6 servings', '\"]']",
         "green onion red onion, head broccoli, mayonnaise, raisin, slice bacon, sugar, vinegar"
        ],
        [
         "18",
         "Strawberry Whatever",
         "['1 lb. frozen strawberries in juice', '1 small can crushed pineapple', '3 ripe bananas', '1 c. chopped pecans', '1 large pkg. strawberry Jell-O', '1 1/2 c. boiling water', '1 pt. sour cream']",
         "['[\"Mix Jell-O in boiling water', '\", \"Add strawberries, pineapple, crushed bananas and nuts', '\", \"Spread 1/2 mixture in 13 x 6 1/2-inch pan', '\", \"Allow to gel in freezer 30 minutes', '\", \"Add layer of sour cream, then remaining mixture on top', '\", \"Gel and serve', '\"]']",
         "banana, frozen strawberry juice, pecan, small pineapple, sour cream, strawberry jello"
        ],
        [
         "19",
         "Eggless Milkless Applesauce Cake",
         "['3/4 c. sugar', '1/2 c. shortening', '1 1/2 c. applesauce', '3 level tsp. soda', '1 tsp. each: cinnamon, cloves and nutmeg', '2 c. sifted flour', '1 c. raisins', '1 c. nuts']",
         "['[\"Mix Crisco with applesauce, nuts and raisins', '\", \"Sift dry ingredients and add', '\", \"Mix well', '\", \"Put in a greased and floured loaf pan or tube pan', '\", \"Bake in loaf pan at 350\\\\u00b0 to 375\\\\u00b0 for 45 to 60 minutes, layer pan at 375\\\\u00b0 for 20 minutes or tube pan at 325\\\\u00b0 for 1 hour', '\"]']",
         "applesauce, cinnamon clove nutmeg, level soda, nut, raisin, shortening, sifted flour, sugar"
        ],
        [
         "20",
         "Grandma Hanrath'S Banana Breadfort Collins, Colorado  ",
         "['1 c. sugar', '1/2 c. shortening', '2 eggs (add one at a time)', '1 tsp. salt', '2 tsp. soda', '2 c. flour', '1/4 c. nuts', '2 over-ripe bananas (chopped)']",
         "['[\"Cream sugar and shortening', '\", \"Add eggs, salt and soda, then bananas and flour', '\", \"Add nuts', '\", \"Mix well', '\", \"Bake in loaf pan at 350\\\\u00b0 for 1 hour', '\"]']",
         "egg, flour, nut, overripe banana, shortening, soda, sugar"
        ],
        [
         "21",
         "Chocolate Frango Mints",
         "[\"1 pkg. devil's food cake mix\", '1 pkg. chocolate fudge pudding mix (instant)', '8 oz. sour cream', '3/4 c. water', '1/2 c. Wesson oil', '4 eggs', '6 oz. chopped Frango mints']",
         "['[\"Mix ingredients together for 5 minutes', '\", \"Scrape bowl often', 'Last fold in chocolate chip mints', '\", \"Bake at 350\\\\u00b0 for 35 to 40 minutes or until done (cake mix directions)', '\"]']",
         "chocolate fudge pudding mix, devil food cake mix, egg, frango mint, sour cream"
        ],
        [
         "22",
         "Cuddy Farms Marinated Turkey",
         "['2 c. 7-Up or Sprite', '1 c. vegetable oil', '1 c. Kikkoman soy sauce', 'garlic salt']",
         "['[\"Buy whole turkey breast; remove all skin and bones', 'Cut into pieces about the size of your hand', 'Pour marinade over turkey and refrigerate for at least 8 hours (up to 48 hours)', 'The longer it marinates, the less cooking time it takes', '\"]']",
         "kikkoman soy sauce, sprite"
        ],
        [
         "23",
         "Spaghetti Sauce To Can",
         "['1/2 bushel tomatoes', '1 c. oil', '1/4 c. minced garlic', '6 cans tomato paste', '3 peppers (2 sweet and 1 hot)', '1 1/2 c. sugar', '1/2 c. salt', '1 Tbsp. sweet basil', '2 Tbsp. oregano', '1 tsp. Italian seasoning']",
         "['[\"Cook ground or chopped peppers and onions in oil for 1/2 hour', 'Cook tomatoes and garlic as for juice', '\", \"Put through the mill', '\", \"(I use a food processor and do my tomatoes uncooked', '\", \"I then add the garlic right to the juice', ')\", \"Add peppers and onions to juice and remainder of ingredients', '\", \"Cook approximately 1 hour', '\", \"Put in jars and seal', '\", \"Yields 7 quarts', '\"]']",
         "bushel tomato, garlic, italian seasoning, oregano, pepper, sugar, sweet basil, tomato paste"
        ],
        [
         "24",
         "Prize-Winning Meat Loaf",
         "['1 1/2 lb. ground beef', '1 c. tomato juice', '3/4 c. oats (uncooked)', '1 egg, beaten', '1/4 c. chopped onion', '1/4 tsp. pepper', '1 1/2 tsp. salt']",
         "['[\"Mix well', '\", \"Press firmly into an 8 1/2 x 4 1/2 x 2 1/2-inch loaf pan', '\", \"Bake in preheated moderate oven', '\", \"Bake at 350\\\\u00b0 for 1 hour', '\", \"Let stand 5 minutes before slicing', '\", \"Makes 8 servings', '\"]']",
         "beef, egg, oat, onion, pepper, tomato juice"
        ],
        [
         "25",
         "Smothered Round Steak(Servings: 4)  ",
         "['2 lb. round steak', '1/2 tsp. ground black pepper', '1 tsp. ground white pepper', '1/2 c. vegetable oil', '2 bell peppers, chopped', '1 c. beef stock or water', '2 tsp. salt', '1 tsp. ground red pepper', 'all-purpose flour (dredging)', '3 medium onions, chopped', '1 celery rib, chopped']",
         "['[\"Alex Patout says, \\\\\"Smothering is a multipurpose Cajun technique that works wonders with everything from game to snap beans', '\", \"It\\'s similar to what the rest of the world knows as braising', '\", \"The ingredients are briefly browned or sauteed, then cooked with a little liquid over a low heat for a long time', '\\\\\"\"]']",
         "allpurpose flour, bell pepper, black pepper, celery rib, onion, red pepper, round steak, white pepper"
        ],
        [
         "26",
         "Corral Barbecued Beef Steak Strips",
         "['2 lb. round steak 1/2 to 3/4-inch thick, sliced in strips 1/8-inch thick (or thinner) and 3 1/2 to 4-inches long (easily sliced if partially frozen)', '2 Tbsp. cooking oil', '1 can (15 oz.) tomato sauce', '1/3 c. water', '2 Tbsp. brown sugar', '1 Tbsp. prepared mustard', '1 tbsp. Worcestershire sauce', '1 medium sized onion, thinly sliced']",
         "['[\"Brown strips in cooking oil', '\", \"Pour off drippings', '\", \"Combine tomato sauce, water, brown sugar, mustard and Worcestershire sauce', '\", \"Add sauce and onion to meat slices', '\", \"Cover and cook slowly, stirring occasionally 30 minutes or until meat is tender', 'Serve over rice or buttered noodles', '\", \"Yields 6 to 8 servings', '\"]']",
         "brown sugar, prepared mustard, round steak inch thick strip inch thick inch long, sized onion, tomato sauce, worcestershire sauce"
        ],
        [
         "27",
         "Easy Fudge",
         "['1 (14 oz.) can sweetened condensed milk', '1 (12 oz.) pkg. semi-sweet chocolate chips', '1 (1 oz.) sq. unsweetened chocolate (if desired)', '1 1/2 c. chopped nuts (if desired)', '1 tsp. vanilla']",
         "['[\"Butter a square pan, 8 x 8 x 2-inches', '\", \"Heat milk, chocolate chips and unsweetened chocolate over low heat, stirring constantly, until chocolate is melted and mixture is smooth', 'Remove from heat', '\", \"Stir in nuts and vanilla', '\", \"Spread in pan', '\"]']",
         "nut, semisweet chocolate chip, sq unsweetened chocolate, sweetened condensed milk, vanilla"
        ],
        [
         "28",
         "Taco-Filled Green Pepper",
         "['1 lb. Ground Beef', '1 pkg. taco seasoning', '1 san Kidney beans', '1 onion, chopped', '1 C salsa', '4 green peppers', '1 medium Tomato, chopped', '1/2 C cheddar cheese, shredded', '1/2 C sour cream']",
         "['[\"In a large skillet, brown the ground beef', 'Drain, stir in taco mix, kidney beans, and salsa', 'Bring to a boil', 'Reduce heat, and let simmer for about 5 minutes', 'Cut peppers in half and clean it', 'Put peppers in boiling water for 3 minutes- drain- spoon the meat mixture into the green pepper', 'Put pepper in an ungreased pan', 'Cover, and bake at 350 degrees for 15 to 20 minutes or until peppers are crispy and filling is heated through', 'Top with tomatoes, cheese, and sour cream', '\"]']",
         "beef, cheddar cheese, green pepper, onion, salsa, san kidney bean, sour cream, taco seasoning, tomato"
        ],
        [
         "29",
         "One Hour Rolls",
         "['1 c. milk', '2 Tbsp. sugar', '1 pkg. dry yeast', '1 Tbsp. salt', '3 Tbsp. Crisco oil', '2 c. plain flour']",
         "['[\"Put flour into a large mixing bowl', '\", \"Combine sugar, milk, salt and oil in a saucepan and heat to boiling; remove from heat and let cool to lukewarm', '\", \"Add yeast and mix well', '\", \"Pour into flour and stir', '\", \"Batter will be sticky', '\", \"Roll out batter on a floured board and cut with biscuit cutter', '\", \"Lightly brush tops with melted oleo and fold over', '\", \"Place rolls on a cookie sheet, put in a warm place and let rise for 1 hour', '\", \"Bake at 350\\\\u00b0 for about 20 minutes', 'Yield: 2 1/2 dozen', '\"]']",
         "dry yeast, milk, plain flour, sugar"
        ],
        [
         "30",
         "Punch Bowl Fruit Salad",
         "['2 large cans sliced peaches', '2 large cans fruit cocktail', '1 large can diced pineapple', '1 qt. fresh strawberries', '2 red apples', '2 yellow apples', '4 large ripe bananas', '1 lb. white grapes', '1 lb. purple grapes']",
         "['[\"In a 6-quart punch bowl mix all of the cans of fruit, juice and all', '\", \"Clean and slice berries', '\", \"Wash and slice apples; leave peeling on apples', '\", \"Dice apples', '\", \"Slice bananas', '\", \"Wash and cut grapes in half', '\", \"Mix all together', '\", \"Nuts or other fruit may be added', '\"]']",
         "banana, fruit cocktail, peach, pineapple, purple grape, red apple, strawberry, white grape, yellow apple"
        ],
        [
         "31",
         "Summer Chicken",
         "['1 pkg. chicken cutlets', '1/2 c. oil', '1/3 c. red vinegar', '2 Tbsp. oregano', '2 Tbsp. garlic salt']",
         "['[\"Double recipe for more chicken', '\"]']",
         "chicken cutlet, oregano, red vinegar"
        ],
        [
         "32",
         "Cherry Pizza",
         "['2 cans cherry pie mix', '1 box deluxe white cake mix', '1 stick butter', '1 c. ground nuts']",
         "['[\"Grease a 9 x 12-inch cake pan', '\", \"Spread cherry pie mix', '\", \"Sift cake mix and spread it dry over the cherries', '\", \"Top with ground nuts', '\", \"Melt butter and pour over top', '\", \"Bake 45 minutes in a 350\\\\u00b0 oven', '\"]']",
         "butter, cherry pie mix, deluxe white cake mix, nut"
        ],
        [
         "33",
         "Potato And Cheese Pie",
         "['3 eggs', '1 tsp. salt', '1/4 tsp. pepper', '2 c. half and half', '3 c. potatoes, shredded coarse', '1 c. Cheddar cheese, coarsely shredded', '1/3 c. green onions']",
         "['[\"Beat eggs, salt and pepper until well blended', '\", \"Stir in half and half, potatoes and onions', '\", \"Pour into well-greased 8-inch baking dish', '\", \"Bake in a 400\\\\u00b0 oven for 35 to 40 minutes, or until knife inserted in center comes out clean and potatoes are tender', 'Cool on rack 5 minutes; cut into squares', '\", \"Makes 4 large servings', '\"]']",
         "cheddar cheese, egg, green onion, pepper, potato coarse"
        ],
        [
         "34",
         "Tuna Macaroni Casserole",
         "['1 box macaroni and cheese', '1 can tuna, drained', '1 small jar pimentos', '1 medium onion, chopped']",
         "['[\"Prepare macaroni and cheese as directed', '\", \"Add drained tuna, pimento and onion', '\", \"Mix', '\", \"Serve hot or cold', '\"]']",
         "macaroni cheese, onion, small pimento, tuna"
        ],
        [
         "35",
         "Artichoke Dip",
         "['2 cans or jars artichoke hearts', '1 c. mayonnaise', '1 c. Parmesan cheese']",
         "['[\"Drain artichokes and chop', '\", \"Mix with mayonnaise and Parmesan cheese', '\", \"After well mixed, bake, uncovered, for 20 to 30 minutes at 350\\\\u00b0', '\", \"Serve with crackers', '\"]']",
         "artichoke heart, mayonnaise, parmesan cheese"
        ],
        [
         "36",
         "Broccoli Dip For Crackers",
         "['16 oz. sour cream', '1 pkg. dry vegetable soup mix', '10 oz. pkg. frozen chopped broccoli, thawed and drained', '4 to 6 oz. Cheddar cheese, grated']",
         "['[\"Mix together sour cream, soup mix, broccoli and half of cheese', '\", \"Sprinkle remaining cheese on top', '\", \"Bake at 350\\\\u00b0 for 30 minutes, uncovered', '\", \"Serve hot with vegetable crackers', '\"]']",
         "cheddar cheese, dry vegetable soup mix, frozen broccoli thawed, sour cream"
        ],
        [
         "37",
         "Summer Spaghetti",
         "['1 lb. very thin spaghetti', '1/2 bottle McCormick Salad Supreme (seasoning)', '1 bottle Zesty Italian dressing']",
         "['[\"Prepare spaghetti per package', '\", \"Drain', '\", \"Melt a little butter through it', '\", \"Marinate overnight in Salad Supreme and Zesty Italian dressing', '\", \"Just before serving, add cucumbers, tomatoes, green peppers, mushrooms, olives or whatever your taste may want', '\"]']",
         "mccormick salad supreme, thin spaghetti, zesty italian dressing"
        ],
        [
         "38",
         "Pear-Lime Salad",
         "['1 (16 oz.) can pear halves, undrained', '1 (3 oz.) pkg. lime gelatin', '1 (8 oz.) pkg. cream cheese, softened', '1 (8 oz.) carton lemon yogurt']",
         "['[\"Drain pears, reserving juice', '\", \"Bring juice to a boil, stirring constantly', '\", \"Remove from heat', '\", \"Add gelatin, stirring until dissolved', '\", \"Let cool slightly', '\", \"Coarsely chop pear halves', 'Combine cream cheese and yogurt; beat at medium speed of electric mixer until smooth', '\", \"Add gelatin and beat well', '\", \"Stir in pears', '\", \"Pour into an oiled 4-cup mold or Pyrex dish', '\", \"Chill', '\"]']",
         "carton lemon yogurt, cream cheese, lime gelatin, pear half undrained"
        ],
        [
         "39",
         "Watermelon Rind Pickles",
         "['7 lb. watermelon rind', '7 c. sugar', '2 c. apple vinegar', '1/2 tsp. oil of cloves', '1/2 tsp. oil of cinnamon']",
         "['[\"Trim off green and pink parts of watermelon rind; cut to 1-inch cubes', '\", \"Parboil until tender, but not soft', '\", \"Drain', 'Combine sugar, vinegar, oil of cloves and oil of cinnamon; bring to boiling and pour over rind', '\", \"Let stand overnight', '\", \"In the morning, drain off syrup', '\", \"Heat and put over rind', '\", \"The third morning, heat rind and syrup; seal in hot, sterilized jars', '\", \"Makes 8 pints', '\", \"(Oil of cinnamon and clove keeps rind clear and transparent', ')\"]']",
         "apple vinegar, sugar"
        ],
        [
         "40",
         "Chicken Stew",
         "['3 lb. chicken, boiled', '4 medium potatoes, diced', '2 medium onions, chopped', '1 (16 oz.) can creamed corn', '1 (16 oz.) can English peas', '1 (16 oz.) can field peas', '1 (16 oz.) can butter beans', '1 (16 oz.) can tomatoes', '1 (46 oz.) can tomato juice', '1 small box macaroni', '1 Tbsp. black pepper', '1 Tbsp. salt', '1 Tbsp. sugar']",
         "['[\"Remove chicken from bone', '\", \"Use the broth', '\", \"Mix the vegetables and macaroni', '\", \"Add sugar, salt and black pepper', '\", \"Cook until all vegetables are tender over medium heat', '\"]']",
         "black pepper, butter bean, chicken, creamed corn, english pea, field pea, onion, potato, small macaroni, sugar, tomato, tomato juice"
        ],
        [
         "41",
         "Quick Coffee Cake(6 Servings)  ",
         "['3 Tbsp. softened butter or margarine', '1/2 c. granulated sugar', '1 egg', '1 c. flour', '1 1/4 tsp. baking powder', '1/4 tsp. salt', '1/3 c. milk', '1/4 tsp. vanilla', '1/3 c. brown sugar, packed', '1/2 tsp. cinnamon', '2 Tbsp. butter or margarine']",
         "['[\"Mix 3 tablespoons fat with granulated sugar', '\", \"Add egg and beat until creamy', '\", \"Mix flour, baking powder and salt thoroughly', '\", \"Add to sugar mixture alternately with milk', '\", \"Add vanilla', 'Spread batter evenly in a greased 8-inch square baking pan', '\", \"Mix brown sugar and cinnamon and sprinkle over batter', '\", \"Dot with 2 tablespoons fat', '\", \"Bake at 350\\\\u00b0 (moderate oven) for 25 to 30 minutes', '\"]']",
         "baking powder, brown sugar packed, butter margarine, cinnamon, egg, flour, granulated sugar, milk, vanilla"
        ],
        [
         "42",
         "Angel Biscuits",
         "['5 c. flour', '3 Tbsp. sugar', '4 tsp. baking powder', '1 1/2 pkg. dry yeast', '2 c. buttermilk', '1 tsp. soda', '1 1/2 sticks margarine', '1/2 c. warm water']",
         "['[\"Mix flour, sugar, baking powder, soda and salt together', '\", \"Cut in margarine, dissolve yeast in warm water', '\", \"Stir into buttermilk and add to dry mixture', '\", \"Cover and chill', '\"]']",
         "baking powder, buttermilk, dry yeast, flour, margarine, soda, sugar"
        ],
        [
         "43",
         "Quick Peppermint Puffs",
         "['8 marshmallows', '2 Tbsp. margarine, melted', '1/4 c. crushed peppermint candy', '1 can crescent rolls']",
         "['[\"Dip marshmallows in melted margarine; roll in candy', 'Wrap a crescent triangle around each marshmallow, completely covering the marshmallow and square edges of dough tightly to seal', '\", \"Dip in margarine and place in a greased muffin tin', '\", \"Bake at 375\\\\u00b0 for 10 to 15 minutes; remove from pan', '\"]']",
         "crescent roll, margarine, marshmallow, peppermint candy"
        ],
        [
         "44",
         "Fruit Pizza",
         "['1 box yellow cake mix', '1/4 c. water', '1/4 c. brown sugar', '1/2 c. soft butter', '2 eggs', '1/2 c. chopped nuts']",
         "['[\"Mix ingredients and spread into 2 greased pizza pans', '\", \"Bake at 350\\\\u00b0 for 15-20 minutes', '\"]']",
         "brown sugar, egg, nut, soft butter, yellow cake mix"
        ],
        [
         "45",
         "Chocolate Mint Bars",
         "['1 c. flour', '1 c. sugar', '1/2 c. oleo, softened', '4 eggs', '1 can chocolate syrup']",
         "['[\"Mix together and bake in 9 x 13-inch pan at 350\\\\u00b0 for 25 to 30 minutes', '\", \"Top should spring back when touched lightly; do not overbake', '\", \"Cool completely, then spread with mint layer', '\"]']",
         "chocolate syrup, egg, flour, oleo, sugar"
        ],
        [
         "46",
         "Beer Bread",
         "['3 c. self rising flour', '1 - 12 oz. can beer', '1 Tbsp. sugar']",
         "['[\"Stir the ingredients together and put in a greased and floured loaf pan', '\", \"Bake at 425 degrees for 50 minutes', '\", \"Drizzle melted butter on top', '\"]']",
         "beer, self rising flour, sugar"
        ],
        [
         "47",
         "Chicken Divan",
         "['1/4 c. margarine', '1/4 c. chopped onion (or as much as you want)', 'chopped celery to taste', '1/4 c. flour', '1/8 tsp. curry powder', '1 can sliced mushrooms (save juice)', '1 can cream of celery soup', '1 pkg. chopped broccoli', '1 cubed chicken', 'shredded Monterey Jack cheese']",
         "['[\"Melt margarine in skillet; saute onions and celery', '\", \"Remove from heat', '\", \"Stir in flour and curry powder', '\", \"Drain mushrooms and keep juice', '\", \"Add water to juice to make 1/2 cup liquid', '\", \"Stir liquid and soup into flour mixture; add mushrooms', '\", \"Cook until thick', '\", \"Arrange broccoli and cubed chicken in a large baking dish', 'Spoon sauce over chicken', '\", \"Top with grated cheese', '\", \"Bake in a 350\\\\u00b0 oven for about 20 minutes or in microwave until cheese is melted', '\"]']",
         "broccoli, celery taste, chicken, cream celery soup, curry powder, flour, margarine, monterey jack cheese, mushroom, onion"
        ],
        [
         "48",
         "Mexican Cookie Rings",
         "['1 1/2 c. sifted flour', '1/2 tsp. baking powder', '1/2 tsp. salt', '1/2 c. butter', '2/3 c. sugar', '3 egg yolks', '1 tsp. vanilla', 'multi-colored candies']",
         "['[\"Sift flour, baking powder and salt together', '\", \"Cream together butter and sugar', '\", \"Add egg yolks and vanilla', '\", \"Beat until light and fluffy', '\", \"Mix in sifted dry ingredients', '\", \"Shape into 1-inch balls', '\", \"Push wooden spoon handle through center (twist)', '\", \"Shape into rings', '\", \"Dip each cookie into candies', '\", \"Place on lightly greased baking sheets', '\", \"Bake in 375\\\\u00b0 oven for 10 to 12 minutes or until golden brown', '\", \"Cool on racks', '\", \"Serves 2 dozen', '\"]']",
         "baking powder, butter, egg yolk, multicolored candy, sifted flour, sugar, vanilla"
        ],
        [
         "49",
         "Vegetable-Burger Soup",
         "['1/2 lb. ground beef', '2 c. water', '1 tsp. sugar', '1 pkg. Cup-a-Soup onion soup mix (dry)', '1 lb. can stewed tomatoes', '1 (8 oz.) can tomato sauce', '1 (10 oz.) pkg. frozen mixed vegetables']",
         "['[\"Lightly brown beef in soup pot', '\", \"Drain off excess fat', '\", \"Stir in tomatoes, tomato sauce, water, frozen vegetables, soup mix and sugar', '\", \"Bring to a boil', '\", \"Reduce heat and simmer for 20 minutes', 'Serve', '\"]']",
         "beef, cupasoup onion soup mix, frozen mixed vegetable, stewed tomato, sugar, tomato sauce"
        ]
       ],
       "shape": {
        "columns": 4,
        "rows": 2231909
       }
      },
      "text/html": [
       "<div>\n",
       "<style scoped>\n",
       "    .dataframe tbody tr th:only-of-type {\n",
       "        vertical-align: middle;\n",
       "    }\n",
       "\n",
       "    .dataframe tbody tr th {\n",
       "        vertical-align: top;\n",
       "    }\n",
       "\n",
       "    .dataframe thead th {\n",
       "        text-align: right;\n",
       "    }\n",
       "</style>\n",
       "<table border=\"1\" class=\"dataframe\">\n",
       "  <thead>\n",
       "    <tr style=\"text-align: right;\">\n",
       "      <th></th>\n",
       "      <th>title</th>\n",
       "      <th>ingredients</th>\n",
       "      <th>instructions</th>\n",
       "      <th>ingredients_clean</th>\n",
       "    </tr>\n",
       "  </thead>\n",
       "  <tbody>\n",
       "    <tr>\n",
       "      <th>0</th>\n",
       "      <td>No-Bake Nut Cookies</td>\n",
       "      <td>['1 c. firmly packed brown sugar', '1/2 c. eva...</td>\n",
       "      <td>['[\"In a heavy 2-quart saucepan, mix brown sug...</td>\n",
       "      <td>bite size rice biscuit, broken nut, butter mar...</td>\n",
       "    </tr>\n",
       "    <tr>\n",
       "      <th>1</th>\n",
       "      <td>Jewell Ball'S Chicken</td>\n",
       "      <td>['1 small jar chipped beef, cut up', '4 boned ...</td>\n",
       "      <td>['[\"Place chipped beef on bottom of baking dis...</td>\n",
       "      <td>boned chicken breast, carton sour cream, cream...</td>\n",
       "    </tr>\n",
       "    <tr>\n",
       "      <th>2</th>\n",
       "      <td>Creamy Corn</td>\n",
       "      <td>['2 (16 oz.) pkg. frozen corn', '1 (8 oz.) pkg...</td>\n",
       "      <td>['[\"In a slow cooker, combine all ingredients'...</td>\n",
       "      <td>butter, cream cheese, frozen corn, garlic powd...</td>\n",
       "    </tr>\n",
       "    <tr>\n",
       "      <th>3</th>\n",
       "      <td>Chicken Funny</td>\n",
       "      <td>['1 large whole chicken', '2 (10 1/2 oz.) cans...</td>\n",
       "      <td>['[\"Boil and debone chicken', '\", \"Put bite si...</td>\n",
       "      <td>cheese, chicken, chicken gravy, cream mushroom...</td>\n",
       "    </tr>\n",
       "    <tr>\n",
       "      <th>4</th>\n",
       "      <td>Reeses Cups(Candy)</td>\n",
       "      <td>['1 c. peanut butter', '3/4 c. graham cracker ...</td>\n",
       "      <td>['[\"Combine first four ingredients and press i...</td>\n",
       "      <td>butter, chocolate chip, graham cracker crumb, ...</td>\n",
       "    </tr>\n",
       "    <tr>\n",
       "      <th>...</th>\n",
       "      <td>...</td>\n",
       "      <td>...</td>\n",
       "      <td>...</td>\n",
       "      <td>...</td>\n",
       "    </tr>\n",
       "    <tr>\n",
       "      <th>2231904</th>\n",
       "      <td>Crockpot Sweet Potato Lentils</td>\n",
       "      <td>['coconut', 'milk', 'red', 'lentil', 'garlic',...</td>\n",
       "      <td>[\"['Place the sweet potatoes, vegetable broth,...</td>\n",
       "      <td>broth, coconut, coriand, garlic, lentil, milk,...</td>\n",
       "    </tr>\n",
       "    <tr>\n",
       "      <th>2231905</th>\n",
       "      <td>Healthy Maple Glazed Pumpkin Muffins</td>\n",
       "      <td>['purpos', 'flour', 'bake', 'powder', 'whole',...</td>\n",
       "      <td>[\"['Preheat the oven to 350 F\", 'Mix the dry i...</td>\n",
       "      <td>bake, butter, egg, flour, granul, mapl, milk, ...</td>\n",
       "    </tr>\n",
       "    <tr>\n",
       "      <th>2231906</th>\n",
       "      <td>Filipino Humba</td>\n",
       "      <td>['oyster', 'sauc', 'bonein', 'pork', 'belli', ...</td>\n",
       "      <td>[\"['Separate the fat from the lean meat by cut...</td>\n",
       "      <td>bay, bean, belli, black, bonein, brown, garlic...</td>\n",
       "    </tr>\n",
       "    <tr>\n",
       "      <th>2231907</th>\n",
       "      <td>Deep Dish Cinnamon Streusel Dessert Pizza</td>\n",
       "      <td>['cream', 'dough', 'ani', 'pizza', 'dough', 'c...</td>\n",
       "      <td>[\"['Crust: Preheat the oven to 425\", 'Generous...</td>\n",
       "      <td>ani, brown, butter, cinnamon, cold, cream, dou...</td>\n",
       "    </tr>\n",
       "    <tr>\n",
       "      <th>2231908</th>\n",
       "      <td>Healthy Jalapeño Sweet Potato Chicken Chili</td>\n",
       "      <td>['chicken', 'breast', 'fire', 'roast', 'tomato...</td>\n",
       "      <td>[\"['Poach the chicken: Bring the chicken broth...</td>\n",
       "      <td>bean, black, breast, broth, chees, chicken, ch...</td>\n",
       "    </tr>\n",
       "  </tbody>\n",
       "</table>\n",
       "<p>2231909 rows × 4 columns</p>\n",
       "</div>"
      ],
      "text/plain": [
       "                                               title  \\\n",
       "0                                No-Bake Nut Cookies   \n",
       "1                              Jewell Ball'S Chicken   \n",
       "2                                        Creamy Corn   \n",
       "3                                      Chicken Funny   \n",
       "4                               Reeses Cups(Candy)     \n",
       "...                                              ...   \n",
       "2231904                Crockpot Sweet Potato Lentils   \n",
       "2231905         Healthy Maple Glazed Pumpkin Muffins   \n",
       "2231906                               Filipino Humba   \n",
       "2231907    Deep Dish Cinnamon Streusel Dessert Pizza   \n",
       "2231908  Healthy Jalapeño Sweet Potato Chicken Chili   \n",
       "\n",
       "                                               ingredients  \\\n",
       "0        ['1 c. firmly packed brown sugar', '1/2 c. eva...   \n",
       "1        ['1 small jar chipped beef, cut up', '4 boned ...   \n",
       "2        ['2 (16 oz.) pkg. frozen corn', '1 (8 oz.) pkg...   \n",
       "3        ['1 large whole chicken', '2 (10 1/2 oz.) cans...   \n",
       "4        ['1 c. peanut butter', '3/4 c. graham cracker ...   \n",
       "...                                                    ...   \n",
       "2231904  ['coconut', 'milk', 'red', 'lentil', 'garlic',...   \n",
       "2231905  ['purpos', 'flour', 'bake', 'powder', 'whole',...   \n",
       "2231906  ['oyster', 'sauc', 'bonein', 'pork', 'belli', ...   \n",
       "2231907  ['cream', 'dough', 'ani', 'pizza', 'dough', 'c...   \n",
       "2231908  ['chicken', 'breast', 'fire', 'roast', 'tomato...   \n",
       "\n",
       "                                              instructions  \\\n",
       "0        ['[\"In a heavy 2-quart saucepan, mix brown sug...   \n",
       "1        ['[\"Place chipped beef on bottom of baking dis...   \n",
       "2        ['[\"In a slow cooker, combine all ingredients'...   \n",
       "3        ['[\"Boil and debone chicken', '\", \"Put bite si...   \n",
       "4        ['[\"Combine first four ingredients and press i...   \n",
       "...                                                    ...   \n",
       "2231904  [\"['Place the sweet potatoes, vegetable broth,...   \n",
       "2231905  [\"['Preheat the oven to 350 F\", 'Mix the dry i...   \n",
       "2231906  [\"['Separate the fat from the lean meat by cut...   \n",
       "2231907  [\"['Crust: Preheat the oven to 425\", 'Generous...   \n",
       "2231908  [\"['Poach the chicken: Bring the chicken broth...   \n",
       "\n",
       "                                         ingredients_clean  \n",
       "0        bite size rice biscuit, broken nut, butter mar...  \n",
       "1        boned chicken breast, carton sour cream, cream...  \n",
       "2        butter, cream cheese, frozen corn, garlic powd...  \n",
       "3        cheese, chicken, chicken gravy, cream mushroom...  \n",
       "4        butter, chocolate chip, graham cracker crumb, ...  \n",
       "...                                                    ...  \n",
       "2231904  broth, coconut, coriand, garlic, lentil, milk,...  \n",
       "2231905  bake, butter, egg, flour, granul, mapl, milk, ...  \n",
       "2231906  bay, bean, belli, black, bonein, brown, garlic...  \n",
       "2231907  ani, brown, butter, cinnamon, cold, cream, dou...  \n",
       "2231908  bean, black, breast, broth, chees, chicken, ch...  \n",
       "\n",
       "[2231909 rows x 4 columns]"
      ]
     },
     "execution_count": 16,
     "metadata": {},
     "output_type": "execute_result"
    }
   ],
   "source": [
    "df_combined"
   ]
  },
  {
   "cell_type": "markdown",
   "id": "2684a257",
   "metadata": {},
   "source": [
    "## Data Storage"
   ]
  },
  {
   "cell_type": "code",
   "execution_count": 17,
   "id": "220d1f62",
   "metadata": {},
   "outputs": [],
   "source": [
    "import pickle\n",
    "\n",
    "with open('../models/recipes.pkl', 'wb') as file:\n",
    "    pickle.dump(df_combined, file)"
   ]
  },
  {
   "cell_type": "code",
   "execution_count": 18,
   "id": "a4eac8c2",
   "metadata": {},
   "outputs": [
    {
     "name": "stdout",
     "output_type": "stream",
     "text": [
      "SQLite database 'pantrypalette.db' has been created and populated.\n"
     ]
    }
   ],
   "source": [
    "import sqlite3\n",
    "import os\n",
    "import ast\n",
    "\n",
    "receipe_df = df_combined[['title', 'ingredients', 'instructions']] \n",
    "\n",
    "# Ensure that the database folder exists\n",
    "os.makedirs(\"../database\", exist_ok=True)\n",
    "\n",
    "# Connect to (or create) the SQLite database\n",
    "conn = sqlite3.connect(\"../database/pantrypalette.db\")\n",
    "\n",
    "# Create a table named 'recipes' and populate it with the DataFrame data\n",
    "receipe_df.to_sql(\"recipes\", conn, if_exists=\"replace\", index=False)\n",
    "\n",
    "conn.close()\n",
    "\n",
    "print(\"SQLite database 'pantrypalette.db' has been created and populated.\")"
   ]
  },
  {
   "cell_type": "code",
   "execution_count": 19,
   "id": "4f6c1f21",
   "metadata": {},
   "outputs": [
    {
     "data": {
      "application/vnd.microsoft.datawrangler.viewer.v0+json": {
       "columns": [
        {
         "name": "index",
         "rawType": "int64",
         "type": "integer"
        },
        {
         "name": "title",
         "rawType": "object",
         "type": "unknown"
        },
        {
         "name": "ingredients",
         "rawType": "object",
         "type": "string"
        },
        {
         "name": "instructions",
         "rawType": "object",
         "type": "string"
        },
        {
         "name": "ingredients_clean",
         "rawType": "object",
         "type": "string"
        }
       ],
       "conversionMethod": "pd.DataFrame",
       "ref": "18daaf60-dd58-421a-818d-4f517eb450e9",
       "rows": [
        [
         "0",
         "No-Bake Nut Cookies",
         "['1 c. firmly packed brown sugar', '1/2 c. evaporated milk', '1/2 tsp. vanilla', '1/2 c. broken nuts (pecans)', '2 Tbsp. butter or margarine', '3 1/2 c. bite size shredded rice biscuits']",
         "['[\"In a heavy 2-quart saucepan, mix brown sugar, nuts, evaporated milk and butter or margarine', '\", \"Stir over medium heat until mixture bubbles all over top', '\", \"Boil and stir 5 minutes more', 'Take off heat', '\", \"Stir in vanilla and cereal; mix well', '\", \"Using 2 teaspoons, drop and shape into 30 clusters on wax paper', '\", \"Let stand until firm, about 30 minutes', '\"]']",
         "bite size rice biscuit, broken nut, butter margarine, evaporated milk, firmly packed brown sugar, vanilla"
        ],
        [
         "1",
         "Jewell Ball'S Chicken",
         "['1 small jar chipped beef, cut up', '4 boned chicken breasts', '1 can cream of mushroom soup', '1 carton sour cream']",
         "['[\"Place chipped beef on bottom of baking dish', '\", \"Place chicken on top of beef', '\", \"Mix soup and cream together; pour over chicken', 'Bake, uncovered, at 275\\\\u00b0 for 3 hours', '\"]']",
         "boned chicken breast, carton sour cream, cream mushroom soup, small chipped beef"
        ],
        [
         "2",
         "Creamy Corn",
         "['2 (16 oz.) pkg. frozen corn', '1 (8 oz.) pkg. cream cheese, cubed', '1/3 c. butter, cubed', '1/2 tsp. garlic powder', '1/2 tsp. salt', '1/4 tsp. pepper']",
         "['[\"In a slow cooker, combine all ingredients', 'Cover and cook on low for 4 hours or until heated through and cheese is melted', 'Stir well before serving', 'Yields 6 servings', '\"]']",
         "butter, cream cheese, frozen corn, garlic powder, pepper"
        ],
        [
         "3",
         "Chicken Funny",
         "['1 large whole chicken', '2 (10 1/2 oz.) cans chicken gravy', '1 (10 1/2 oz.) can cream of mushroom soup', '1 (6 oz.) box Stove Top stuffing', '4 oz. shredded cheese']",
         "['[\"Boil and debone chicken', '\", \"Put bite size pieces in average size square casserole dish', '\", \"Pour gravy and cream of mushroom soup over chicken; level', '\", \"Make stuffing according to instructions on box (do not make too moist)', '\", \"Put stuffing on top of chicken and gravy; level', '\", \"Sprinkle shredded cheese on top and bake at 350\\\\u00b0 for approximately 20 minutes or until golden and bubbly', '\"]']",
         "cheese, chicken, chicken gravy, cream mushroom soup, stove top stuffing"
        ],
        [
         "4",
         "Reeses Cups(Candy)  ",
         "['1 c. peanut butter', '3/4 c. graham cracker crumbs', '1 c. melted butter', '1 lb. (3 1/2 c.) powdered sugar', '1 large pkg. chocolate chips']",
         "['[\"Combine first four ingredients and press in 13 x 9-inch ungreased pan', '\", \"Melt chocolate chips and spread over mixture', 'Refrigerate for about 20 minutes and cut into pieces before chocolate gets hard', '\", \"Keep in refrigerator', '\"]']",
         "butter, chocolate chip, graham cracker crumb, peanut butter, powdered sugar"
        ],
        [
         "5",
         "Cheeseburger Potato Soup",
         "['6 baking potatoes', '1 lb. of extra lean ground beef', '2/3 c. butter or margarine', '6 c. milk', '3/4 tsp. salt', '1/2 tsp. pepper', '1 1/2 c (6 oz.) shredded Cheddar cheese, divided', '12 sliced bacon, cooked, crumbled and divided', '4 green onion, chopped and divided', '1 (8 oz.) carton sour cream (optional)']",
         "['[\"Wash potatoes; prick several times with a fork', '\", \"Microwave them with a wet paper towel covering the potatoes on high for 6-8 minutes', '\", \"The potatoes should be soft, ready to eat', '\", \"Let them cool enough to handle', '\", \"Cut in half lengthwise; scoop out pulp and reserve', '\", \"Discard shells', '\", \"Brown ground beef until done', '\", \"Drain any grease from the meat', '\", \"Set aside when done', '\", \"Meat will be added later', '\", \"Melt butter in a large kettle over low heat; add flour, stirring until smooth', '\", \"Cook 1 minute, stirring constantly', 'Gradually add milk; cook over medium heat, stirring constantly, until thickened and bubbly', '\", \"Stir in potato, ground beef, salt, pepper, 1 cup of cheese, 2 tablespoons of green onion and 1/2 cup of bacon', '\", \"Cook until heated (do not boil)', '\", \"Stir in sour cream if desired; cook until heated (do not boil)', '\", \"Sprinkle with remaining cheese, bacon and green onions', '\"]']",
         "bacon divided, baking potato, butter margarine, carton sour cream, cheddar cheese divided, green onion divided, lean beef, milk, pepper"
        ],
        [
         "6",
         "Rhubarb Coffee Cake",
         "['1 1/2 c. sugar', '1/2 c. butter', '1 egg', '1 c. buttermilk', '2 c. flour', '1/2 tsp. salt', '1 tsp. soda', '1 c. buttermilk', '2 c. rhubarb, finely cut', '1 tsp. vanilla']",
         "['[\"Cream sugar and butter', '\", \"Add egg and beat well', '\", \"To creamed butter, sugar and egg, add alternately buttermilk with mixture of flour, salt and soda', '\", \"Mix well', '\", \"Add rhubarb and vanilla', '\", \"Pour into greased 9 x 13-inch pan and add Topping', '\"]']",
         "butter, buttermilk, egg, flour, rhubarb, soda, sugar, vanilla"
        ],
        [
         "7",
         "Scalloped Corn",
         "['1 can cream-style corn', '1 can whole kernel corn', '1/2 pkg. (approximately 20) saltine crackers, crushed', '1 egg, beaten', '6 tsp. butter, divided', 'pepper to taste']",
         "['[\"Mix together both cans of corn, crackers, egg, 2 teaspoons of melted butter and pepper and place in a buttered baking dish', '\", \"Dot with remaining 4 teaspoons of butter', '\", \"Bake at 350\\\\u00b0 for 1 hour', '\"]']",
         "butter divided, creamstyle corn, egg, kernel corn, pepper taste"
        ],
        [
         "8",
         "Nolan'S Pepper Steak",
         "['1 1/2 lb. round steak (1-inch thick), cut into strips', '1 can drained tomatoes, cut up (save liquid)', '1 3/4 c. water', '1/2 c. onions', '1 1/2 Tbsp. Worcestershire sauce', '2 green peppers, diced', '1/4 c. oil']",
         "['[\"Roll steak strips in flour', '\", \"Brown in skillet', '\", \"Salt and pepper', '\", \"Combine tomato liquid, water, onions and browned steak', 'Cover and simmer for one and a quarter hours', '\", \"Uncover and stir in Worcestershire sauce', '\", \"Add tomatoes, green peppers and simmer for 5 minutes', '\", \"Serve over hot cooked rice', '\"]']",
         "green pepper, onion, round steak strip, tomato, worcestershire sauce"
        ],
        [
         "9",
         "Millionaire Pie",
         "['1 large container Cool Whip', '1 large can crushed pineapple', '1 can condensed milk', '3 lemons', '1 c. pecans', '2 graham cracker crusts']",
         "['[\"Empty Cool Whip into a bowl', '\", \"Drain juice from pineapple', '\", \"Mix Cool Whip and pineapple', '\", \"Add condensed milk', '\", \"Squeeze lemons, remove seeds and add to Cool Whip and pineapple', '\", \"Chop nuts into small pieces and add to mixture', '\", \"Stir all ingredients together and mix well', '\", \"Pour into a graham cracker crust', '\", \"Use top from crust to cover top of pie', '\", \"Chill overnight', '\", \"Makes 2 pies', '\"]']",
         "condensed milk, container cool whip, graham cracker crust, lemon, pecan, pineapple"
        ],
        [
         "10",
         "Double Cherry Delight",
         "['1 (17 oz.) can dark sweet pitted cherries', '1/2 c. ginger ale', '1 (6 oz.) pkg. Jell-O cherry flavor gelatin', '2 c. boiling water', '1/8 tsp. almond extract', '1 c. miniature marshmallows']",
         "['[\"Drain cherries, measuring syrup', '\", \"Cut cherries in half', '\", \"Add ginger ale and enough water to syrup to make 1 1/2 cups', '\", \"Dissolve gelatin in boiling water', '\", \"Add measured liquid and almond extract', 'Chill until very thick', '\", \"Fold in marshmallows and the cherries', 'Spoon into 6-cup mold', '\", \"Chill until firm, at least 4 hours or overnight', '\", \"Unmold', '\", \"Makes about 5 1/3 cups', '\"]']",
         "almond extract, ginger ale, jello cherry flavor gelatin, miniature marshmallow, sweet pitted cherry"
        ],
        [
         "11",
         "Buckeye Candy",
         "['1 box powdered sugar', '8 oz. soft butter', '1 (8 oz.) peanut butter', 'paraffin', '12 oz. chocolate chips']",
         "['[\"Mix sugar, butter and peanut butter', '\", \"Roll into balls and place on cookie sheet', '\", \"Set in freezer for at least 30 minutes', 'Melt chocolate chips and paraffin in double boiler', '\", \"Using a toothpick, dip balls 3/4 of way into chocolate chip and paraffin mixture to make them look like buckeyes', '\"]']",
         "chocolate chip, paraffin, peanut butter, powdered sugar, soft butter"
        ],
        [
         "12",
         "Quick Barbecue Wings",
         "['chicken wings (as many as you need for dinner)', 'flour', 'barbecue sauce (your choice)']",
         "['[\"Clean wings', '\", \"Flour and fry until done', '\", \"Place fried chicken wings in microwave bowl', '\", \"Stir in barbecue sauce', '\", \"Microwave on High (stir once) for 4 minutes', '\"]']",
         "barbecue sauce, chicken wing, flour"
        ],
        [
         "13",
         "Taco Salad Chip Dip",
         "['8 oz. Ortega taco sauce', '8 oz. sour cream', '8 oz. cream cheese', '1 lb. ground beef', '1 pkg. taco seasoning', 'shredded lettuce', '1 large diced tomato', '1 medium diced onion', '1 large diced green pepper', 'shredded Colby or Cheddar cheese']",
         "['[\"Mix taco sauce, sour cream and cream cheese', '\", \"Spread on pizza pan', '\", \"Brown meat', '\", \"Drain off fat and add taco seasoning', '\", \"Spread over cream mixture', '\", \"Layer with raw vegetables', '\", \"Top with cheese', 'Serve with chips', '\"]']",
         "beef, colby cheddar cheese, cream cheese, green pepper, lettuce, onion, ortega taco sauce, sour cream, taco seasoning, tomato"
        ],
        [
         "14",
         "Pink Stuff(Frozen Dessert)  ",
         "['1 can pie filling (cherry or strawberry)', '1 can crushed pineapple, drained', '1 can sweetened condensed milk', '1 (8 oz.) container thawed whipped topping', '2 Tbsp. lemon juice']",
         "['[\"Mix all ingredients together', '\", \"Pour into a 9 x 13-inch pan', 'Freeze until firm', '\", \"Allow to set out approximately 15 minutes before serving', '\"]']",
         "container thawed whipped topping, lemon juice, pie filling, pineapple, sweetened condensed milk"
        ],
        [
         "15",
         "Fresh Strawberry Pie",
         "['1 baked pie shell', '1 qt. cleaned strawberries', '1 1/2 c. water', '4 Tbsp. cornstarch', '1 c. sugar', '1/8 tsp. salt', '4 Tbsp. strawberry jello']",
         "['[\"Mix water, cornstarch, sugar and salt in saucepan', '\", \"Stir constantly and boil until thick and clear', '\", \"Remove from heat and stir in jello', '\", \"Set aside to cool', '\", \"But don\\'t allow it to set', 'Layer strawberries in baked crust', '\", \"Pour cooled glaze over', 'Continue layering berries and glaze', '\", \"Refrigerate', '\", \"Serve with whipped cream', '\"]']",
         "baked pie shell, cleaned strawberry, cornstarch, strawberry jello, sugar"
        ],
        [
         "16",
         "Easy German Chocolate Cake",
         "['1/2 pkg. chocolate fudge cake mix without pudding or 1 Jiffy mix', '1/2 pkg. white cake mix without pudding or 1 Jiffy mix', '1/4 c. Wesson oil']",
         "['[\"Mix according to directions and add oil', '\", \"Bake in 9 x 13-inch pan', '\"]']",
         "chocolate fudge cake mix pudding jiffy mix, white cake mix pudding jiffy mix"
        ],
        [
         "17",
         "Broccoli Salad",
         "['1 large head broccoli (about 1 1/2 lb.)', '10 slices bacon, cooked and crumbled', '5 green onions, sliced or 1/4 c. chopped red onion', '1/2 c. raisins', '1 c. mayonnaise', '2 Tbsp. vinegar', '1/4 c. sugar']",
         "['[\"Trim off large leaves of broccoli and remove the tough ends of lower stalks', 'Wash the broccoli thoroughly', 'Cut the florets and stems into bite-size pieces', 'Place in a large bowl', 'Add bacon, onions and raisins', 'Combine remaining ingredients, stirring well', 'Add dressing to broccoli mixture and toss gently', 'Cover and refrigerate 2 to 3 hours', 'Makes about 6 servings', '\"]']",
         "green onion red onion, head broccoli, mayonnaise, raisin, slice bacon, sugar, vinegar"
        ],
        [
         "18",
         "Strawberry Whatever",
         "['1 lb. frozen strawberries in juice', '1 small can crushed pineapple', '3 ripe bananas', '1 c. chopped pecans', '1 large pkg. strawberry Jell-O', '1 1/2 c. boiling water', '1 pt. sour cream']",
         "['[\"Mix Jell-O in boiling water', '\", \"Add strawberries, pineapple, crushed bananas and nuts', '\", \"Spread 1/2 mixture in 13 x 6 1/2-inch pan', '\", \"Allow to gel in freezer 30 minutes', '\", \"Add layer of sour cream, then remaining mixture on top', '\", \"Gel and serve', '\"]']",
         "banana, frozen strawberry juice, pecan, small pineapple, sour cream, strawberry jello"
        ],
        [
         "19",
         "Eggless Milkless Applesauce Cake",
         "['3/4 c. sugar', '1/2 c. shortening', '1 1/2 c. applesauce', '3 level tsp. soda', '1 tsp. each: cinnamon, cloves and nutmeg', '2 c. sifted flour', '1 c. raisins', '1 c. nuts']",
         "['[\"Mix Crisco with applesauce, nuts and raisins', '\", \"Sift dry ingredients and add', '\", \"Mix well', '\", \"Put in a greased and floured loaf pan or tube pan', '\", \"Bake in loaf pan at 350\\\\u00b0 to 375\\\\u00b0 for 45 to 60 minutes, layer pan at 375\\\\u00b0 for 20 minutes or tube pan at 325\\\\u00b0 for 1 hour', '\"]']",
         "applesauce, cinnamon clove nutmeg, level soda, nut, raisin, shortening, sifted flour, sugar"
        ],
        [
         "20",
         "Grandma Hanrath'S Banana Breadfort Collins, Colorado  ",
         "['1 c. sugar', '1/2 c. shortening', '2 eggs (add one at a time)', '1 tsp. salt', '2 tsp. soda', '2 c. flour', '1/4 c. nuts', '2 over-ripe bananas (chopped)']",
         "['[\"Cream sugar and shortening', '\", \"Add eggs, salt and soda, then bananas and flour', '\", \"Add nuts', '\", \"Mix well', '\", \"Bake in loaf pan at 350\\\\u00b0 for 1 hour', '\"]']",
         "egg, flour, nut, overripe banana, shortening, soda, sugar"
        ],
        [
         "21",
         "Chocolate Frango Mints",
         "[\"1 pkg. devil's food cake mix\", '1 pkg. chocolate fudge pudding mix (instant)', '8 oz. sour cream', '3/4 c. water', '1/2 c. Wesson oil', '4 eggs', '6 oz. chopped Frango mints']",
         "['[\"Mix ingredients together for 5 minutes', '\", \"Scrape bowl often', 'Last fold in chocolate chip mints', '\", \"Bake at 350\\\\u00b0 for 35 to 40 minutes or until done (cake mix directions)', '\"]']",
         "chocolate fudge pudding mix, devil food cake mix, egg, frango mint, sour cream"
        ],
        [
         "22",
         "Cuddy Farms Marinated Turkey",
         "['2 c. 7-Up or Sprite', '1 c. vegetable oil', '1 c. Kikkoman soy sauce', 'garlic salt']",
         "['[\"Buy whole turkey breast; remove all skin and bones', 'Cut into pieces about the size of your hand', 'Pour marinade over turkey and refrigerate for at least 8 hours (up to 48 hours)', 'The longer it marinates, the less cooking time it takes', '\"]']",
         "kikkoman soy sauce, sprite"
        ],
        [
         "23",
         "Spaghetti Sauce To Can",
         "['1/2 bushel tomatoes', '1 c. oil', '1/4 c. minced garlic', '6 cans tomato paste', '3 peppers (2 sweet and 1 hot)', '1 1/2 c. sugar', '1/2 c. salt', '1 Tbsp. sweet basil', '2 Tbsp. oregano', '1 tsp. Italian seasoning']",
         "['[\"Cook ground or chopped peppers and onions in oil for 1/2 hour', 'Cook tomatoes and garlic as for juice', '\", \"Put through the mill', '\", \"(I use a food processor and do my tomatoes uncooked', '\", \"I then add the garlic right to the juice', ')\", \"Add peppers and onions to juice and remainder of ingredients', '\", \"Cook approximately 1 hour', '\", \"Put in jars and seal', '\", \"Yields 7 quarts', '\"]']",
         "bushel tomato, garlic, italian seasoning, oregano, pepper, sugar, sweet basil, tomato paste"
        ],
        [
         "24",
         "Prize-Winning Meat Loaf",
         "['1 1/2 lb. ground beef', '1 c. tomato juice', '3/4 c. oats (uncooked)', '1 egg, beaten', '1/4 c. chopped onion', '1/4 tsp. pepper', '1 1/2 tsp. salt']",
         "['[\"Mix well', '\", \"Press firmly into an 8 1/2 x 4 1/2 x 2 1/2-inch loaf pan', '\", \"Bake in preheated moderate oven', '\", \"Bake at 350\\\\u00b0 for 1 hour', '\", \"Let stand 5 minutes before slicing', '\", \"Makes 8 servings', '\"]']",
         "beef, egg, oat, onion, pepper, tomato juice"
        ],
        [
         "25",
         "Smothered Round Steak(Servings: 4)  ",
         "['2 lb. round steak', '1/2 tsp. ground black pepper', '1 tsp. ground white pepper', '1/2 c. vegetable oil', '2 bell peppers, chopped', '1 c. beef stock or water', '2 tsp. salt', '1 tsp. ground red pepper', 'all-purpose flour (dredging)', '3 medium onions, chopped', '1 celery rib, chopped']",
         "['[\"Alex Patout says, \\\\\"Smothering is a multipurpose Cajun technique that works wonders with everything from game to snap beans', '\", \"It\\'s similar to what the rest of the world knows as braising', '\", \"The ingredients are briefly browned or sauteed, then cooked with a little liquid over a low heat for a long time', '\\\\\"\"]']",
         "allpurpose flour, bell pepper, black pepper, celery rib, onion, red pepper, round steak, white pepper"
        ],
        [
         "26",
         "Corral Barbecued Beef Steak Strips",
         "['2 lb. round steak 1/2 to 3/4-inch thick, sliced in strips 1/8-inch thick (or thinner) and 3 1/2 to 4-inches long (easily sliced if partially frozen)', '2 Tbsp. cooking oil', '1 can (15 oz.) tomato sauce', '1/3 c. water', '2 Tbsp. brown sugar', '1 Tbsp. prepared mustard', '1 tbsp. Worcestershire sauce', '1 medium sized onion, thinly sliced']",
         "['[\"Brown strips in cooking oil', '\", \"Pour off drippings', '\", \"Combine tomato sauce, water, brown sugar, mustard and Worcestershire sauce', '\", \"Add sauce and onion to meat slices', '\", \"Cover and cook slowly, stirring occasionally 30 minutes or until meat is tender', 'Serve over rice or buttered noodles', '\", \"Yields 6 to 8 servings', '\"]']",
         "brown sugar, prepared mustard, round steak inch thick strip inch thick inch long, sized onion, tomato sauce, worcestershire sauce"
        ],
        [
         "27",
         "Easy Fudge",
         "['1 (14 oz.) can sweetened condensed milk', '1 (12 oz.) pkg. semi-sweet chocolate chips', '1 (1 oz.) sq. unsweetened chocolate (if desired)', '1 1/2 c. chopped nuts (if desired)', '1 tsp. vanilla']",
         "['[\"Butter a square pan, 8 x 8 x 2-inches', '\", \"Heat milk, chocolate chips and unsweetened chocolate over low heat, stirring constantly, until chocolate is melted and mixture is smooth', 'Remove from heat', '\", \"Stir in nuts and vanilla', '\", \"Spread in pan', '\"]']",
         "nut, semisweet chocolate chip, sq unsweetened chocolate, sweetened condensed milk, vanilla"
        ],
        [
         "28",
         "Taco-Filled Green Pepper",
         "['1 lb. Ground Beef', '1 pkg. taco seasoning', '1 san Kidney beans', '1 onion, chopped', '1 C salsa', '4 green peppers', '1 medium Tomato, chopped', '1/2 C cheddar cheese, shredded', '1/2 C sour cream']",
         "['[\"In a large skillet, brown the ground beef', 'Drain, stir in taco mix, kidney beans, and salsa', 'Bring to a boil', 'Reduce heat, and let simmer for about 5 minutes', 'Cut peppers in half and clean it', 'Put peppers in boiling water for 3 minutes- drain- spoon the meat mixture into the green pepper', 'Put pepper in an ungreased pan', 'Cover, and bake at 350 degrees for 15 to 20 minutes or until peppers are crispy and filling is heated through', 'Top with tomatoes, cheese, and sour cream', '\"]']",
         "beef, cheddar cheese, green pepper, onion, salsa, san kidney bean, sour cream, taco seasoning, tomato"
        ],
        [
         "29",
         "One Hour Rolls",
         "['1 c. milk', '2 Tbsp. sugar', '1 pkg. dry yeast', '1 Tbsp. salt', '3 Tbsp. Crisco oil', '2 c. plain flour']",
         "['[\"Put flour into a large mixing bowl', '\", \"Combine sugar, milk, salt and oil in a saucepan and heat to boiling; remove from heat and let cool to lukewarm', '\", \"Add yeast and mix well', '\", \"Pour into flour and stir', '\", \"Batter will be sticky', '\", \"Roll out batter on a floured board and cut with biscuit cutter', '\", \"Lightly brush tops with melted oleo and fold over', '\", \"Place rolls on a cookie sheet, put in a warm place and let rise for 1 hour', '\", \"Bake at 350\\\\u00b0 for about 20 minutes', 'Yield: 2 1/2 dozen', '\"]']",
         "dry yeast, milk, plain flour, sugar"
        ],
        [
         "30",
         "Punch Bowl Fruit Salad",
         "['2 large cans sliced peaches', '2 large cans fruit cocktail', '1 large can diced pineapple', '1 qt. fresh strawberries', '2 red apples', '2 yellow apples', '4 large ripe bananas', '1 lb. white grapes', '1 lb. purple grapes']",
         "['[\"In a 6-quart punch bowl mix all of the cans of fruit, juice and all', '\", \"Clean and slice berries', '\", \"Wash and slice apples; leave peeling on apples', '\", \"Dice apples', '\", \"Slice bananas', '\", \"Wash and cut grapes in half', '\", \"Mix all together', '\", \"Nuts or other fruit may be added', '\"]']",
         "banana, fruit cocktail, peach, pineapple, purple grape, red apple, strawberry, white grape, yellow apple"
        ],
        [
         "31",
         "Summer Chicken",
         "['1 pkg. chicken cutlets', '1/2 c. oil', '1/3 c. red vinegar', '2 Tbsp. oregano', '2 Tbsp. garlic salt']",
         "['[\"Double recipe for more chicken', '\"]']",
         "chicken cutlet, oregano, red vinegar"
        ],
        [
         "32",
         "Cherry Pizza",
         "['2 cans cherry pie mix', '1 box deluxe white cake mix', '1 stick butter', '1 c. ground nuts']",
         "['[\"Grease a 9 x 12-inch cake pan', '\", \"Spread cherry pie mix', '\", \"Sift cake mix and spread it dry over the cherries', '\", \"Top with ground nuts', '\", \"Melt butter and pour over top', '\", \"Bake 45 minutes in a 350\\\\u00b0 oven', '\"]']",
         "butter, cherry pie mix, deluxe white cake mix, nut"
        ],
        [
         "33",
         "Potato And Cheese Pie",
         "['3 eggs', '1 tsp. salt', '1/4 tsp. pepper', '2 c. half and half', '3 c. potatoes, shredded coarse', '1 c. Cheddar cheese, coarsely shredded', '1/3 c. green onions']",
         "['[\"Beat eggs, salt and pepper until well blended', '\", \"Stir in half and half, potatoes and onions', '\", \"Pour into well-greased 8-inch baking dish', '\", \"Bake in a 400\\\\u00b0 oven for 35 to 40 minutes, or until knife inserted in center comes out clean and potatoes are tender', 'Cool on rack 5 minutes; cut into squares', '\", \"Makes 4 large servings', '\"]']",
         "cheddar cheese, egg, green onion, pepper, potato coarse"
        ],
        [
         "34",
         "Tuna Macaroni Casserole",
         "['1 box macaroni and cheese', '1 can tuna, drained', '1 small jar pimentos', '1 medium onion, chopped']",
         "['[\"Prepare macaroni and cheese as directed', '\", \"Add drained tuna, pimento and onion', '\", \"Mix', '\", \"Serve hot or cold', '\"]']",
         "macaroni cheese, onion, small pimento, tuna"
        ],
        [
         "35",
         "Artichoke Dip",
         "['2 cans or jars artichoke hearts', '1 c. mayonnaise', '1 c. Parmesan cheese']",
         "['[\"Drain artichokes and chop', '\", \"Mix with mayonnaise and Parmesan cheese', '\", \"After well mixed, bake, uncovered, for 20 to 30 minutes at 350\\\\u00b0', '\", \"Serve with crackers', '\"]']",
         "artichoke heart, mayonnaise, parmesan cheese"
        ],
        [
         "36",
         "Broccoli Dip For Crackers",
         "['16 oz. sour cream', '1 pkg. dry vegetable soup mix', '10 oz. pkg. frozen chopped broccoli, thawed and drained', '4 to 6 oz. Cheddar cheese, grated']",
         "['[\"Mix together sour cream, soup mix, broccoli and half of cheese', '\", \"Sprinkle remaining cheese on top', '\", \"Bake at 350\\\\u00b0 for 30 minutes, uncovered', '\", \"Serve hot with vegetable crackers', '\"]']",
         "cheddar cheese, dry vegetable soup mix, frozen broccoli thawed, sour cream"
        ],
        [
         "37",
         "Summer Spaghetti",
         "['1 lb. very thin spaghetti', '1/2 bottle McCormick Salad Supreme (seasoning)', '1 bottle Zesty Italian dressing']",
         "['[\"Prepare spaghetti per package', '\", \"Drain', '\", \"Melt a little butter through it', '\", \"Marinate overnight in Salad Supreme and Zesty Italian dressing', '\", \"Just before serving, add cucumbers, tomatoes, green peppers, mushrooms, olives or whatever your taste may want', '\"]']",
         "mccormick salad supreme, thin spaghetti, zesty italian dressing"
        ],
        [
         "38",
         "Pear-Lime Salad",
         "['1 (16 oz.) can pear halves, undrained', '1 (3 oz.) pkg. lime gelatin', '1 (8 oz.) pkg. cream cheese, softened', '1 (8 oz.) carton lemon yogurt']",
         "['[\"Drain pears, reserving juice', '\", \"Bring juice to a boil, stirring constantly', '\", \"Remove from heat', '\", \"Add gelatin, stirring until dissolved', '\", \"Let cool slightly', '\", \"Coarsely chop pear halves', 'Combine cream cheese and yogurt; beat at medium speed of electric mixer until smooth', '\", \"Add gelatin and beat well', '\", \"Stir in pears', '\", \"Pour into an oiled 4-cup mold or Pyrex dish', '\", \"Chill', '\"]']",
         "carton lemon yogurt, cream cheese, lime gelatin, pear half undrained"
        ],
        [
         "39",
         "Watermelon Rind Pickles",
         "['7 lb. watermelon rind', '7 c. sugar', '2 c. apple vinegar', '1/2 tsp. oil of cloves', '1/2 tsp. oil of cinnamon']",
         "['[\"Trim off green and pink parts of watermelon rind; cut to 1-inch cubes', '\", \"Parboil until tender, but not soft', '\", \"Drain', 'Combine sugar, vinegar, oil of cloves and oil of cinnamon; bring to boiling and pour over rind', '\", \"Let stand overnight', '\", \"In the morning, drain off syrup', '\", \"Heat and put over rind', '\", \"The third morning, heat rind and syrup; seal in hot, sterilized jars', '\", \"Makes 8 pints', '\", \"(Oil of cinnamon and clove keeps rind clear and transparent', ')\"]']",
         "apple vinegar, sugar"
        ],
        [
         "40",
         "Chicken Stew",
         "['3 lb. chicken, boiled', '4 medium potatoes, diced', '2 medium onions, chopped', '1 (16 oz.) can creamed corn', '1 (16 oz.) can English peas', '1 (16 oz.) can field peas', '1 (16 oz.) can butter beans', '1 (16 oz.) can tomatoes', '1 (46 oz.) can tomato juice', '1 small box macaroni', '1 Tbsp. black pepper', '1 Tbsp. salt', '1 Tbsp. sugar']",
         "['[\"Remove chicken from bone', '\", \"Use the broth', '\", \"Mix the vegetables and macaroni', '\", \"Add sugar, salt and black pepper', '\", \"Cook until all vegetables are tender over medium heat', '\"]']",
         "black pepper, butter bean, chicken, creamed corn, english pea, field pea, onion, potato, small macaroni, sugar, tomato, tomato juice"
        ],
        [
         "41",
         "Quick Coffee Cake(6 Servings)  ",
         "['3 Tbsp. softened butter or margarine', '1/2 c. granulated sugar', '1 egg', '1 c. flour', '1 1/4 tsp. baking powder', '1/4 tsp. salt', '1/3 c. milk', '1/4 tsp. vanilla', '1/3 c. brown sugar, packed', '1/2 tsp. cinnamon', '2 Tbsp. butter or margarine']",
         "['[\"Mix 3 tablespoons fat with granulated sugar', '\", \"Add egg and beat until creamy', '\", \"Mix flour, baking powder and salt thoroughly', '\", \"Add to sugar mixture alternately with milk', '\", \"Add vanilla', 'Spread batter evenly in a greased 8-inch square baking pan', '\", \"Mix brown sugar and cinnamon and sprinkle over batter', '\", \"Dot with 2 tablespoons fat', '\", \"Bake at 350\\\\u00b0 (moderate oven) for 25 to 30 minutes', '\"]']",
         "baking powder, brown sugar packed, butter margarine, cinnamon, egg, flour, granulated sugar, milk, vanilla"
        ],
        [
         "42",
         "Angel Biscuits",
         "['5 c. flour', '3 Tbsp. sugar', '4 tsp. baking powder', '1 1/2 pkg. dry yeast', '2 c. buttermilk', '1 tsp. soda', '1 1/2 sticks margarine', '1/2 c. warm water']",
         "['[\"Mix flour, sugar, baking powder, soda and salt together', '\", \"Cut in margarine, dissolve yeast in warm water', '\", \"Stir into buttermilk and add to dry mixture', '\", \"Cover and chill', '\"]']",
         "baking powder, buttermilk, dry yeast, flour, margarine, soda, sugar"
        ],
        [
         "43",
         "Quick Peppermint Puffs",
         "['8 marshmallows', '2 Tbsp. margarine, melted', '1/4 c. crushed peppermint candy', '1 can crescent rolls']",
         "['[\"Dip marshmallows in melted margarine; roll in candy', 'Wrap a crescent triangle around each marshmallow, completely covering the marshmallow and square edges of dough tightly to seal', '\", \"Dip in margarine and place in a greased muffin tin', '\", \"Bake at 375\\\\u00b0 for 10 to 15 minutes; remove from pan', '\"]']",
         "crescent roll, margarine, marshmallow, peppermint candy"
        ],
        [
         "44",
         "Fruit Pizza",
         "['1 box yellow cake mix', '1/4 c. water', '1/4 c. brown sugar', '1/2 c. soft butter', '2 eggs', '1/2 c. chopped nuts']",
         "['[\"Mix ingredients and spread into 2 greased pizza pans', '\", \"Bake at 350\\\\u00b0 for 15-20 minutes', '\"]']",
         "brown sugar, egg, nut, soft butter, yellow cake mix"
        ],
        [
         "45",
         "Chocolate Mint Bars",
         "['1 c. flour', '1 c. sugar', '1/2 c. oleo, softened', '4 eggs', '1 can chocolate syrup']",
         "['[\"Mix together and bake in 9 x 13-inch pan at 350\\\\u00b0 for 25 to 30 minutes', '\", \"Top should spring back when touched lightly; do not overbake', '\", \"Cool completely, then spread with mint layer', '\"]']",
         "chocolate syrup, egg, flour, oleo, sugar"
        ],
        [
         "46",
         "Beer Bread",
         "['3 c. self rising flour', '1 - 12 oz. can beer', '1 Tbsp. sugar']",
         "['[\"Stir the ingredients together and put in a greased and floured loaf pan', '\", \"Bake at 425 degrees for 50 minutes', '\", \"Drizzle melted butter on top', '\"]']",
         "beer, self rising flour, sugar"
        ],
        [
         "47",
         "Chicken Divan",
         "['1/4 c. margarine', '1/4 c. chopped onion (or as much as you want)', 'chopped celery to taste', '1/4 c. flour', '1/8 tsp. curry powder', '1 can sliced mushrooms (save juice)', '1 can cream of celery soup', '1 pkg. chopped broccoli', '1 cubed chicken', 'shredded Monterey Jack cheese']",
         "['[\"Melt margarine in skillet; saute onions and celery', '\", \"Remove from heat', '\", \"Stir in flour and curry powder', '\", \"Drain mushrooms and keep juice', '\", \"Add water to juice to make 1/2 cup liquid', '\", \"Stir liquid and soup into flour mixture; add mushrooms', '\", \"Cook until thick', '\", \"Arrange broccoli and cubed chicken in a large baking dish', 'Spoon sauce over chicken', '\", \"Top with grated cheese', '\", \"Bake in a 350\\\\u00b0 oven for about 20 minutes or in microwave until cheese is melted', '\"]']",
         "broccoli, celery taste, chicken, cream celery soup, curry powder, flour, margarine, monterey jack cheese, mushroom, onion"
        ],
        [
         "48",
         "Mexican Cookie Rings",
         "['1 1/2 c. sifted flour', '1/2 tsp. baking powder', '1/2 tsp. salt', '1/2 c. butter', '2/3 c. sugar', '3 egg yolks', '1 tsp. vanilla', 'multi-colored candies']",
         "['[\"Sift flour, baking powder and salt together', '\", \"Cream together butter and sugar', '\", \"Add egg yolks and vanilla', '\", \"Beat until light and fluffy', '\", \"Mix in sifted dry ingredients', '\", \"Shape into 1-inch balls', '\", \"Push wooden spoon handle through center (twist)', '\", \"Shape into rings', '\", \"Dip each cookie into candies', '\", \"Place on lightly greased baking sheets', '\", \"Bake in 375\\\\u00b0 oven for 10 to 12 minutes or until golden brown', '\", \"Cool on racks', '\", \"Serves 2 dozen', '\"]']",
         "baking powder, butter, egg yolk, multicolored candy, sifted flour, sugar, vanilla"
        ],
        [
         "49",
         "Vegetable-Burger Soup",
         "['1/2 lb. ground beef', '2 c. water', '1 tsp. sugar', '1 pkg. Cup-a-Soup onion soup mix (dry)', '1 lb. can stewed tomatoes', '1 (8 oz.) can tomato sauce', '1 (10 oz.) pkg. frozen mixed vegetables']",
         "['[\"Lightly brown beef in soup pot', '\", \"Drain off excess fat', '\", \"Stir in tomatoes, tomato sauce, water, frozen vegetables, soup mix and sugar', '\", \"Bring to a boil', '\", \"Reduce heat and simmer for 20 minutes', 'Serve', '\"]']",
         "beef, cupasoup onion soup mix, frozen mixed vegetable, stewed tomato, sugar, tomato sauce"
        ]
       ],
       "shape": {
        "columns": 4,
        "rows": 2231909
       }
      },
      "text/html": [
       "<div>\n",
       "<style scoped>\n",
       "    .dataframe tbody tr th:only-of-type {\n",
       "        vertical-align: middle;\n",
       "    }\n",
       "\n",
       "    .dataframe tbody tr th {\n",
       "        vertical-align: top;\n",
       "    }\n",
       "\n",
       "    .dataframe thead th {\n",
       "        text-align: right;\n",
       "    }\n",
       "</style>\n",
       "<table border=\"1\" class=\"dataframe\">\n",
       "  <thead>\n",
       "    <tr style=\"text-align: right;\">\n",
       "      <th></th>\n",
       "      <th>title</th>\n",
       "      <th>ingredients</th>\n",
       "      <th>instructions</th>\n",
       "      <th>ingredients_clean</th>\n",
       "    </tr>\n",
       "  </thead>\n",
       "  <tbody>\n",
       "    <tr>\n",
       "      <th>0</th>\n",
       "      <td>No-Bake Nut Cookies</td>\n",
       "      <td>['1 c. firmly packed brown sugar', '1/2 c. eva...</td>\n",
       "      <td>['[\"In a heavy 2-quart saucepan, mix brown sug...</td>\n",
       "      <td>bite size rice biscuit, broken nut, butter mar...</td>\n",
       "    </tr>\n",
       "    <tr>\n",
       "      <th>1</th>\n",
       "      <td>Jewell Ball'S Chicken</td>\n",
       "      <td>['1 small jar chipped beef, cut up', '4 boned ...</td>\n",
       "      <td>['[\"Place chipped beef on bottom of baking dis...</td>\n",
       "      <td>boned chicken breast, carton sour cream, cream...</td>\n",
       "    </tr>\n",
       "    <tr>\n",
       "      <th>2</th>\n",
       "      <td>Creamy Corn</td>\n",
       "      <td>['2 (16 oz.) pkg. frozen corn', '1 (8 oz.) pkg...</td>\n",
       "      <td>['[\"In a slow cooker, combine all ingredients'...</td>\n",
       "      <td>butter, cream cheese, frozen corn, garlic powd...</td>\n",
       "    </tr>\n",
       "    <tr>\n",
       "      <th>3</th>\n",
       "      <td>Chicken Funny</td>\n",
       "      <td>['1 large whole chicken', '2 (10 1/2 oz.) cans...</td>\n",
       "      <td>['[\"Boil and debone chicken', '\", \"Put bite si...</td>\n",
       "      <td>cheese, chicken, chicken gravy, cream mushroom...</td>\n",
       "    </tr>\n",
       "    <tr>\n",
       "      <th>4</th>\n",
       "      <td>Reeses Cups(Candy)</td>\n",
       "      <td>['1 c. peanut butter', '3/4 c. graham cracker ...</td>\n",
       "      <td>['[\"Combine first four ingredients and press i...</td>\n",
       "      <td>butter, chocolate chip, graham cracker crumb, ...</td>\n",
       "    </tr>\n",
       "    <tr>\n",
       "      <th>...</th>\n",
       "      <td>...</td>\n",
       "      <td>...</td>\n",
       "      <td>...</td>\n",
       "      <td>...</td>\n",
       "    </tr>\n",
       "    <tr>\n",
       "      <th>2231904</th>\n",
       "      <td>Crockpot Sweet Potato Lentils</td>\n",
       "      <td>['coconut', 'milk', 'red', 'lentil', 'garlic',...</td>\n",
       "      <td>[\"['Place the sweet potatoes, vegetable broth,...</td>\n",
       "      <td>broth, coconut, coriand, garlic, lentil, milk,...</td>\n",
       "    </tr>\n",
       "    <tr>\n",
       "      <th>2231905</th>\n",
       "      <td>Healthy Maple Glazed Pumpkin Muffins</td>\n",
       "      <td>['purpos', 'flour', 'bake', 'powder', 'whole',...</td>\n",
       "      <td>[\"['Preheat the oven to 350 F\", 'Mix the dry i...</td>\n",
       "      <td>bake, butter, egg, flour, granul, mapl, milk, ...</td>\n",
       "    </tr>\n",
       "    <tr>\n",
       "      <th>2231906</th>\n",
       "      <td>Filipino Humba</td>\n",
       "      <td>['oyster', 'sauc', 'bonein', 'pork', 'belli', ...</td>\n",
       "      <td>[\"['Separate the fat from the lean meat by cut...</td>\n",
       "      <td>bay, bean, belli, black, bonein, brown, garlic...</td>\n",
       "    </tr>\n",
       "    <tr>\n",
       "      <th>2231907</th>\n",
       "      <td>Deep Dish Cinnamon Streusel Dessert Pizza</td>\n",
       "      <td>['cream', 'dough', 'ani', 'pizza', 'dough', 'c...</td>\n",
       "      <td>[\"['Crust: Preheat the oven to 425\", 'Generous...</td>\n",
       "      <td>ani, brown, butter, cinnamon, cold, cream, dou...</td>\n",
       "    </tr>\n",
       "    <tr>\n",
       "      <th>2231908</th>\n",
       "      <td>Healthy Jalapeño Sweet Potato Chicken Chili</td>\n",
       "      <td>['chicken', 'breast', 'fire', 'roast', 'tomato...</td>\n",
       "      <td>[\"['Poach the chicken: Bring the chicken broth...</td>\n",
       "      <td>bean, black, breast, broth, chees, chicken, ch...</td>\n",
       "    </tr>\n",
       "  </tbody>\n",
       "</table>\n",
       "<p>2231909 rows × 4 columns</p>\n",
       "</div>"
      ],
      "text/plain": [
       "                                               title  \\\n",
       "0                                No-Bake Nut Cookies   \n",
       "1                              Jewell Ball'S Chicken   \n",
       "2                                        Creamy Corn   \n",
       "3                                      Chicken Funny   \n",
       "4                               Reeses Cups(Candy)     \n",
       "...                                              ...   \n",
       "2231904                Crockpot Sweet Potato Lentils   \n",
       "2231905         Healthy Maple Glazed Pumpkin Muffins   \n",
       "2231906                               Filipino Humba   \n",
       "2231907    Deep Dish Cinnamon Streusel Dessert Pizza   \n",
       "2231908  Healthy Jalapeño Sweet Potato Chicken Chili   \n",
       "\n",
       "                                               ingredients  \\\n",
       "0        ['1 c. firmly packed brown sugar', '1/2 c. eva...   \n",
       "1        ['1 small jar chipped beef, cut up', '4 boned ...   \n",
       "2        ['2 (16 oz.) pkg. frozen corn', '1 (8 oz.) pkg...   \n",
       "3        ['1 large whole chicken', '2 (10 1/2 oz.) cans...   \n",
       "4        ['1 c. peanut butter', '3/4 c. graham cracker ...   \n",
       "...                                                    ...   \n",
       "2231904  ['coconut', 'milk', 'red', 'lentil', 'garlic',...   \n",
       "2231905  ['purpos', 'flour', 'bake', 'powder', 'whole',...   \n",
       "2231906  ['oyster', 'sauc', 'bonein', 'pork', 'belli', ...   \n",
       "2231907  ['cream', 'dough', 'ani', 'pizza', 'dough', 'c...   \n",
       "2231908  ['chicken', 'breast', 'fire', 'roast', 'tomato...   \n",
       "\n",
       "                                              instructions  \\\n",
       "0        ['[\"In a heavy 2-quart saucepan, mix brown sug...   \n",
       "1        ['[\"Place chipped beef on bottom of baking dis...   \n",
       "2        ['[\"In a slow cooker, combine all ingredients'...   \n",
       "3        ['[\"Boil and debone chicken', '\", \"Put bite si...   \n",
       "4        ['[\"Combine first four ingredients and press i...   \n",
       "...                                                    ...   \n",
       "2231904  [\"['Place the sweet potatoes, vegetable broth,...   \n",
       "2231905  [\"['Preheat the oven to 350 F\", 'Mix the dry i...   \n",
       "2231906  [\"['Separate the fat from the lean meat by cut...   \n",
       "2231907  [\"['Crust: Preheat the oven to 425\", 'Generous...   \n",
       "2231908  [\"['Poach the chicken: Bring the chicken broth...   \n",
       "\n",
       "                                         ingredients_clean  \n",
       "0        bite size rice biscuit, broken nut, butter mar...  \n",
       "1        boned chicken breast, carton sour cream, cream...  \n",
       "2        butter, cream cheese, frozen corn, garlic powd...  \n",
       "3        cheese, chicken, chicken gravy, cream mushroom...  \n",
       "4        butter, chocolate chip, graham cracker crumb, ...  \n",
       "...                                                    ...  \n",
       "2231904  broth, coconut, coriand, garlic, lentil, milk,...  \n",
       "2231905  bake, butter, egg, flour, granul, mapl, milk, ...  \n",
       "2231906  bay, bean, belli, black, bonein, brown, garlic...  \n",
       "2231907  ani, brown, butter, cinnamon, cold, cream, dou...  \n",
       "2231908  bean, black, breast, broth, chees, chicken, ch...  \n",
       "\n",
       "[2231909 rows x 4 columns]"
      ]
     },
     "execution_count": 19,
     "metadata": {},
     "output_type": "execute_result"
    }
   ],
   "source": [
    "df_combined"
   ]
  },
  {
   "cell_type": "markdown",
   "id": "994c312c-83d5-4f01-ac74-9baad54fd0ad",
   "metadata": {},
   "source": [
    "## Feature Engineering\n",
    "\n",
    "- TF-IDF + Cosine Similarity"
   ]
  },
  {
   "cell_type": "code",
   "execution_count": null,
   "id": "ef49cff8",
   "metadata": {},
   "outputs": [],
   "source": [
    "mlflow.set_tracking_uri(\"http://localhost:5000\")    \n",
    "mlflow.set_experiment(\"PantryPalette_Recipe_Search\")"
   ]
  },
  {
   "cell_type": "code",
   "execution_count": 20,
   "id": "5de3469c",
   "metadata": {},
   "outputs": [
    {
     "name": "stdout",
     "output_type": "stream",
     "text": [
      "(1562336, 4)\n",
      "(669573, 4)\n"
     ]
    },
    {
     "data": {
      "text/plain": [
       "(None, None)"
      ]
     },
     "execution_count": 20,
     "metadata": {},
     "output_type": "execute_result"
    }
   ],
   "source": [
    "from sklearn.model_selection import train_test_split\n",
    "\n",
    "# 1. Train-Test Split\n",
    "train_df, test_df = train_test_split(df_combined, test_size=0.3, random_state=42)\n",
    "\n",
    "print(train_df.shape), print(test_df.shape)"
   ]
  },
  {
   "cell_type": "code",
   "execution_count": 21,
   "id": "06785190",
   "metadata": {},
   "outputs": [
    {
     "data": {
      "application/vnd.microsoft.datawrangler.viewer.v0+json": {
       "columns": [
        {
         "name": "index",
         "rawType": "int64",
         "type": "integer"
        },
        {
         "name": "title",
         "rawType": "object",
         "type": "unknown"
        },
        {
         "name": "ingredients",
         "rawType": "object",
         "type": "string"
        },
        {
         "name": "instructions",
         "rawType": "object",
         "type": "string"
        },
        {
         "name": "ingredients_clean",
         "rawType": "object",
         "type": "string"
        }
       ],
       "conversionMethod": "pd.DataFrame",
       "ref": "0df96188-61ce-42b2-bbcc-f82cd40bf41c",
       "rows": [
        [
         "2098391",
         "Stays Crispy! Our Family's Tempura",
         "[\"1 rice bowl's worth Cake flour\", '4 Ice cubes', '100 ml Water', '1 tsp Vinegar', '1 Main ingredients']",
         "['[\"Prepare the ingredients: Prepare ingredients such as shrimp, squid, chikuwa, wiener sausages, lotus roots, kabocha squash, sweet potato, shiitake mushrooms, shishito peppers or bell peppers', '\", \"Make the batter: Combine all ingredients, mix quickly 2-3 times', '\", \"Make sure it\\'s slightly floury (leave some powder unmixed)', '\", \"Deep-fry the tempura over medium to high heat, depending on what ingredients you use', '\", \"If you notice that the flouriness of the batter is starting to go away, add in some cake flour', '\", \"Make more of the batter if you don\\'t have enough, and continue deep-frying', '\", \"Here\\'s a healthier kaki-age tempura using a whole carrot that\\'s not deep fried', '\", \"Shred the carrot and top with half of the listed batter ingredients to coat it, and pan fry using 4 tablespoons of oil', '\"]']",
         "ice cube, main ingredient, rice bowl worth cake flour, vinegar"
        ],
        [
         "487096",
         "Summer Squash With Taste",
         "['3 slices bacon, diced', '1 large onion, chopped', '1/2 tsp. salt', '1/4 tsp. pepper or to taste', '4 small summer squash (yellow or green or mixed), sliced']",
         "['[\"Place bacon and onion in medium saucepan over medium heat and cook until onion is transparent, being careful not to scorch them', 'Add the squash and simmer until the squash is tender', '\", \"Yields 3 to 4 servings', '\"]']",
         "onion, pepper taste, slice bacon, small summer squash"
        ],
        [
         "529457",
         "Raw Apple Cake",
         "['1/2 tsp. salt', '2 cups sugar', '3 cup flour', '1 tsp. soda', '1 tsp. cinnamon', '1 cup Crisco oil', '3 cup chopped raw apples (about 6)', '1 1/2 cup pecans', '1 Tbsp. vanilla', '3 eggs slightly beaten']",
         "['[\"Mix ingredients by hand DO NOT USE MIXER', '\", \"Bake at 350 for 55 minutes', '\"]']",
         "apple, cinnamon, egg slightly, flour, pecan, soda, sugar, vanilla"
        ],
        [
         "1314823",
         "Corpse Reviver 3000 ",
         "['3/4 ounce Tenneyson Absinthe Royale or other blanche absinthe', '3/4 ounce St-Germain elderflower liqueur', \"3/4 ounce orange liqueuer (we used Paula's Texas Orange; Cointreau also works well)\", '3/4 ounce freshly squeezed lemon juice', 'Orange \"coin,\" for garnish']",
         "['[\"Combine the absinthe, St-Germain, orange liqueur, and lemon juice in a mixing glass and shake vigorously with ice to chill', 'Strain into a chilled cocktail glass and garnish with the orange \\\\\"coin', '\\\\\"\"]']",
         "orange coin garnish, orange liqueuer, squeezed lemon juice, stgermain elderflower liqueur, tenneyson absinthe royale blanche absinthe"
        ],
        [
         "1049118",
         "Quail In The Limelight",
         "['1 medium lime', '6 quail, cleaned and halved ribs removed if desired', '1/3 cup all-purpose flour', '1 teaspoon salt', '1/2 teaspoon paprika', '2 tablespoons vegetable oil', '2 tablespoons packed brown sugar', '1/2 teaspoon dried mint (optional)', '1/2 cup dry white wine, sauce', 'lime wedge, for garnish', 'avocado, sliced for garnish', 'mint sprig (to garnish)']",
         "['[\"About 1 hour before serving: Separately, grate peel and squeeze juice from lime & place quail in bowl; toss with lime juice', '\", \"Combine flour, salt and paprika in bag and shake quail', '\", \"Preheat oven to 375\\\\u00b0F', '\", \"In 12-inch skillet over medium-high heat, in hot vegetable oil, brown quail halves on both sides', '\", \"Arrange in 13 x 9-inch baking pan', '\", \"Pour white wine over quail', 'Combine grated lime peel, brown sugar and dried mint; sprinkle over quail', '\", \"Bake, uncovered, 30 to 45 minutes until quail is fork tender,testing often & basting with pan juices frequently while baking', '\", \"To serve, arrange quail on platter', 'Skim fat from drippings in pan; pour pan juices over quail', '\", \"Garnish with lime wedges, sliced avocado and mint sprigs', '\"]']",
         "allpurpose flour, avocado garnish, dried mint, dry white wine sauce, lime, lime wedge garnish, mint sprig, packed brown sugar, paprika, quail cleaned rib removed desired"
        ],
        [
         "820761",
         "Wild Rice With Chicken And Oranges",
         "['6 chicken thighs (2 lb.)', '1 Tbsp. orange marmalade', 'salt and pepper', '2 or 3 medium oranges, peeled and white membrane removed', 'parsley sprigs', '1 medium orange, cut in half', '1 1/2 c. wild rice', '3 c. chicken broth', '2 tsp. grated orange peel', '4 medium onions, thinly sliced', '1 tsp. cinnamon', '2 Tbsp. butter']",
         "['[\"Cook wild rice in chicken broth approximately 30 to 40 minutes', '\", \"Lay thighs, skin side up, in a 9 x 13-inch baking pan or dish', '\", \"Bake at 375\\\\u00b0 until skin is brown and meat is no longer pink at bone, approximately 40 minutes', '\", \"Remove and drain all juice, keep 2 tablespoons', '\", \"Blend with marmalade and brush over chicken', 'Bake another 10 minutes', '\", \"Meanwhile, the rice is cooking in the broth and should be done at same time as chicken', '\", \"While these are cooking, melt the butter in a frying pan with sliced onions and cinnamon', '\", \"Cook about 25 to 30 minutes', '\", \"Add rice and stir gently', 'Pour rice and onion into casserole', '\", \"Lay chicken on top with oranges and parsley', '\", \"Take orange half and squeeze juice over top', 'Serve hot', '\"]']",
         "butter, chicken broth, chicken thigh, cinnamon, onion, orange, orange marmalade, orange peel, orange white membrane removed, parsley sprig, wild rice"
        ],
        [
         "664423",
         "Coffee Tortoni",
         "['2 Tbsp. coconut', '2 Tbsp. chopped almonds', '1 egg white', '1 heaping tsp. instant coffee', '1/2 c. plus 2 tsp. sugar', '1 c. whipping cream', '1 tsp. vanilla extract', '1/8 tsp. almond extract']",
         "['[\"Toast coconut and chopped almonds', '\", \"Whip egg white with coffee; gradually add 2 teaspoons sugar', '\", \"Whip cream; add remaining sugar, vanilla and almond extract', '\", \"Fold cream into egg mixture; add coconut and almonds', '\", \"Pour into fluted paper baking cups', '\", \"Sprinkle with additional coconut, if desired', '\", \"Freeze 2 hours or more', '\", \"Serves 6', '\"]']",
         "almond, almond extract, coconut, egg white, heaping instant coffee, plus sugar, vanilla extract, whipping cream"
        ],
        [
         "2104150",
         "Duck Liver Crostini Toscane with Spicy Cucumber Salad",
         "['4 tbsp. virgin olive oil', '1 md. red onion, thinly sliced', '1 lb. duck livers', 'chicken livers', '2 tbsp. capers, rinsed and drained', '2 anchovy fillets, rinsed and patted dry', '1-1/3 tbsp. crushed red pepper flakes', '1 cup dry red wine', 'Salt, to taste', 'Freshly ground black pepper, to taste', '1 lg. English cucumber', '2 fl. oz. extra-virgin olive oil', '1 fl. oz. red wine vinegar', '1/2 tsp. sugar', '12 slices Italian country bread, cut 3/4-inch thick']",
         "['[\"In a 10- to 12-inch saute pan, heat oil slowly over medium heat', '\", \"Add onion and cook slowly until soft but not brown, approximately 10 minutes', '\", \"Add livers, capers, anchovy fillets and red pepper and cook until lightly browned, approximately 10 minutes', '\", \"Add wine and cook until only 3 to 4 tbsp', '\", \"of liquid remain', '\", \"Pour liver mix into food processor and blend intermittently, leaving lumpy -- not smooth -- like a puree', '\", \"Season with salt and pepper and remove to a small mixing bowl', '\", \"Peel cucumber and remove seeds', '\", \"Slice into 1/8-inch half-moons and dress with oil, vinegar, and sugar and season with salt and pepper', '\", \"Grill or toast bread on both sides and spread 1 tbsp', '\", \"duck liver mixture over each one', '\", \"Divide among 4 plates', '\", \"Place 2 tbsp', '\", \"of cucumber mixture on each plate and serve immediately', '\"]']",
         "anchovy fillet patted dry, black pepper taste, caper, chicken liver, dry red wine, duck liver, lg english cucumber, md red onion, red pepper flake, red wine vinegar, slice italian country bread inch thick, sugar"
        ],
        [
         "1941820",
         "Broccoli Chicken Bake",
         "['4 -6 boneless chicken breasts, deboned and flattened to preferred thickness with meat mallet', 'salt', 'pepper', 'olive oil or other oil, you prefer', 'Ritz cracker', '1 cup butter (1/2 pound) or 1 cup margarine (1/2 pound)', '2 cups heavy cream or 2 cups half-and-half or 2 cups milk', '4 tablespoons flour', '34 cup grated cheddar cheese (you may want more cheese, add to your taste)', 'fresh broccoli florets or 1 lb frozen broccoli floret, cooked to tender crisp']",
         "['[\"Wash and debone and remove the skin from the chicken breast', '\", \"Dry meat with paper towels', '\", \"Rub both sides of chicken breasts with small amount olive oil (or other oil you prefer', ')\", \"season both sides of chicken breasts with salt, pepper, seasonings you prefer', '\", \"Roast chicken in covered dish in oven at 350 degrees until tender and no blood runs from meat when pierced with a fork', '\", \"Place cooked chicken breasts in another baking dish', '\", \"Cover with crushed/ broken/crushed crackers', '\", \"Make sauce:\", \"Over medium heat melt the margarine/butter in saucepan', '\", \"Whisk in the flour until well blended and smooth', '\", \"Add the cream/half and half/ milk to this and whisk until smooth', '\", \"Add cheese to this while whisking smooth', '\", \"When sauce smooth add broccoli and STIR gently with spoon to blend broccoli and sauce evenly', '\", \"Pour sauce over chicken breasts and crackers', '\", \"Put back in oven for a few minutes to heat through and allow sauce to melt/cook into crackers', '\", \"Serve with salad, favorite vegetables', '\"]']",
         "broccoli floret frozen broccoli floret tender crisp, butter margarine, cheddar cheese, chicken breast deboned flattened preferred thickness meat mallet, flour, heavy cream halfandhalf milk, pepper, ritz cracker"
        ],
        [
         "1278378",
         "Bacon Wrapped Stuffed Chicken Breast ",
         "['2 Large boneless chicken breast', '8 strips of bacon', '1 cup chopped spinach', '1/2 cup grated parmesian cheese', 'salt', 'pepper', 'garlic powder']",
         "['[\"slice chicken breast lengthwise (butterfly)\", \"in a seperate bowl combine finely chopped spinach, cheese, salt, pepper, and garlic powder', '\", \"add 1/2 mixture to each breast and roll breast around mixture', '\", \"take 2 sheets of aluminum foil and rub with olive or veg oil\", \"lay 4 strips of bacon on each oiled sheet and lightly season with salt and pepper\", \"roll chicken breast on bacon so bacon is wrapped around the breast\", \"seal TIGHTLY in the aluminum foil\", \"submerge in pot of boiling water for 20-25 mins\", \"take out and let sit for 5-10 mins\", \"refrigerate for 20-25 mins\", \"remove from refrigerator and carefully remove alum foil', '\", \"pan fry on med heat until bacon is crispy', '\", \"serve\"]']",
         "chicken breast, garlic powder, parmesian cheese, pepper, spinach, strip bacon"
        ],
        [
         "525146",
         "Date Balls",
         "['1 egg', '1 c. sugar', '1 pkg. dates', '2 c. Rice Krispies', '1/2 c. coconut', '1/2 c. nuts, chopped']",
         "['[\"Combine egg, sugar and dates and cook over medium heat until dates dissolve; cool', 'Add remaining ingredients', 'Form into balls and roll in coconut', '\"]']",
         "coconut, date, egg, nut, rice krispies, sugar"
        ],
        [
         "1755824",
         "Low Salt Horseradish Beef Stew Crock Pot",
         "['3 -4 lbs pot roast', '6 -8 large red potatoes (white can also be used)', '1 large chopped red onion', '1 lb baby carrots', '1 cup chopped celery', '2 cups water', '2 (4 g) packetsherb ox sodium-free beef bouillon granules', '1 (4 ounce) jar horseradish sauce (more if desired)', '1 tablespoon garlic powder', '1 tablespoon pepper', '3 tablespoons cornstarch']",
         "['[\"Cut roast into 1 inch cubes and place in large bowl', '\", \"Cut potatos into 1 inch cubes and place in the same large bowl', '\", \"Cut baby carrots in half to make them bite sized then you guessed it, place in the large bowl', '\", \"Next place the chopped celery and onion into the bowl then mix it up and pour the meat and veggie mix into large crock pot', '\", \"Now take remaining ingredients and mix in a small bowl or shaker', '\", \"Shaker works best', '\", \"Drizzle evenly over the top of the meat mixture in the crock pot', '\", \"Cook on low for 8-10 hours then eat', '\", \"I prefer 10 hours to make it extra tender but it\\'s done in 8 if you can\\'t wait', '\", \"Additional comments: You can add other ingredients or spices that you like but this just doesn\\'t need it', '\", \"If you like corn , a can could be added 1 hour prior to being done', '\", \"For those that REALLY like horseradish like me you can use one of the big jars or 2 small ones', '\", \"Mmm Mmmm', '\"]']",
         "baby carrot, celery, cornstarch, garlic powder, horseradish sauce, packetsherb ox sodiumfree beef bouillon granule, pepper, pot roast, red onion, red potato"
        ],
        [
         "1200100",
         "Herbes De Provence Pizza",
         "['1 pizza dough, unbaked (I used a light whole wheat pizza dough)', '3 tablespoons extra virgin olive oil', '1/3 cup shallot, sliced into crescents', '2 garlic cloves, finely minced', '1/3 cup soft fresh goat cheese (chevre or Boursin, for example)', '1 teaspoon herbes de provence', '1/4 cup olive, imported, pitted and sliced (picholine, Nicoise, Kalamata, etc.)']",
         "['[\"Preheat oven to 450 degrees', '\", \"Lighly oil a pizza stone or aluminum pan', 'Spread the pizza dough evenly and thinly onto the pan and prick the dough randomly with a fork', '\", \"Saute shallots and garlic in 1 tablespoon of the olive oil until shallots are translucent', '\", \"Spread the crumbled goat cheese over the pizza dough, then spread the sauteed shallots and herbes de Provence over the cheese', 'Add the sliced olives', '\", \"Drizzle remaining 2 tablespoons olive oil over the ingredients', '\", \"Bake approximately 10 minutes, or until cheese bubbles', '\"]']",
         "garlic clove, herbes de provence, olive imported pitted, pizza dough unbaked, shallot crescent, soft goat cheese"
        ],
        [
         "1804467",
         "Baked Hoisin Chicken with Steamed Broccoli",
         "['Vegetable cooking spray', '4 boneless skinless chicken breast halves (about 2 pounds)', 'Kosher salt and freshly ground black pepper', '3/4 cup hoisin sauce (8 1/2 ounce jar)', '1 bunch broccoli, stems thinly sliced and top cut into large florets (1 pound, 5 ounces)']",
         "['[\"Preheat oven to 400 degrees F and spray a baking dish with cooking spray', '\", \"Put the chicken in the baking dish and season with salt and pepper', '\", \"Pour the hoisin sauce over the chicken and turn the chicken to coat evenly', '\", \"Bake until opaque and cooked through, about 18 to 20 minutes', '\", \"Meanwhile, pour an inch or more of water in a skillet or wok and bring to a boil over medium-high heat', '\", \"Place the broccoli stems in a bamboo or collapsible steamer', '\", \"Set the steamer over the boiling water, cover, and cook 2 to 3 minutes', '\", \"Add the florets and continue to cook just until the vegetables are crisp tender and bright green, 2 to 3 minutes more', '\", \"Season with the salt and pepper\", \"Divide the chicken and broccoli among 4 plates and serve', '\"]']",
         "bunch broccoli stem top floret, chicken breast half, hoisin sauce, vegetable cooking spray"
        ],
        [
         "1379867",
         "Summer Peach Cake",
         "['2 cups all-purpose flour', '1 teaspoon baking soda', '1 teaspoon baking powder', '1/2 teaspoon kosher salt', '1 teaspoon ground ginger', '4 teaspoons ground cinnamon, divided', '1/2 cup olive oil', '1 1/2 cups granulated sugar, divided', '3/4 cup almond milk', '3 large eggs', '2 teaspoons pure vanilla extract', '3 large peaches, peeled and sliced', '1/2 cup walnuts']",
         "['[\"Preheat oven to 350 degrees F', 'Oil a 9 inch round cake pan', 'Line the bottom with parchment and oil the parchment', '\", \"In a medium bowl, stir together the flour, baking soda, baking powder, salt, ginger, and 2 teaspoons of cinnamon', '\", \"In a large bowl, stir together the olive oil, 1 cup sugar, eggs, and vanilla until emulsified', 'Alternately add the flour mixture and milk, beginning and ending with the flour', 'Mix until combined', '\", \"In a small bowl, stir together remaining 2 teaspoons cinnamon and 1/2 cup sugar', '\", \"Pour half the batter in the prepared pan', 'Top with roughly half the peach slices, placing them in a decorative pattern', 'Sprinkle with half the cinnamon sugar mixture', '\", \"Pour the remaining batter over the peaches', 'Top with the remaining peaches using a decorative pattern', 'Sprinkle with walnuts, pushing them gently into the batter, and sprinkle with the remaining cinnamon sugar mixture', '\", \"Bake for 65-75 minutes, until a toothpick inserted in the center of the cake comes out with a few moist crumbs', 'Tent the cake if at any time it is getting too brown during the baking process', 'Cool cake completely in pan or serve warm (which I recommend)', 'Cake may be stored in an airtight container at room temperature for up to 3 days, or frozen, wrapped in parchment and foil and placed in a zipper bag for up to 3 months', 'Thaw at room temperature about an hour or in the microwave about 1 minute', '\"]']",
         "allpurpose flour, almond milk, baking powder, baking soda, cinnamon divided, egg, ginger, granulated sugar divided, peach, pure vanilla extract, walnut"
        ],
        [
         "1914570",
         "Sweet & Sour Tofu",
         "['1 (20 ounce) can pineapple chunks or 1 (20 ounce) can pineapple tidbits, packed in juice', '3 tablespoons rice wine vinegar', '2 tablespoons ketchup', '2 tablespoons reduced sodium soy sauce', '1 tablespoon brown sugar', '1 (14 ounce) packagewater-packed extra firm tofu, drained, rinsed and cut into 1/2-inch cubes', '2 teaspoons cornstarch', '2 tablespoons canola oil, divided', '2 tablespoons minced garlic', '1 tablespoon minced ginger', '1 large red bell pepper, cut into 1/2-by-2-inch strips', '1 large green bell pepper, cut into 1/2-by-2-inch strips']",
         "['[\"Drain and set aside pineapple, reserving 1/4 cup of the juice', '\", \"Whisk the reserved pineapple juice, vinegar, ketchup, soy sauce and sugar in a medium bowl until smooth', '\", \"Place tofu in a large bowl; toss with 3 tablespoons of the sauce', '\", \"Let marinate for at least 5 minutes and up to 30 minutes (the longer the better)', '\", \"Meanwhile, add cornstarch to the remaining sauce and whisk until smooth', '\", \"Heat 1 tablespoon oil in a large nonstick skillet over medium-high heat', '\", \"Transfer the tofu to the pan using a slotted spoon; whisk any remaining marinade into the bowl of reserved sauce', '\", \"Cook the tofu, stirring every 1 to 2 minutes, until golden brown, 7 to 9 minutes total', '\", \"Transfer to a plate', '\", \"Add the remaining oil to the pan and heat over medium heat', '\", \"Add garlic and ginger and cook, stirring constantly, until fragrant, about 30 seconds', '\", \"Add red and green peppers and cook, stirring often, until just tender, 2 to 3 minutes', '\", \"Pour in the reserved sauce and cook, stirring, until thickened, about 30 seconds', '\", \"Add the tofu and pineapple and cook, stirring gently, until heated through, about 2 minutes more', '\"]']",
         "brown sugar, cornstarch, garlic, ginger, green bell pepper byinch strip, ketchup, pineapple chunk pineapple tidbit packed juice, red bell pepper byinch strip, reduced sodium soy sauce, rice wine vinegar"
        ],
        [
         "1303821",
         "Pirate Marinade ",
         "['1 medium chopped onion', '2 TBS chopped garlic', '1/2 cup reduced sodium soy sauce', '1/4 cup red wine vinegar', '1/2 teaspoon freshly grated orange zest', '1/4 cup orange juice', '3 TBS packed \\tbrown sugar', '2 Teaspoons ground allspice', '3/4 teaspoons freshly ground pepper', '1/3 teaspoon dried thyme', '1/2 teaspoon ground cloves', '1/2 teaspoon ground cinnamon', '5 dashes hot sauce']",
         "['[\"Heat canola oil in a large saucepan over medium-high heat, add onions and garlic and cook until translucent, about 2 minutes', 'Transfer to a medium bowl, and stir in remaining ingredients', 'Let cool to room temp', 'Pour cooled marinade into shallow dish for marinating 1-2 pound of meat or tofu\"]']",
         "allspice, cinnamon, clove, dash hot sauce, dried thyme, garlic, onion, orange juice, orange zest, packed brown sugar, pepper, red wine vinegar, reduced sodium soy sauce"
        ],
        [
         "11169",
         "Lemon Pie(Old Family Recipe)  ",
         "['1 c. sugar', '3 Tbsp. lemon juice', 'rind of 2 lemons', '2 heaping Tbsp. flour', '1 1/2 c. water', '3 egg yolks']",
         "['[\"Mix flour and sugar together', '\", \"Beat egg yolks', '\", \"Mix all together and cook over boiling water until thick', '\", \"Put in baked pie shell', '\"]']",
         "egg yolk, heaping flour, lemon juice, rind lemon, sugar"
        ],
        [
         "289732",
         "Butterfinger Cookies",
         "['1 stick margarine', '5 heaping Tbsp. confectioners sugar', '2 c. plain flour', '2 Tbsp. water', '2 tsp. vanilla flavoring', '1 c. chopped nuts']",
         "['[\"Cream margarine and sugar; work in 1 cup of the flour', '\", \"Add water and vanilla', '\", \"Mix nuts with other cup of flour and fold in', '\"]']",
         "heaping confectioner sugar, margarine, nut, plain flour, vanilla flavoring"
        ],
        [
         "23846",
         "Turtle Cake",
         "['1 German chocolate cake mix', '1 pkg. caramels', '1 can Eagle Brand milk', '1 stick margarine', 'pecans', '1 (6 oz.) bag chocolate chips']",
         "['[\"Pour 2 1/2 cups batter into a 9 x 13-inch cake pan', 'Bake at 350\\\\u00b0 for 15 minutes', '\", \"Melt the caramels, milk and margarine together over baked cake', '\", \"Pour rest of batter over caramel mixture', 'Sprinkle pecans and chocolate chips on top', 'Bake at 350\\\\u00b0 for 20 to 25 minutes', '\"]']",
         "bag chocolate chip, caramel, eagle brand milk, german chocolate cake mix, margarine, pecan"
        ],
        [
         "237580",
         "Dirt Cake",
         "['1 plastic planter (10 to 12 inch around top)', '1 medium bunch silk flowers', '1 large bag Oreo cookies', '3 1/2 c. milk', '2 (3 oz.) instant vanilla or banana pudding', '12 oz. Cool Whip', '1/2 stick oleo', '8 oz. cream cheese', '3/4 c. sugar or powdered sugar']",
         "['[\"Mix pudding with 3 1/2 cups milk, fold in Cool Whip', '\", \"Crush Oreos; set aside', '\", \"In another bowl, cream oleo, cream cheese and sugar', '\", \"Add these ingredients to pudding mix; mix well', '\", \"Then in bottom of planter place foil to cover hole', '\", \"Put layer of crushed Oreos, layer of pudding mix etc', ', layer all the way to rim of planter, with Oreos on top', '\", \"When placing flowers in mix, put stems of flowers in straws', '\"]']",
         "bag oreo cooky, bunch silk flower, cool whip, cream cheese, instant vanilla banana pudding, milk, oleo, plastic planter, sugar powdered sugar"
        ],
        [
         "178802",
         "Tuna Macaroni Casserole",
         "['1 c. real mayonnaise', '1 c. shredded Swiss cheese', '1/2 c. milk', '1/4 c. chopped onion', '1/4 c. chopped sweet red pepper or pimiento', '1/8 tsp. pepper', '2 (7 oz.) cans tuna, drained and flaked', '1 (10 oz.) pkg. frozen peas, thawed', '2 c. shell or elbow macaroni, cooked and drained', '2 Tbsp. corn oil margarine', '1/2 c. fine dry bread crumbs']",
         "['[\"In large bowl stir together real mayonnaise, cheese, milk, onion, red pepper and pepper', '\", \"Add tuna, peas and macaroni; toss to coat well', '\", \"Spoon into 2-quart casserole', '\", \"In small saucepan, melt margarine over medium heat', '\", \"Stir in bread crumbs', '\", \"Sprinkle over tuna mixture', '\", \"Bake in 350\\\\u00b0 oven 30 to 40 minutes or until heated through', '\", \"Makes 6 servings', '\"]']",
         "fine dry bread crumb, frozen pea thawed, milk, onion, pepper, real mayonnaise, shell elbow macaroni, sweet red pepper pimiento, swiss cheese, tuna flaked"
        ],
        [
         "1704751",
         "S'mores",
         "['2 graham crackers', '1 Hershey Bar', '2 marshmallows']",
         "['[\"put the hershey bar on one of the graham crackers and top with toasted marshmallows and the other graham cracker', '\", \"Squish and eat', '\"]']",
         "graham cracker, hershey bar, marshmallow"
        ],
        [
         "1165150",
         "Ooie Gooie Bread",
         "['1 lb loaf frozen bread dough', '3 1/2 cups prepared vanilla pudding', '1 1/4 cups sugar', '1 tablespoon cinnamon']",
         "['[\"Thaw bread dough according to package directions', '\", \"Cut dough into one inch cubes', '\", \"Mix together sugar and cinnamon', '\", \"Dip each piece of bread dough into pudding and roll in sugar mixture', '\", \"Drop into a greased bundt pan', '\", \"Cover and let rise at room temperature until double in size', '\", \"remove cover and bake in preheated ove at 350 for 20-25 minutes, or until golden brown', '\", \"remove from bundt pan and serve warm', '\"]']",
         "cinnamon, loaf frozen bread dough, prepared vanilla pudding, sugar"
        ],
        [
         "666274",
         "Miss Carrie Mae'S Banana Bread",
         "['2 sticks butter', '3 c. sugar', '4 eggs', '1 Tbsp. vanilla', '1 1/2 tsp. salt', '8 to 9 medium bananas, mashed', '4 Tbsp. milk with 1 Tbsp. vinegar', '3 c. flour', '2 tsp. soda', '1 1/2 c. nuts']",
         "['[\"Mix all ingredients well', '\", \"Bake in a greased and floured tube pan at 350\\\\u00b0 for 1 1/2 to 2 hours', '\", \"For bread, pour into loaf pans and adjust baking time', '\", \"May be frozen', '\"]']",
         "banana mashed, butter, egg, flour, milk vinegar, nut, soda, sugar, vanilla"
        ],
        [
         "159027",
         "Pineapple Cobbler",
         "['1 (20 oz.) can pineapple chunks, undrained', '3/4 c. sugar', '2 Tbsp. flour', '1/8 tsp. ground ginger', '2 Tbsp. butter or margarine']",
         "['[\"Preheat oven to 400 degrees', 'Pour the undrained pineapple chunks into a 8 or 9 inch square pan which is at least 1 1/2 inches deep', 'Combine sugar, flour, and ground ginger', 'Stir to mix well', 'Sprinkle over pineapple and dot with the butter', '\"]']",
         "butter margarine, flour, ginger, pineapple chunk undrained, sugar"
        ],
        [
         "1665667",
         "Flakiest (And Easiest) Pie Crust",
         "['1 12 cups flour', '1 pinch salt', '1 pinch sugar', '12 cup vegetable shortening (Crisco)', '3 tablespoons ice water']",
         "['[\"In bowl of food processor, place flour, salt, and sugar; process once to combine all', '\", \"Chill shortening briefly - about 3 minutes in the freezer will do', '\", \"Break shortening into bits; distribute around steel blade in bowl', '\", \"Process with 7 on-off pulses, until shortening is broken into dry ingredients well', '\", \"Add ice water', '\", \"Process with 7 more on-off pulses, or until dough forms into a ball', '\", \"Roll out', '\", \"Proceed with pie recipe', '\", \"This recipe doubles well', '\"]']",
         "flour, sugar, vegetable shortening"
        ],
        [
         "512933",
         "Creamy Hamburger Casserole",
         "['1 pkg. cream cheese', '1 lb. ground beef, cooked', '1/2 c. chopped celery', '1 tsp. salt', '1/2 c. chopped onion', '1/2 tsp. basil leaves', '1/2 c. chopped green pepper', '1 medium tomato', '1 c. (8 oz.) tomato sauce', '2 c. uncooked noodles', '1/2 c. cottage cheese']",
         "['[\"Soften cream cheese; set aside', 'Combine meat, onion, celery and green pepper', 'Microwave on High for 4 to 6 minutes until meat is done', 'Prepare noodles', 'Prepare vegetables', 'Mix vegetables and meat together; set aside', '\", \"Stir together tomato sauce, noodles, meat and vegetables', '\", \"Bake at 350\\\\u00b0 for 1/2 hour until tender', 'Top off with sliced tomatoes', '\"]']",
         "basil leaf, beef, celery, cottage cheese, cream cheese, green pepper, noodle, onion, tomato, tomato sauce"
        ],
        [
         "391479",
         "Low Cholesterol Yeast Rolls",
         "['2 pkg. yeast', '2 1/2 c. warm water', '3/4 c. sugar', '3/4 c. safflower oil', '1/2 c. Egg Beaters', '8 1/2 c. flour']",
         "['[\"Mix yeast and warm water together', '\", \"Blend well all of the ingredients', '\", \"Let rise', '\", \"Punch down and pinch off into rolls', '\", \"Let rise to desired size', '\", \"Bake at 350\\\\u00b0\", \"until browned', '\"]']",
         "egg beater, flour, sugar, yeast"
        ],
        [
         "264243",
         "Hidden Valley Ranch Pinwheels",
         "['2 (8 oz.) pkg. softened cream cheese', '1 pkg. Hidden Valley Ranch salad dressing mix', '2 minced green onions', '4 (12-inch) flour tortillas', '1 (4 oz.) jar diced pimento', '1 (4 oz.) can diced green chili peppers', '1 (2.25 oz.) can sliced green olives']",
         "['[\"Mix the first 3 ingredients', '\", \"Spread on tortillas', '\", \"Drain veggies and blot dry on paper towel', '\", \"Sprinkle equal amounts on top of cream cheese', '\", \"Roll tortillas tightly', '\", \"Chill at least 2 hours', '\", \"Cut rolls into 1-inch pieces', '\", \"Discard ends', '\", \"Makes 3 dozen', '\"]']",
         "cream cheese, flour tortilla, green chili pepper, green olive, green onion, hidden valley ranch salad dressing mix, pimento"
        ],
        [
         "931294",
         "Berry Rhubarb Pie",
         "['1 cup fresh blackberries', '1 cup raspberries', '2 cups rhubarb, cut into 1/2 inch pieces', '3/4 cup white sugar', '1/4 cup all-purpose flour', '2 cups all-purpose flour', '1 teaspoon salt', '2/3 cup shortening', '2 tablespoons butter', '4 tablespoons ice water', '1 tablespoon butter, melted', '1 teaspoon lemon juice', '1 1/2 tablespoons half-and-half cream', '2 tablespoons white sugar']",
         "['[\"To Make Filling: In a medium bowl, combine blackberries, raspberries, and rhubarb', 'In a separate bowl, mix together 3/4 cup sugar and 1/4 cup flour', 'Sprinkle over fruit mixture and stir gently', 'Cover bowl and refrigerate overnight', '\", \"To Make Crust: In a large bowl, mix 2 cups flour with salt', 'Cut in shortening and 2 tablespoons butter until texture is like coarse cornmeal', 'Place 1/3 of mixture in a separate bowl', 'To the smaller portion, add water and mix to form a paste', 'Add this mixture back to the rest of flour mixture and stir just until dough forms a ball', 'Allow to rest at least 20 minutes before rolling out', 'Divide dough in half', 'Roll out bottom crust and place in 9 inch pie pan', '\", \"Preheat oven to 400 degrees F (200 degrees C)', '\", \"Mix 1 tablespoon melted butter and lemon juice into fruit filling, then spoon into pastry-lined pie pan', 'Roll out top crust and place over filling', 'Crimp edges and cut steam vents in top', 'Brush lightly with half and half and sprinkle lightly with sugar', '\", \"Bake in preheated oven for 10 minutes', 'Reduce temperature to 350 degrees F (175 degrees C) and bake an additional 40 to 50 minutes, until crust is golden brown', '\"]']",
         "allpurpose flour, blackberry, butter, halfandhalf cream, lemon juice, raspberry, rhubarb inch piece, shortening, white sugar"
        ],
        [
         "567927",
         "Pumpkin Bread",
         "['2 1/2 c. flour', '2 c. sugar', '1/2 tsp. baking powder', '2 tsp. cinnamon', '1 1/2 tsp. salt', '2 tsp. baking soda', '1/2 tsp. cloves', '2 c. pumpkin', '2/3 c. water', '2/3 c. oil']",
         "['[\"Grease and flour loaf pan', '\", \"Mix dry ingredients, add pumpkin, water and oil', '\", \"Mix well', '\", \"Bake at 350\\\\u00b0 for 1 hour', '\"]']",
         "baking powder, baking soda, cinnamon, clove, flour, pumpkin, sugar"
        ],
        [
         "1095511",
         "Cherry Treasure Mold",
         "['8 ounces cream cheese, softened', '1/4 cup mayonnaise', '3 ounces royal cherry gelatin', '3 ounces strawberry gelatin', '2 cups boiling water', '12 ounces ginger ale', '1 lb pitted red sweet cherries, drained plus', '1 ounce pitted red sweet cherries', '8 3/4 ounces pineapple tidbits, drained', '1 cup miniature marshmallow', '3/4 cup chopped Planters pecans']",
         "['[\"Blend together cream cheese and mayonnaise', '\", \"Dissolve gelatins in boiling water', 'Stir into cream cheese mixture', 'Add ginger ale; chill until slightly thickened', 'Add remaining ingredients', '\", \"Pour into shallow 8-cup mold', 'Chill until firm', '\"]']",
         "cream cheese, ginger ale, mayonnaise, miniature marshmallow, pineapple tidbit, pitted red sweet cherry, pitted red sweet cherry plus, planter pecan, royal cherry gelatin, strawberry gelatin"
        ],
        [
         "445532",
         "Sausage Stars",
         "['2 c. (1 lb.) cooked sausage, crumbled', '1 1/2 c. grated sharp Cheddar cheese', '1 1/2 c. grated Monterey Jack cheese', '1 c. prepared Ranch dressing mix', '1 c. (2.25 oz.) sliced ripe olives', '1/2 c. chopped red pepper', '1 pkg. fresh or frozen wonton wrappers or egg roll wrappers, cut into fourths', 'vegetable oil']",
         "['[\"Preheat oven to 350\\\\u00b0', '\", \"Blot sausage dry with paper towel and combine with cheeses, salad dressing, olives and red pepper', 'Lightly grease muffin pan (small or large size) and press 1 wrapper in each cup (if using egg roll wrappers, press 2 crossways)', '\", \"Brush with oil', '\", \"Bake 5 minutes until golden', 'Remove from tins; place on baking sheet', '\", \"Fill with sausage mixture', '\", \"Bake 5 minutes until bubbly', '\", \"Makes 4 to 5 dozen', 'Delicious!\"]']",
         "frozen wonton wrapper egg roll wrapper fourth, monterey jack cheese, olive, prepared ranch dressing mix, red pepper, sausage, sharp cheddar cheese"
        ],
        [
         "601118",
         "Christmas Punch",
         "['2 pkg. cherry Kool-Aid (large)', '1 large can pineapple juice', '1 large can orange juice', '3 c. sugar', '3 qt. water', 'maraschino cherries', 'red food coloring, if desired']",
         "['[\"Mix ingredients well', '\", \"Place in refrigerator to chill', '\", \"Put cherries in ice trays; fill with punch', '\", \"Freeze and use as garnish when punch is served', '\"]']",
         "cherry koolaid, maraschino cherry, orange juice, pineapple juice, red food coloring desired, sugar"
        ],
        [
         "477290",
         "Mounds Candy",
         "['2 large bags coconut', '1 (8 oz.) cream cheese, softened', '1 stick butter, softened', '1 Tbsp. vanilla']",
         "['[\"Mix ingredients together well', '\", \"Shape into balls', '\", \"Melt 12 ounce bag chocolate chips over double boiler with 1/8 stick paraffin', '\", \"Dip balls', '\", \"Place on wax paper to set', '\", \"Keep chilled', '\"]']",
         "bag coconut, butter, cream cheese, vanilla"
        ],
        [
         "1612588",
         "Shrimp And Avocado Salad With Miso Dressing",
         "['1 teaspoon minced garlic', 'shrimp 1/2lb raw/tail removed', '1/2 tablespoon butter /olive oil', '1/2 teaspoon chili powder', '1/4 teaspoon cayenne', '1 1/2 cups avocados sliced, 2 small', '1 cucumber', '4 cups spinach chopped, or baby kale', 'cilantro', '1 piece ginger']",
         "['[\"Heat the butter/olive oil in a small skillet over medium/high hear', 'Add the garlic and shrimp; sprinkle with chili powder and cayenne directly in the pan', 'Saute for a few mins on each side until the shrimp are no longer clear and have a nice golden color on the outside', '\", \"Cut the avocados in half; cut lines through the avocado vertically and horizontally and scoop the flesh out with a spoon', 'Peel and dice the cucumber', 'Chop the spinach or baby kale into small bite sized pieces', 'Arrange in a bowl with the shrimp', '\", \"Puree all the dressing ingredients together in a food processor until smooth', '\", \"Pour dressing over salad and serve', 'Top with cilantro and peanuts', '\", \"Note: use less avocado to cut the fat down\"]']",
         "avocado small, cayenne, chili powder, cilantro, cucumber, garlic, piece ginger, shrimp rawtail removed, spinach baby kale"
        ],
        [
         "2224564",
         "Old Fashioned Jalapeno Burgers",
         "['2 hamburger patties, cooked your favorite way', '2 onion hamburger buns (or buns of your choice)', '2 tablespoons mustard', '12 onion, sliced into rings', '2 slices tomatoes', 'shredded lettuce', '2 pickles', '1 (4 ounce) cansliced jalapenos']",
         "['[\"Fix each hamburger with the following fixins:', '\", \"Warm bun', '\", \"Juicy burger', '\", \"Mustard', '\", \"Shredded lettuce', '\", \"Tomatoe slice', '\", \"Onion rings', '\", \"1 pickle', '\", \"Jalpapeno slices, as many as you desire, for your preferred heat level', '\"]']",
         "cansliced jalapeno, hamburger patty favorite way, lettuce, mustard, onion hamburger bun, onion ring, pickle, slice tomato"
        ],
        [
         "1084574",
         "Broccoli Casserole Supreme",
         "['4 medium onions, quartered', '1 lb fresh broccoli, broken into big pieces (florets and stems)', '4 tablespoons butter', '1 tablespoon flour', '1 teaspoon salt', '1 teaspoon pepper', '3 ounces cream cheese', '1 cup grated cheese (cheddar or colby or mozza-I like to mix cheddar and colby)', '1 cup milk', '1 cup breadcrumbs']",
         "['[\"Cook onion and broccoli in boiling water for 8 minutes', 'Drain and put in a large casserole dish', '\", \"Melt 2 tbsp butter over low heat', 'Add flour, salt & pepper', 'Add milk, stirring until thick and bubbly', 'Add the cream cheese, stirring until melted', 'Pour sauce over veggies', 'Sprinkle grated cheese over top', '\", \"Cover and bake at 350 degrees for 30 minutes', 'While cooking, melt 2 tbsp butter and mix with the breadcrumbs', '\", \"After 30 minutes, add the breadcrumbs to the casserole and bake uncovered for another 30 minutes', '\"]']",
         "breadcrumb, broccoli broken piece, butter, cheese, cream cheese, flour, milk, onion quartered, pepper"
        ],
        [
         "400900",
         "Mom'S Coconut Cake",
         "['1 pkg. yellow cake mix', '1 1/2 c. milk', '1/2 c. sugar', '2 c. coconut', '3 1/2 c. (1 container) Cool Whip']",
         "['[\"Prepare cake mix\", \"as directed on package in 13 x 9-inch pan', 'Cool 15 minutes, then poke holes in cake with fork', '\"]']",
         "coconut, cool whip, milk, sugar, yellow cake mix"
        ],
        [
         "2182246",
         "Brown Sugar Pound Cake",
         "['1 1/2 cup butter (softened)', '2 cup light brown sugar (packed)', '1 cup granulated sugar', '5 large eggs', '3 cup all-purpose flour', '1 tsp baking powder', '1/2 tsp salt', '1 cup whole milk', '8 oz toffee chips', '1 cup pecans (chopped)']",
         "['[\"Preheat oven to 325f\", \"Spray bundt pan with cooking spray, dust with flour\", \"Beat butter until creamy', '\", \"Add sugar and beat until fluffy', '\", \"Mix in eggs, one at a time', '\", \"In a medium bowl, combine flour, baking powder and salt\", \"Add dry ingredients into batter alternately with the milk', '\", \"Beat until just combined\", \"Stir in toffee bits and pecans\", \"Pour batter into pan and bake for 85 minutes or until wooden pick comes out clean', '\", \"To prevent excess browning, cover cake with foil while baking\", \"Let cake cool in the pan for 10 minutes', '\", \"Remove and let cool completely on a wire rack\"]']",
         "allpurpose flour, baking powder, brown sugar, butter, egg, granulated sugar, milk, pecan, toffee chip"
        ],
        [
         "1008815",
         "Homemade Jell-O Pudding Pops",
         "['1 (3 1/2 ounce) box white chocolate jell-o instant pudding mix', '2 cups milk', 'red and blue food coloring']",
         "['[\"Mix milk and pudding in bowl for 2 minutes', '\", \"Divide into 3 equal portions', '\", \"Color 1 portion red with about 15 drops of food coloring', '\", \"Color 1 portion blue with about 15 drops of food coloring', '\", \"Transfer each color to a zippered sandwich bag', '\", \"Clip the corner of the blue and pipe it equally into the bottom of 5 (3 ounce) Dixie Cups', '\", \"Lift and gently tap each cup on the counter to level up the pudding', '\", \"Repeat the process with white and then red colors', '\", \"Insert a popsicle stick in the middle of each cup and place in the freezer for 4-5 hours or until firm', '\"]']",
         "milk, red blue food coloring, white chocolate jello instant pudding mix"
        ],
        [
         "1326050",
         "Miss Ollie'S Jerk Chicken ",
         "['1 bunch chives, cut into 1-inch pieces', '4-8 Scotch bonnet chiles or habanero chiles', '5 garlic cloves, crushed', '3/4 cup malt vinegar', '3/4 cup soy sauce', '2 tablespoons Jamaican rum', '2 tablespoons Diamond Crystal or 1 tablespoon Morton kosher salt', '2 1/2 teaspoons ground allspice', '1 1/2 teaspoons ground nutmeg', '3/4 teaspoon ground cloves', '8 pieces skin-on, bone-in chicken legs (about 6 pounds total), drumsticks and thighs separated, patted dry', 'Vegetable oil (for grill)']",
         "['[\"Blend chives, chiles, garlic, vinegar, soy sauce, rum, salt, allspice, nutmeg, and cloves in a blender until smooth', 'Place chicken in a large bowl and pour jerk marinade over', 'Turn thighs and drumsticks several times to coat', 'Cover and chill, turning chicken pieces once, at least 2 hours and up to 1 day', '\", \"Remove chicken from marinade, wiping off any excess, and let come to room temperature, about 30 minutes', 'Discard marinade', '\", \"Prepare grill for 2-zone heat (for a charcoal grill, bank two-thirds of coals on one half of grill and scatter remaining coals over other side; for a gas grill, set one burner to high heat and the remaining burners to medium-low heat)', 'Lightly brush grate with oil', 'Arrange chicken drumsticks and thighs, skin side down, on grate over hottest part of grill and grill, turning halfway through, until lightly charred, 5-10 minutes', 'Move chicken to cooler part of grill and continue to grill, turning several times, until an instant-read thermometer inserted into the thickest part registers 165\\\\u00b0F, 20-25 minutes longer', '\", \"Transfer chicken to a platter and let rest 10 minutes before serving', '\"]']",
         "allspice, bunch chive inch piece, clove, garlic clove, jamaican rum, malt vinegar, nutmeg, piece skinon bonein chicken leg drumstick thigh separated patted dry, scotch bonnet chile habanero chile, soy sauce"
        ],
        [
         "2073452",
         "Pizza Stew",
         "['6 ounces bacon canadian', '9 cups tomato sauce', '1 1/2 cup water', '12 tablespoons onions chopped', '6 tablespoons mushrooms pieces', '6 tablespoons olives black, pitted, chopped', '6 tablespoons celery chopped', '6 tablespoons sweet red bell peppers green, chopped', '2 teaspoons oregano', '1 teaspoon garlic powder', '1 x salt to taste', '3 cups pasta, elbow macaroni cooked']",
         "['[\"Fry canadian bacon', '\", \"Drain and cut away any fat', '\", \"Heat tomato sauce and water to a boil', '\", \"Add bacon, vegetables, and seasonings', '\", \"Cook until vegetables are tender', '\", \"Add macaroni, reheat', '\"]']",
         "bacon canadian, celery, garlic powder, mushroom piece, olive black pitted, onion, oregano, pasta elbow macaroni, sweet red bell pepper green, tomato sauce"
        ],
        [
         "871100",
         "Fruit Punch",
         "['1 large can grapefruit juice', '1 large can orange juice', '1 large can pineapple juice', '1 small bottle lemon juice', '2 1/2 lb. sugar', '1 Tbsp. citric acid']",
         "['[\"Mix together and add enough water to make 2 1/2 gallons', '\", \"Put in freezer 24 hours before serving time', '\", \"Keep stirred so it will be slushy when ready to serve', '\", \"Add one or two bottles of ginger ale at serving time for the desired consistency', '\"]']",
         "citric acid, grapefruit juice, orange juice, pineapple juice, small lemon juice, sugar"
        ],
        [
         "679099",
         "Overnight Chicken Casserole(Yields 8 To 10 Servings)  ",
         "['8 slices day old bread', '4 c. chopped cooked chicken', '1 (4 1/2 oz.) jar sliced mushrooms, drained', '4 eggs', '2 c. milk', '1/2 c. mayonnaise', '1/2 tsp. salt', '6 to 8 slices (6 oz.) American cheese', '1 can cream of celery soup', '1 can cream of mushroom soup', '2 Tbsp. margarine, melted']",
         "['[\"Remove the crusts from bread and set aside', '\", \"Arrange bread slices in a greased 13 x 9 x 2-inch baking dish', '\", \"Top with chicken; cover with the mushrooms', '\", \"In a bowl, beat eggs; blend in milk, mayonnaise and salt', '\", \"Pour over chicken', '\", \"Arrange cheese on top', '\", \"Combine soups and pour over cheese', '\", \"Cover and refrigerate overnight', '\", \"Before baking, crumble crusts; toss with melted butter and sprinkle over casserole', '\", \"Bake, uncovered, at 325\\\\u00b0 for 1 1/4 hours or until set', '\", \"Let stand 10 minutes', '\"]']",
         "chicken, cream celery soup, cream mushroom soup, egg, margarine, mayonnaise, milk, mushroom, slice american cheese, slice day old bread"
        ],
        [
         "993468",
         "Buttery Baked Potato Slices",
         "['3 -4 medium baking potatoes, scrubbed', '2 tablespoons butter or 2 tablespoons margarine, melted', 'salt', '2 tablespoons vegetable oil', 'sour cream (optional)']",
         "['[\"Preheat oven to 450', '\", \"Slice potatoes into 1/4 inch thick rounds and place into a lightly greased baking pan', '\", \"Mix butter and oil, and brush lightly over potatoes', 'Sprinkle with salt', '\", \"Bake for 40 minutes, or until potatoes are tender', '\", \"Serve with sour cream spread over top or on the side', '\"]']",
         "baking potato scrubbed, butter margarine, sour cream"
        ],
        [
         "1320720",
         "Cornbread ",
         "['1/4 c. oil', '1 c. cornmeal', '1 c. flour', '1 T. baking powder', '1-2 T. sugar', '1/2 t. salt', '1 c. milk', '1 egg beaten']",
         "['[\"oil bottom of 8 in square pan', '\", \"add all ingredients\", \"bake in preheated 350 oven until done', '\"]']",
         "baking powder, cornmeal, egg, flour, milk, sugar"
        ],
        [
         "2177855",
         "Shrimp Scampi",
         "['1 pound Linguine Cooked In Salted Water According To Package Instructions, Then Drained And Liquid Reserved', '2 Tablespoons Butter', '2 Tablespoons Olive Oil', '1 whole Shallot, Diced', '1 whole Lemon Zest, Grated', '1 pinch Red Pepper Flakes (optional)', '1 pound Shrimp Peeled And Deveined, Tails Optional', '1- 1/2 cup Cooked Pasta Water Reserved', '3/4 cups White Wine (Pinot Grigio Is Good)', '1 whole Lemon, Juiced', '1 cup Freshly Grated Parmesan']",
         "['[\"Cook pasta in salted water until 1 minute short of what the package specifies for al dente', '\", \"This should be approximately 8 minutes but see package cook times', '\", \"When its done, drain the pasta but first reserve 2 cups of the pasta water for later use', '\", \"While pasta cooks heat butter and olive oil in a saute pan over high heat', '\", \"Add shallot and saute until lightly browned', '\", \"Add lemon zest, red pepper flakes and shrimp', '\", \"Cook shrimp until almost pink on 1 side (about 2-3 minutes) then turn it over and cook for another minute on the other side', '\", \"When shrimp are almost cooked (they should still be a bit translucent) remove the mixture from the skillet into a bowl and set aside', '\", \"Add 1 1/2 cups of the reserved pasta water, white wine, and the pasta to the pan that the shrimp was in and toss to coat', '\", \"Cook for about 1-2 minutes over medium low heat, covered with a lid until most of the liquid has been absorbed and a sauce has formed*', '\", \"Add parsley and the shrimp mixture', '\", \"Cook for another minute or so, to finish cooking the shrimp', '\", \"Plate it, squeeze fresh lemon juice over the top and top with parmesan', '\", \"* Hint if pasta is too dry from over cooking add 1/4 cup additional pasta water', '\"]']",
         "butter, lemon juiced, lemon zest, parmesan, red pepper flake, shallot, shrimp deveined tail, white wine"
        ],
        [
         "1279796",
         "Eggplant Raita ",
         "['1/4 c. ghee or canola oil', '1 lb. eggplant, peeled + cut crosswise into 1/4-inch cube', '1 med red onion, sliced', '4 c. plain yogurt', '1/2 tsp. ground black pepper', 'pinch cayenne pepper', '1/4 c. fresh mint, finely chopped', '1/2 tsp. ground cumin, toasted', '1/4 tsp. paprika', '1/4 tsp. salt', 'pinch ground cumin, toasted', 'pinch paprika']",
         "['[\"1', 'Heat oil in pan', 'Add onions and cook, stirring, until golden brown, approx', '5 min', 'Add salt and immediately add the garlic and cook, stirring for 1 min', '\", \"\", \"2', 'Add eggplant and cook until lightly colored on all sides', '\", \"\", \"3', 'Whisk the yogurt w/ the pepper, cayenne, and mint in a bowl until smooth and lightened', '\", \"\", \"4', 'Stir the eggplant/onions into the blended yogurt and chill well', '\", \"\", \"5', 'Stir in the salt and sprinkle w/ the ground cumin + paprika just before serving', '\"]']",
         "black pepper, cayenne pepper, cumin toasted, eggplant crosswise inch cube, med red onion, mint, paprika, plain yogurt"
        ]
       ],
       "shape": {
        "columns": 4,
        "rows": 1562336
       }
      },
      "text/html": [
       "<div>\n",
       "<style scoped>\n",
       "    .dataframe tbody tr th:only-of-type {\n",
       "        vertical-align: middle;\n",
       "    }\n",
       "\n",
       "    .dataframe tbody tr th {\n",
       "        vertical-align: top;\n",
       "    }\n",
       "\n",
       "    .dataframe thead th {\n",
       "        text-align: right;\n",
       "    }\n",
       "</style>\n",
       "<table border=\"1\" class=\"dataframe\">\n",
       "  <thead>\n",
       "    <tr style=\"text-align: right;\">\n",
       "      <th></th>\n",
       "      <th>title</th>\n",
       "      <th>ingredients</th>\n",
       "      <th>instructions</th>\n",
       "      <th>ingredients_clean</th>\n",
       "    </tr>\n",
       "  </thead>\n",
       "  <tbody>\n",
       "    <tr>\n",
       "      <th>2098391</th>\n",
       "      <td>Stays Crispy! Our Family's Tempura</td>\n",
       "      <td>[\"1 rice bowl's worth Cake flour\", '4 Ice cube...</td>\n",
       "      <td>['[\"Prepare the ingredients: Prepare ingredien...</td>\n",
       "      <td>ice cube, main ingredient, rice bowl worth cak...</td>\n",
       "    </tr>\n",
       "    <tr>\n",
       "      <th>487096</th>\n",
       "      <td>Summer Squash With Taste</td>\n",
       "      <td>['3 slices bacon, diced', '1 large onion, chop...</td>\n",
       "      <td>['[\"Place bacon and onion in medium saucepan o...</td>\n",
       "      <td>onion, pepper taste, slice bacon, small summer...</td>\n",
       "    </tr>\n",
       "    <tr>\n",
       "      <th>529457</th>\n",
       "      <td>Raw Apple Cake</td>\n",
       "      <td>['1/2 tsp. salt', '2 cups sugar', '3 cup flour...</td>\n",
       "      <td>['[\"Mix ingredients by hand DO NOT USE MIXER',...</td>\n",
       "      <td>apple, cinnamon, egg slightly, flour, pecan, s...</td>\n",
       "    </tr>\n",
       "    <tr>\n",
       "      <th>1314823</th>\n",
       "      <td>Corpse Reviver 3000</td>\n",
       "      <td>['3/4 ounce Tenneyson Absinthe Royale or other...</td>\n",
       "      <td>['[\"Combine the absinthe, St-Germain, orange l...</td>\n",
       "      <td>orange coin garnish, orange liqueuer, squeezed...</td>\n",
       "    </tr>\n",
       "    <tr>\n",
       "      <th>1049118</th>\n",
       "      <td>Quail In The Limelight</td>\n",
       "      <td>['1 medium lime', '6 quail, cleaned and halved...</td>\n",
       "      <td>['[\"About 1 hour before serving: Separately, g...</td>\n",
       "      <td>allpurpose flour, avocado garnish, dried mint,...</td>\n",
       "    </tr>\n",
       "    <tr>\n",
       "      <th>...</th>\n",
       "      <td>...</td>\n",
       "      <td>...</td>\n",
       "      <td>...</td>\n",
       "      <td>...</td>\n",
       "    </tr>\n",
       "    <tr>\n",
       "      <th>732180</th>\n",
       "      <td>Fruit Dip</td>\n",
       "      <td>['2 c. light brown sugar', '1 c. sour cream']</td>\n",
       "      <td>['[\"Mix well and chill thoroughly', 'Serve wit...</td>\n",
       "      <td>brown sugar, sour cream</td>\n",
       "    </tr>\n",
       "    <tr>\n",
       "      <th>110268</th>\n",
       "      <td>Baked Crab Cakes</td>\n",
       "      <td>['1/4 c. butter or margarine', '1/2 c. chopped...</td>\n",
       "      <td>['[\"Saute onion and pepper in margarine or but...</td>\n",
       "      <td>butter margarine, crab meat, cracker crumb, dr...</td>\n",
       "    </tr>\n",
       "    <tr>\n",
       "      <th>1692743</th>\n",
       "      <td>Cappuccino Creme Caramel</td>\n",
       "      <td>['120 g sugar', '12 cup water', '12 cup milk, ...</td>\n",
       "      <td>['[\"Boil sugar and water until golden', '\", \"P...</td>\n",
       "      <td>egg, instant coffee, milk warmed, sour cream, ...</td>\n",
       "    </tr>\n",
       "    <tr>\n",
       "      <th>2229084</th>\n",
       "      <td>Creamy Roasted Garlic Hummus</td>\n",
       "      <td>['5 cloves (large) Garlic, Peeled', '1 Tablesp...</td>\n",
       "      <td>['[\"Preheat oven to 400 degrees F', 'Line a ba...</td>\n",
       "      <td>chickpea skin removed, clove garlic, lemon jui...</td>\n",
       "    </tr>\n",
       "    <tr>\n",
       "      <th>2219110</th>\n",
       "      <td>Mathris</td>\n",
       "      <td>['1 cup flour', '1 Tbsp. dried fenugreek leave...</td>\n",
       "      <td>['[\"Heat oven to 350 degrees F', '\", \"Use puls...</td>\n",
       "      <td>ajwain, butter, classico pesto di sardegna sun...</td>\n",
       "    </tr>\n",
       "  </tbody>\n",
       "</table>\n",
       "<p>1562336 rows × 4 columns</p>\n",
       "</div>"
      ],
      "text/plain": [
       "                                      title  \\\n",
       "2098391  Stays Crispy! Our Family's Tempura   \n",
       "487096             Summer Squash With Taste   \n",
       "529457                       Raw Apple Cake   \n",
       "1314823                Corpse Reviver 3000    \n",
       "1049118              Quail In The Limelight   \n",
       "...                                     ...   \n",
       "732180                            Fruit Dip   \n",
       "110268                     Baked Crab Cakes   \n",
       "1692743            Cappuccino Creme Caramel   \n",
       "2229084        Creamy Roasted Garlic Hummus   \n",
       "2219110                             Mathris   \n",
       "\n",
       "                                               ingredients  \\\n",
       "2098391  [\"1 rice bowl's worth Cake flour\", '4 Ice cube...   \n",
       "487096   ['3 slices bacon, diced', '1 large onion, chop...   \n",
       "529457   ['1/2 tsp. salt', '2 cups sugar', '3 cup flour...   \n",
       "1314823  ['3/4 ounce Tenneyson Absinthe Royale or other...   \n",
       "1049118  ['1 medium lime', '6 quail, cleaned and halved...   \n",
       "...                                                    ...   \n",
       "732180       ['2 c. light brown sugar', '1 c. sour cream']   \n",
       "110268   ['1/4 c. butter or margarine', '1/2 c. chopped...   \n",
       "1692743  ['120 g sugar', '12 cup water', '12 cup milk, ...   \n",
       "2229084  ['5 cloves (large) Garlic, Peeled', '1 Tablesp...   \n",
       "2219110  ['1 cup flour', '1 Tbsp. dried fenugreek leave...   \n",
       "\n",
       "                                              instructions  \\\n",
       "2098391  ['[\"Prepare the ingredients: Prepare ingredien...   \n",
       "487096   ['[\"Place bacon and onion in medium saucepan o...   \n",
       "529457   ['[\"Mix ingredients by hand DO NOT USE MIXER',...   \n",
       "1314823  ['[\"Combine the absinthe, St-Germain, orange l...   \n",
       "1049118  ['[\"About 1 hour before serving: Separately, g...   \n",
       "...                                                    ...   \n",
       "732180   ['[\"Mix well and chill thoroughly', 'Serve wit...   \n",
       "110268   ['[\"Saute onion and pepper in margarine or but...   \n",
       "1692743  ['[\"Boil sugar and water until golden', '\", \"P...   \n",
       "2229084  ['[\"Preheat oven to 400 degrees F', 'Line a ba...   \n",
       "2219110  ['[\"Heat oven to 350 degrees F', '\", \"Use puls...   \n",
       "\n",
       "                                         ingredients_clean  \n",
       "2098391  ice cube, main ingredient, rice bowl worth cak...  \n",
       "487096   onion, pepper taste, slice bacon, small summer...  \n",
       "529457   apple, cinnamon, egg slightly, flour, pecan, s...  \n",
       "1314823  orange coin garnish, orange liqueuer, squeezed...  \n",
       "1049118  allpurpose flour, avocado garnish, dried mint,...  \n",
       "...                                                    ...  \n",
       "732180                             brown sugar, sour cream  \n",
       "110268   butter margarine, crab meat, cracker crumb, dr...  \n",
       "1692743  egg, instant coffee, milk warmed, sour cream, ...  \n",
       "2229084  chickpea skin removed, clove garlic, lemon jui...  \n",
       "2219110  ajwain, butter, classico pesto di sardegna sun...  \n",
       "\n",
       "[1562336 rows x 4 columns]"
      ]
     },
     "execution_count": 21,
     "metadata": {},
     "output_type": "execute_result"
    }
   ],
   "source": [
    "train_df"
   ]
  },
  {
   "cell_type": "code",
   "execution_count": null,
   "id": "6fa9ca9b",
   "metadata": {},
   "outputs": [],
   "source": [
    "# 2) Start an MLflow run\n",
    "with mlflow.start_run(run_name=\"tfidf_knn_training\") as run:\n",
    "    # Log parameters\n",
    "    params = {\n",
    "        \"tfidf_max_features\": 500,\n",
    "        \"tfidf_ngram_range\": (1, 2),\n",
    "        \"nn_n_neighbors\": 10,\n",
    "        \"nn_metric\": \"cosine\",\n",
    "    }\n",
    "    for k, v in params.items():\n",
    "        mlflow.log_param(k, v)\n",
    "\n",
    "    # 3) Vectorize\n",
    "    vectorizer = TfidfVectorizer(max_features=params[\"tfidf_max_features\"],\n",
    "                                 ngram_range=params[\"tfidf_ngram_range\"])\n",
    "    train_vectors = vectorizer.fit_transform(train_df[\"ingredients\"])\n",
    "\n",
    "    # 4) Fit NearestNeighbors\n",
    "    nn_model = NearestNeighbors(n_neighbors=params[\"nn_n_neighbors\"],\n",
    "                                metric=params[\"nn_metric\"])\n",
    "    nn_model.fit(train_vectors)\n",
    "\n",
    "    # 5) (Optional) Evaluate on test set: example average similarity\n",
    "    test_vecs = vectorizer.transform(test_df[\"ingredients\"])\n",
    "    sims = cosine_similarity(test_vecs, train_vectors)\n",
    "    avg_sim = sims.max(axis=1).mean()\n",
    "    mlflow.log_metric(\"test_avg_max_similarity\", float(avg_sim))\n",
    "\n",
    "    # 6) Log models to MLflow Model Registry\n",
    "    #    - vectorizer\n",
    "    mlflow.sklearn.log_model(\n",
    "        sk_model=vectorizer,\n",
    "        artifact_path=\"vectorizer\",\n",
    "        registered_model_name=\"PantryPaletteVectorizer\"\n",
    "    )\n",
    "    #    - nearest‑neighbors (as a sklearn model)\n",
    "    mlflow.sklearn.log_model(\n",
    "        sk_model=nn_model,\n",
    "        artifact_path=\"nn_model\",\n",
    "        registered_model_name=\"PantryPaletteNNModel\"\n",
    "    )\n",
    "\n",
    "    # 7) Save and log your training DataFrame\n",
    "    os.makedirs(\"processed_dataset\", exist_ok=True)\n",
    "    train_csv = \"processed_dataset/train_data.csv\"\n",
    "    train_df.to_csv(train_csv, index=False)\n",
    "    mlflow.log_artifact(train_csv, artifact_path=\"training_data\")\n",
    "\n",
    "print(\"✅ Training run logged in MLflow!\")"
   ]
  },
  {
   "cell_type": "markdown",
   "id": "7e047a78-0b43-4d29-ad62-e330ba6c7e29",
   "metadata": {},
   "source": [
    "## Model Development\n",
    "\n",
    "- Train NLP-based model"
   ]
  },
  {
   "cell_type": "code",
   "execution_count": 23,
   "id": "2873c1a6",
   "metadata": {},
   "outputs": [],
   "source": [
    "def find_similar_recipes(user_input, vectorizer, nn_model, train_df):\n",
    "    \"\"\"\n",
    "    Finds the top 10 similar recipes based on user's ingredients input and shows similarity score.\n",
    "    \"\"\"\n",
    "    user_cleaned = preprocess_user_ingredients(user_input)\n",
    "    print(f\"\\n🔍 Processed Input: {user_cleaned}\")\n",
    "    \n",
    "    # Vectorize the cleaned user input using the improved TF-IDF vectorizer\n",
    "    user_vector = vectorizer.transform([user_cleaned])\n",
    "    distances, indices = nn_model.kneighbors(user_vector)\n",
    "\n",
    "    print(\"\\n🍽️ Top 10 similar recipes:\\n\")\n",
    "    for i, (idx, dist) in enumerate(zip(indices[0], distances[0])):\n",
    "        similarity_score = round((1 - dist) * 100, 2)  # Convert cosine distance to percentage similarity\n",
    "        title = train_df.iloc[idx]['title'] if 'title' in train_df.columns else 'N/A'\n",
    "        ingredients = train_df.iloc[idx]['ingredients']\n",
    "        ingredients_clean = train_df.iloc[idx]['ingredients_clean']\n",
    "\n",
    "        print(f\"{i+1}. Title: {title}\")\n",
    "        print(f\"   Similarity: {similarity_score}%\")\n",
    "        print(f\"   Ingredients: {ingredients}\")\n",
    "        print(f\"   Cleaned Ingredients: {ingredients_clean}\\n\")"
   ]
  },
  {
   "cell_type": "code",
   "execution_count": 24,
   "id": "0b74052d",
   "metadata": {},
   "outputs": [
    {
     "name": "stdout",
     "output_type": "stream",
     "text": [
      "\n",
      "🔍 Processed Input: egg, maida, milk, pasta, sugar\n",
      "\n",
      "🍽️ Top 10 similar recipes:\n",
      "\n",
      "1. Title: For Character Bento: Locks of Hair for a Wiener Sausage\n",
      "   Similarity: 73.81%\n",
      "   Ingredients: ['1 Wiener sausages', '1 few Pasta']\n",
      "   Cleaned Ingredients: pasta, wiener sausage\n",
      "\n",
      "2. Title: Fresh Lasagna & Cannelloni\n",
      "   Similarity: 73.81%\n",
      "   Ingredients: ['1 Pasta dough']\n",
      "   Cleaned Ingredients: pasta dough\n",
      "\n",
      "3. Title: Pasta Baszul Recipe\n",
      "   Similarity: 73.81%\n",
      "   Ingredients: ['pasta', 'bazul']\n",
      "   Cleaned Ingredients: bazul, pasta\n",
      "\n",
      "4. Title: Pasta With Pesto \n",
      "   Similarity: 73.81%\n",
      "   Ingredients: ['pesto', 'Pasta']\n",
      "   Cleaned Ingredients: pasta, pesto\n",
      "\n",
      "5. Title: Lasagna\n",
      "   Similarity: 73.81%\n",
      "   Ingredients: ['lasagna', 'pasta']\n",
      "   Cleaned Ingredients: lasagna, pasta\n",
      "\n",
      "6. Title: Hot Dog Octipi \n",
      "   Similarity: 68.1%\n",
      "   Ingredients: ['hot dogs', 'Spinach pasta or other veggie pasta', 'velvita', 'milk', 'salsa']\n",
      "   Cleaned Ingredients: hot dog, milk, salsa, spinach pasta veggie pasta, velvita\n",
      "\n",
      "7. Title: Egg Custard\n",
      "   Similarity: 67.47%\n",
      "   Ingredients: ['1 egg', '2 c. milk', '1/2 c. sugar', '2 c. cornflakes']\n",
      "   Cleaned Ingredients: cornflakes, egg, milk, sugar\n",
      "\n",
      "8. Title: Baked Orange Custard Recipe\n",
      "   Similarity: 67.47%\n",
      "   Ingredients: ['4 x navel oranges', '1/2 c. sugar', '2 1/2 c. skim lowfat milk', '1 c. egg substitute']\n",
      "   Cleaned Ingredients: egg substitute, navel orange, skim lowfat milk, sugar\n",
      "\n",
      "9. Title: Mary Maude's Black Bottom Pie Recipe\n",
      "   Similarity: 67.47%\n",
      "   Ingredients: ['1 c. lowfat milk', '2 egg yolks', '3/4 c. sugar']\n",
      "   Cleaned Ingredients: egg yolk, lowfat milk, sugar\n",
      "\n",
      "10. Title: Instant Pot Mac and Cheese\n",
      "   Similarity: 67.37%\n",
      "   Ingredients: ['whole', 'milk', 'chees', 'butter', 'elbow', 'pasta']\n",
      "   Cleaned Ingredients: butter, chees, elbow, milk, pasta\n",
      "\n"
     ]
    }
   ],
   "source": [
    "user_input = \"milk, eggs, sugar, pasta, maida\"\n",
    "find_similar_recipes(user_input, vectorizer, nn, train_df)"
   ]
  },
  {
   "cell_type": "code",
   "execution_count": 25,
   "id": "6ce8a132",
   "metadata": {},
   "outputs": [
    {
     "name": "stdout",
     "output_type": "stream",
     "text": [
      "\n",
      "🔍 Processed Input: garlic, onion, tomato\n",
      "\n",
      "🍽️ Top 10 similar recipes:\n",
      "\n",
      "1. Title: Three Cheese Baked Ziti\n",
      "   Similarity: 76.22%\n",
      "   Ingredients: ['ziti', 'mozzarella', 'chees', 'garlic', 'crush', 'red', 'pepper', 'flake', 'provolon', 'chees', 'crush', 'tomato', 'pancetta', 'onion', 'mascarpon', 'chees', 'tomato', 'sauc', 'tomato', 'past']\n",
      "   Cleaned Ingredients: chees, crush, flake, garlic, mascarpon, mozzarella, onion, pancetta, past, pepper, provolon, red, sauc, tomato, ziti\n",
      "\n",
      "2. Title: Punjabi Sookhi Urad Daal\n",
      "   Similarity: 73.09%\n",
      "   Ingredients: ['tomato', 'asafoetida']\n",
      "   Cleaned Ingredients: asafoetida, tomato\n",
      "\n",
      "3. Title: Loaded Caprese Grilled Cheese\n",
      "   Similarity: 72.75%\n",
      "   Ingredients: ['mozzarella', 'chees', 'cherri', 'tomato', 'pesto', 'balsam', 'vinegar', 'garlic', 'garlic', 'butter', 'tomato', 'sauc']\n",
      "   Cleaned Ingredients: balsam, butter, chees, cherri, garlic, mozzarella, pesto, sauc, tomato, vinegar\n",
      "\n",
      "4. Title: Roasted Tomato Puttanesca\n",
      "   Similarity: 69.07%\n",
      "   Ingredients: ['pit', 'oliv', 'cherri', 'grape', 'tomato', 'caper', 'garlic', 'spaghetti', 'juic', 'lemon', 'white', 'button', 'mushroom', 'tomato', 'onion', 'basil', 'butter']\n",
      "   Cleaned Ingredients: basil, butter, button, caper, cherri, garlic, grape, juic, lemon, mushroom, oliv, onion, pit, spaghetti, tomato, white\n",
      "\n",
      "5. Title: Jellied Moose Nose\n",
      "   Similarity: 68.24%\n",
      "   Ingredients: ['1 moose nose', 'onion', 'garlic', 'pickling spices']\n",
      "   Cleaned Ingredients: garlic, moose nose, onion, pickling spice\n",
      "\n",
      "6. Title: Jellied Moose Nose\n",
      "   Similarity: 68.24%\n",
      "   Ingredients: ['1 moose nose', 'onion', 'garlic', 'pickling spice']\n",
      "   Cleaned Ingredients: garlic, moose nose, onion, pickling spice\n",
      "\n",
      "7. Title: Quick Caliente Salsa\n",
      "   Similarity: 66.46%\n",
      "   Ingredients: [\"3 Chile's Serranos\", '1 Tomato', '1 Salt']\n",
      "   Cleaned Ingredients: chile serranos, tomato\n",
      "\n",
      "8. Title: Mom'S Squash & Zuchinni Casserole \n",
      "   Similarity: 66.27%\n",
      "   Ingredients: ['squash', 'zuchinni', 'tomato', 'onion', 'parmesean', 'carzy salt / basil', 'garlic salt / pepper']\n",
      "   Cleaned Ingredients: onion, parmesean, squash, tomato, zuchinni\n",
      "\n",
      "9. Title: Basic Garlic Butter Tomato Sauce\n",
      "   Similarity: 65.57%\n",
      "   Ingredients: ['balsam', 'vinegar', 'garlic', 'butter', 'cherri', 'tomato']\n",
      "   Cleaned Ingredients: balsam, butter, cherri, garlic, tomato, vinegar\n",
      "\n",
      "10. Title: Pesto Ketchup\n",
      "   Similarity: 62.24%\n",
      "   Ingredients: ['1 1/4 quarts ketchup (recommended: Heinz Tomato Ketchup)', '2 cups prepared pesto']\n",
      "   Cleaned Ingredients: ketchup, prepared pesto\n",
      "\n"
     ]
    }
   ],
   "source": [
    "user_input = \"onion, tomato, garlic\"\n",
    "find_similar_recipes(user_input, vectorizer, nn, train_df)"
   ]
  },
  {
   "cell_type": "code",
   "execution_count": 26,
   "id": "5e6d4a23",
   "metadata": {},
   "outputs": [],
   "source": [
    "import joblib\n",
    "\n",
    "os.makedirs(\"../models\", exist_ok=True)\n",
    "\n",
    "# Save vectorizer and nearest neighbors model\n",
    "joblib.dump(vectorizer, \"../models/tfidf_vectorizer.pkl\")\n",
    "joblib.dump(nn, \"../models/nearest_neighbors_model.pkl\")\n",
    "\n",
    "# Optionally save the training DataFrame (with titles + ingredients)\n",
    "train_df.to_csv(\"../processed_dataset/trained_data.csv\", index=False)"
   ]
  },
  {
   "cell_type": "markdown",
   "id": "4cbd2dfd",
   "metadata": {},
   "source": [
    "## Docker Containers"
   ]
  },
  {
   "cell_type": "raw",
   "id": "d622fd28",
   "metadata": {},
   "source": [
    "# Use official Python image as a base\n",
    "FROM python:3.9\n",
    "\n",
    "# Set the working directory inside the container\n",
    "WORKDIR /app\n",
    "\n",
    "# Copy all files from the current directory to the container\n",
    "COPY . .\n",
    "\n",
    "# Install dependencies\n",
    "RUN pip install --no-cache-dir -r requirements.txt\n",
    "\n",
    "# Expose the port Streamlit runs on\n",
    "EXPOSE 8501\n",
    "\n",
    "# Command to run the Streamlit app\n",
    "CMD [\"streamlit\", \"run\", \"app.py\", \"--server.port=8501\", \"--server.address=0.0.0.0\"]"
   ]
  },
  {
   "cell_type": "markdown",
   "id": "85289775-75a5-4914-80e0-bd093f080c37",
   "metadata": {},
   "source": [
    "## UI Development\n",
    "\n",
    "- Streamlit"
   ]
  },
  {
   "cell_type": "markdown",
   "id": "3b63939d-bbee-483b-a31b-3c16a4cc00ae",
   "metadata": {},
   "source": [
    "## Model Monitoring\n",
    "\n",
    "- PowerBI"
   ]
  },
  {
   "cell_type": "markdown",
   "id": "f0a7b33c-47eb-403c-af06-833e3e8358ed",
   "metadata": {},
   "source": [
    "<center><h4>Enjoy Your Perfect Recipe! 🍽️</h4></center>\n",
    "<center>Designed By: Madhurya Shankar & Sandhya Kilari</center>"
   ]
  }
 ],
 "metadata": {
  "kernelspec": {
   "display_name": "sk",
   "language": "python",
   "name": "python3"
  },
  "language_info": {
   "codemirror_mode": {
    "name": "ipython",
    "version": 3
   },
   "file_extension": ".py",
   "mimetype": "text/x-python",
   "name": "python",
   "nbconvert_exporter": "python",
   "pygments_lexer": "ipython3",
   "version": "3.13.1"
  }
 },
 "nbformat": 4,
 "nbformat_minor": 5
}
